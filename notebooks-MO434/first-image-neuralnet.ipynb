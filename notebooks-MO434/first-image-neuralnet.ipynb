{
 "cells": [
  {
   "cell_type": "markdown",
   "metadata": {},
   "source": [
    "### Example of a first neural net on images, modified from Hands-On ML with Scikit-Learn, Keras & TensorFlow"
   ]
  },
  {
   "cell_type": "code",
   "execution_count": 1,
   "metadata": {},
   "outputs": [],
   "source": [
    "import torch\n",
    "from torch import nn\n",
    "from torchvision import transforms, models, datasets\n",
    "from torchsummary import summary\n",
    "from torch import optim\n",
    "import matplotlib.pyplot as plt\n",
    "from torch_snippets import Report\n",
    "import numpy as np\n",
    "from torch.utils.data import DataLoader\n",
    "from torch.utils.data.sampler import SubsetRandomSampler"
   ]
  },
  {
   "cell_type": "code",
   "execution_count": 2,
   "metadata": {},
   "outputs": [
    {
     "name": "stdout",
     "output_type": "stream",
     "text": [
      "1.13.1\n"
     ]
    }
   ],
   "source": [
    "print(torch.__version__)\n",
    "#is GPU available?\n",
    "gpu = torch.cuda.is_available()\n",
    "\n",
    "#defining device where to to the computation\n",
    "device = torch.device(0) if gpu else torch.device('cpu')"
   ]
  },
  {
   "cell_type": "markdown",
   "metadata": {},
   "source": [
    "### Let's start by loading the training set of fashion MNIST. PyTorch has a number of functions to load popular datasets in 'torchvision.datasets'. The training set contains 60,000 grayscale images, each 28x28 pixels."
   ]
  },
  {
   "cell_type": "code",
   "execution_count": 3,
   "metadata": {},
   "outputs": [],
   "source": [
    "trainset = datasets.FashionMNIST(root='./images',train=True,transform=None,download=True)"
   ]
  },
  {
   "cell_type": "code",
   "execution_count": 4,
   "metadata": {},
   "outputs": [],
   "source": [
    "prep = transforms.Compose([\n",
    "    transforms.ToTensor(),\n",
    "    #transforms.Normalize((0.5,),(0.5,),)   \n",
    "])\n",
    "\n",
    "\n",
    "class FMNistDataset():\n",
    "    def __init__(self, dataset, transform=None): \n",
    "        self.dataset   = dataset\n",
    "        self.transform = transform\n",
    "\n",
    "    def __getitem__(self, index):\n",
    "        img, target = self.dataset[index]\n",
    "        return self.transform(img), target\n",
    "\n",
    "    def __len__(self):\n",
    "        return len(self.dataset)"
   ]
  },
  {
   "cell_type": "code",
   "execution_count": 5,
   "metadata": {},
   "outputs": [
    {
     "name": "stdout",
     "output_type": "stream",
     "text": [
      "Images are 28x28x1\n",
      "Class of the image:  Bag\n"
     ]
    },
    {
     "data": {
      "image/png": "[encoded data removed]",
      "text/plain": [
       "<Figure size 640x480 with 1 Axes>"
      ]
     },
     "metadata": {},
     "output_type": "display_data"
    }
   ],
   "source": [
    "class_names = [\"T-shirt/top\", \"Trouser\", \"Pullover\", \"Dress\", \"Coat\",\n",
    "               \"Sandal\", \"Shirt\", \"Sneaker\", \"Bag\", \"Ankle boot\"]\n",
    "\n",
    "dataset   = FMNistDataset(trainset,prep)\n",
    "(image, target) = dataset[100]\n",
    "nchannels = image.shape[0]\n",
    "height    = image.shape[1]\n",
    "width     = image.shape[2]\n",
    "image     = image.permute(1,2,0).numpy()\n",
    "image     = 255*(image - np.min(image))/(np.max(image)-np.min(image))\n",
    "image     = image.astype('uint8')\n",
    "print(\"Images are {}x{}x{}\".format(width,height,nchannels))\n",
    "plt.imshow(image)\n",
    "print(\"Class of the image: \", class_names[target])\n",
    "plt.show()"
   ]
  },
  {
   "cell_type": "markdown",
   "metadata": {},
   "source": [
    "### Let's split our training set into training, validationm and test sets by creating one data loader for each. "
   ]
  },
  {
   "cell_type": "code",
   "execution_count": 6,
   "metadata": {},
   "outputs": [],
   "source": [
    "indices      = list(range(len(dataset)))\n",
    "train_sample = SubsetRandomSampler(indices[:30000])\n",
    "valid_sample = SubsetRandomSampler(indices[30000:45000])\n",
    "test_sample  = SubsetRandomSampler(indices[45000:])\n",
    "trainloader  = DataLoader(dataset,sampler=train_sample,batch_size=64)\n",
    "validloader  = DataLoader(dataset,sampler=valid_sample,batch_size=64)\n",
    "testloader   = DataLoader(dataset,sampler=test_sample,batch_size=64)"
   ]
  },
  {
   "cell_type": "markdown",
   "metadata": {},
   "source": [
    "### Create your first NN on images"
   ]
  },
  {
   "cell_type": "markdown",
   "metadata": {},
   "source": [
    "Since this categorical image classification problem is simple, you may start by flattenning the input images into feature vectors to be the input of an MLP classifier. "
   ]
  },
  {
   "cell_type": "code",
   "execution_count": 7,
   "metadata": {},
   "outputs": [],
   "source": [
    "class FMNistNet(nn.Module):\n",
    "\n",
    "    def __init__(self, input_shape, nclasses=10):\n",
    "        super(FMNistNet, self).__init__()\n",
    "        \n",
    "        #defining a MLP classifier\n",
    "        self.classifier = nn.Sequential(\n",
    "            nn.Linear(in_features=input_shape[1]*input_shape[2], out_features=300, bias=True),\n",
    "            nn.ReLU(),\n",
    "            nn.Dropout(0.25),\n",
    "            nn.Linear(in_features=300, out_features=200, bias=True),\n",
    "            nn.ReLU(),\n",
    "            nn.Dropout(0.25),\n",
    "            nn.Linear(in_features=200, out_features=100, bias=True),\n",
    "            nn.ReLU(),\n",
    "            nn.Dropout(0.25),\n",
    "            nn.Linear(100, nclasses)\n",
    "        )\n",
    "\n",
    "        #initialize weights\n",
    "        self.weights_init()\n",
    "\n",
    "    def forward(self, x):\n",
    "       #transform image features into a vector   \n",
    "        x = torch.flatten(x, start_dim=1)\n",
    "\n",
    "        #classifies features\n",
    "        y = self.classifier(x)\n",
    "  \n",
    "        return y\n",
    "  \n",
    "    def weights_init(self):\n",
    "        for x in self.modules():\n",
    "            if isinstance(x, nn.Linear):\n",
    "                torch.nn.init.xavier_uniform_(x.weight.data)\n",
    "                if (x.bias is not None): \n",
    "                    x.bias.data.zero_()\n",
    "                    "
   ]
  },
  {
   "cell_type": "markdown",
   "metadata": {},
   "source": [
    "### Build the model and define criterion and optimizer"
   ]
  },
  {
   "cell_type": "code",
   "execution_count": 8,
   "metadata": {},
   "outputs": [
    {
     "name": "stdout",
     "output_type": "stream",
     "text": [
      "FMNistNet(\n",
      "  (classifier): Sequential(\n",
      "    (0): Linear(in_features=784, out_features=300, bias=True)\n",
      "    (1): ReLU()\n",
      "    (2): Dropout(p=0.25, inplace=False)\n",
      "    (3): Linear(in_features=300, out_features=200, bias=True)\n",
      "    (4): ReLU()\n",
      "    (5): Dropout(p=0.25, inplace=False)\n",
      "    (6): Linear(in_features=200, out_features=100, bias=True)\n",
      "    (7): ReLU()\n",
      "    (8): Dropout(p=0.25, inplace=False)\n",
      "    (9): Linear(in_features=100, out_features=10, bias=True)\n",
      "  )\n",
      ")\n",
      "==========================================================================================\n",
      "Layer (type:depth-idx)                   Output Shape              Param #\n",
      "==========================================================================================\n",
      "├─Sequential: 1-1                        [-1, 10]                  --\n",
      "|    └─Linear: 2-1                       [-1, 300]                 235,500\n",
      "|    └─ReLU: 2-2                         [-1, 300]                 --\n",
      "|    └─Dropout: 2-3                      [-1, 300]                 --\n",
      "|    └─Linear: 2-4                       [-1, 200]                 60,200\n",
      "|    └─ReLU: 2-5                         [-1, 200]                 --\n",
      "|    └─Dropout: 2-6                      [-1, 200]                 --\n",
      "|    └─Linear: 2-7                       [-1, 100]                 20,100\n",
      "|    └─ReLU: 2-8                         [-1, 100]                 --\n",
      "|    └─Dropout: 2-9                      [-1, 100]                 --\n",
      "|    └─Linear: 2-10                      [-1, 10]                  1,010\n",
      "==========================================================================================\n",
      "Total params: 316,810\n",
      "Trainable params: 316,810\n",
      "Non-trainable params: 0\n",
      "Total mult-adds (M): 0.63\n",
      "==========================================================================================\n",
      "Input size (MB): 0.00\n",
      "Forward/backward pass size (MB): 0.00\n",
      "Params size (MB): 1.21\n",
      "Estimated Total Size (MB): 1.22\n",
      "==========================================================================================\n"
     ]
    },
    {
     "data": {
      "text/plain": [
       "==========================================================================================\n",
       "Layer (type:depth-idx)                   Output Shape              Param #\n",
       "==========================================================================================\n",
       "├─Sequential: 1-1                        [-1, 10]                  --\n",
       "|    └─Linear: 2-1                       [-1, 300]                 235,500\n",
       "|    └─ReLU: 2-2                         [-1, 300]                 --\n",
       "|    └─Dropout: 2-3                      [-1, 300]                 --\n",
       "|    └─Linear: 2-4                       [-1, 200]                 60,200\n",
       "|    └─ReLU: 2-5                         [-1, 200]                 --\n",
       "|    └─Dropout: 2-6                      [-1, 200]                 --\n",
       "|    └─Linear: 2-7                       [-1, 100]                 20,100\n",
       "|    └─ReLU: 2-8                         [-1, 100]                 --\n",
       "|    └─Dropout: 2-9                      [-1, 100]                 --\n",
       "|    └─Linear: 2-10                      [-1, 10]                  1,010\n",
       "==========================================================================================\n",
       "Total params: 316,810\n",
       "Trainable params: 316,810\n",
       "Non-trainable params: 0\n",
       "Total mult-adds (M): 0.63\n",
       "==========================================================================================\n",
       "Input size (MB): 0.00\n",
       "Forward/backward pass size (MB): 0.00\n",
       "Params size (MB): 1.21\n",
       "Estimated Total Size (MB): 1.22\n",
       "=========================================================================================="
      ]
     },
     "execution_count": 8,
     "metadata": {},
     "output_type": "execute_result"
    }
   ],
   "source": [
    "def Criterion(preds, targets):\n",
    "    ce            = nn.CrossEntropyLoss().to(device)\n",
    "    loss          = ce(preds, targets.long()) \n",
    "    pred_labels   = torch.max(preds, 1)[1] # same as argmax\n",
    "    acc           = torch.sum(pred_labels == targets.data)/pred_labels.size(0)\n",
    "    return loss, acc\n",
    "    \n",
    "# Create the model with cross entropy loss and Adam optimizer\n",
    "model     = FMNistNet((nchannels,height,width)).to(device=device)\n",
    "print(model) # presents the architecture of the model\n",
    "criterion = Criterion\n",
    "optimizer = optim.Adam(model.parameters(), lr=3e-5)\n",
    "summary(model, (nchannels, height, width)) # presents the architecture of the model in more details"
   ]
  },
  {
   "cell_type": "markdown",
   "metadata": {},
   "source": [
    "### Train the model and report the results "
   ]
  },
  {
   "cell_type": "code",
   "execution_count": 9,
   "metadata": {},
   "outputs": [],
   "source": [
    "def train_batch(model, data, optimizer, criterion, device):\n",
    "    model.train()\n",
    "    ims, targets = data\n",
    "    ims     = ims.to(device=device)\n",
    "    targets = targets.to(device=device)\n",
    "    preds   = model(ims)\n",
    "    loss, acc = criterion(preds, targets)\n",
    "    loss.backward()\n",
    "    optimizer.step()\n",
    "    optimizer.zero_grad()\n",
    "    return loss.item(), acc.item()\n",
    "\n",
    "@torch.no_grad()\n",
    "def validate_batch(model, data, criterion, device):\n",
    "    model.eval()\n",
    "    ims, targets = data\n",
    "    ims     = ims.to(device=device)\n",
    "    targets = targets.to(device=device)\n",
    "    preds   = model(ims)\n",
    "    loss, acc = criterion(preds, targets)\n",
    "    return loss.item(), acc.item()"
   ]
  },
  {
   "cell_type": "code",
   "execution_count": 10,
   "metadata": {},
   "outputs": [
    {
     "name": "stdout",
     "output_type": "stream",
     "text": [
      "EPOCH: 10.000  trn_loss: 0.538  trn_acc: 0.814  val_loss: 0.452  val_acc: 0.847  (27.47s - 82.40s remaining)\n",
      "EPOCH: 20.000  trn_loss: 0.431  trn_acc: 0.850  val_loss: 0.387  val_acc: 0.864  (57.00s - 57.00s remaining)\n",
      "EPOCH: 30.000  trn_loss: 0.372  trn_acc: 0.868  val_loss: 0.354  val_acc: 0.876  (84.28s - 28.09s remaining)\n",
      "EPOCH: 40.000  trn_loss: 0.340  trn_acc: 0.878  val_loss: 0.339  val_acc: 0.880  (111.07s - 0.00s remaining)\n"
     ]
    }
   ],
   "source": [
    "# initializing variables\n",
    "n_epochs = 40\n",
    "log      = Report(n_epochs)\n",
    "\n",
    "# starting training and validation\n",
    "for ex in range(n_epochs):\n",
    "    N = len(trainloader)\n",
    "    for bx, data in enumerate(trainloader):\n",
    "        loss, acc = train_batch(model, data, optimizer, criterion, device)\n",
    "        log.record((ex+(bx+1)/N), trn_loss=loss, trn_acc=acc, end='\\r')\n",
    "\n",
    "    N = len(validloader)\n",
    "    for bx, data in enumerate(validloader):\n",
    "        loss, acc = validate_batch(model, data, criterion, device)\n",
    "        log.record((ex+(bx+1)/N), val_loss=loss, val_acc=acc, end='\\r')\n",
    "\n",
    "    if (ex+1)%10==0: log.report_avgs(ex+1)"
   ]
  },
  {
   "cell_type": "code",
   "execution_count": 11,
   "metadata": {},
   "outputs": [
    {
     "name": "stderr",
     "output_type": "stream",
     "text": [
      "100%|██████████| 141/141 [00:00<00:00, 403.90it/s]\n"
     ]
    },
    {
     "data": {
      "image/png": "[encoded data removed]",
      "text/plain": [
       "<Figure size 800x600 with 1 Axes>"
      ]
     },
     "metadata": {},
     "output_type": "display_data"
    }
   ],
   "source": [
    "log.plot_epochs(['trn_loss','val_loss'])"
   ]
  },
  {
   "cell_type": "code",
   "execution_count": 12,
   "metadata": {},
   "outputs": [
    {
     "name": "stderr",
     "output_type": "stream",
     "text": [
      "100%|██████████| 141/141 [00:00<00:00, 412.56it/s]\n"
     ]
    },
    {
     "data": {
      "image/png": "[encoded data removed]",
      "text/plain": [
       "<Figure size 800x600 with 1 Axes>"
      ]
     },
     "metadata": {},
     "output_type": "display_data"
    }
   ],
   "source": [
    "log.plot_epochs(['trn_acc','val_acc'])"
   ]
  },
  {
   "cell_type": "markdown",
   "metadata": {},
   "source": [
    "### Evaluate the NN on the test set"
   ]
  },
  {
   "cell_type": "code",
   "execution_count": 13,
   "metadata": {},
   "outputs": [
    {
     "name": "stdout",
     "output_type": "stream",
     "text": [
      "Loss: 0.344146 Acc: 0.878347\n"
     ]
    }
   ],
   "source": [
    "N = len(testloader)\n",
    "mean_loss = 0\n",
    "mean_acc  = 0\n",
    "for bx, data in enumerate(testloader):\n",
    "    loss, acc  = validate_batch(model, data, criterion, device)\n",
    "    mean_loss += loss\n",
    "    mean_acc  += acc\n",
    "    \n",
    "mean_loss = mean_loss / N\n",
    "mean_acc  = mean_acc / N\n",
    "print('Loss: {:.6f} Acc: {:.6f}'.format(mean_loss,mean_acc))"
   ]
  },
  {
   "cell_type": "markdown",
   "metadata": {},
   "source": [
    "### Save the model"
   ]
  },
  {
   "cell_type": "code",
   "execution_count": 14,
   "metadata": {},
   "outputs": [],
   "source": [
    "torch.save(model.to('cpu').state_dict(), \"FMNistMLP.pth\")"
   ]
  },
  {
   "cell_type": "markdown",
   "metadata": {},
   "source": [
    "#### Exercise: The model is underfitted, which might have to do with the complexity of the model and the proportions among the datasets' sizes. Play with the definition of the training, validation and test sets, network architecture, and hyperparameters to fix the problem without overfitting."
   ]
  }
 ],
 "metadata": {
  "kernelspec": {
   "display_name": "Python 3 (ipykernel)",
   "language": "python",
   "name": "python3"
  },
  "language_info": {
   "codemirror_mode": {
    "name": "ipython",
    "version": 3
   },
   "file_extension": ".py",
   "mimetype": "text/x-python",
   "name": "python",
   "nbconvert_exporter": "python",
   "pygments_lexer": "ipython3",
   "version": "3.10.9"
  },
  "nav_menu": {
   "height": "264px",
   "width": "369px"
  },
  "toc": {
   "navigate_menu": true,
   "number_sections": true,
   "sideBar": true,
   "threshold": 6,
   "toc_cell": false,
   "toc_section_display": "block",
   "toc_window_display": false
  }
 },
 "nbformat": 4,
 "nbformat_minor": 4
}
