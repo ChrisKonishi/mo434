{
 "cells": [
  {
   "cell_type": "markdown",
   "metadata": {
    "colab_type": "text",
    "id": "UACxZR8ciiUQ"
   },
   "source": [
    "# Using PyTorch to build, train, and test convolutional neural networks"
   ]
  },
  {
   "cell_type": "markdown",
   "metadata": {
    "colab_type": "text",
    "id": "wz1OQ5nuzcZs"
   },
   "source": [
    "## Agenda\n",
    "*   Basic operations\n",
    "  *    Convolution\n",
    "  *    Activation\n",
    "  *    Pooling\n",
    "  *    Batch normalization\n",
    "  *    Skip conection\n",
    "  *    Linear\n",
    "  *    Dropout\n",
    "*   Loading and splitting a dataset  \n",
    "*   Building a convolutional neural network\n",
    "*   Defining loss function and optimizer\n",
    "*   Training and testing\n",
    "*   Saving and loading the model\n",
    "\n",
    "\n",
    "\n"
   ]
  },
  {
   "cell_type": "markdown",
   "metadata": {
    "colab_type": "text",
    "id": "F07sd5Oa_lce"
   },
   "source": [
    "## Basic operations"
   ]
  },
  {
   "cell_type": "markdown",
   "metadata": {
    "colab_type": "text",
    "id": "gAnRUGQwlD7C"
   },
   "source": [
    "PyTorch has a module called `nn` that provides a lot of useful tools to build neural networks. This module defines most commonly used operations, such as convolution, pooling and activation. We will see how to use some of these operations using module `nn`: \n",
    "\n",
    "*   Convolution\n",
    "*   Activation\n",
    "*   Pooling\n",
    "*   Batch normalization\n",
    "*   Skip connection\n",
    "*   Linear transformation (dense layer) \n",
    "*   Dropout"
   ]
  },
  {
   "cell_type": "code",
   "execution_count": 1,
   "metadata": {
    "colab": {},
    "colab_type": "code",
    "id": "sCdMfoJL_ii9"
   },
   "outputs": [],
   "source": [
    "#import module nn\n",
    "import torch\n",
    "from torch import nn as nn"
   ]
  },
  {
   "cell_type": "markdown",
   "metadata": {
    "colab_type": "text",
    "id": "6p4eyRIkAYHq"
   },
   "source": [
    "### Convolution"
   ]
  },
  {
   "cell_type": "markdown",
   "metadata": {
    "colab_type": "text",
    "id": "ffbtsg3Fr8I8"
   },
   "source": [
    "You must provide the number of input channels, the number of output channels (i.e., number of kernels), and the kernel sizes. To preserve image dimensions, you must provide the padding size. \n",
    "\n",
    "CLASS torch.nn.Conv2d(in_channels, out_channels, kernel_size, stride=1, padding=0, dilation=1, groups=1, bias=True, padding_mode='zeros', device=None, dtype=None)"
   ]
  },
  {
   "cell_type": "code",
   "execution_count": 2,
   "metadata": {
    "colab": {},
    "colab_type": "code",
    "id": "GulcMRYF_yMg"
   },
   "outputs": [],
   "source": [
    "#it defines a convolution with 3 kernels of sizes 5 x 3\n",
    "conv = nn.Conv2d(in_channels=2, out_channels=3, kernel_size=(5, 3), padding=(2,1))"
   ]
  },
  {
   "cell_type": "markdown",
   "metadata": {
    "colab_type": "text",
    "id": "vIPiM70Bn-ib"
   },
   "source": [
    "The weights are stored in a tensor $K_{N, M, P, Q}$, such that\n",
    "$N$ is the number of kernels, $M$ is the number of input channels, $P$ and $Q$ are the input dimensions (height, width). \n",
    "\n"
   ]
  },
  {
   "cell_type": "code",
   "execution_count": 3,
   "metadata": {
    "colab": {
     "base_uri": "https://localhost:8080/",
     "height": 34
    },
    "colab_type": "code",
    "id": "nAWDHZM-UmOO",
    "outputId": "83229aad-6f46-4b41-ee64-baca763b5160"
   },
   "outputs": [
    {
     "name": "stdout",
     "output_type": "stream",
     "text": [
      "torch.Size([3, 2, 5, 3])\n"
     ]
    }
   ],
   "source": [
    "print(conv.weight.data.shape)"
   ]
  },
  {
   "cell_type": "markdown",
   "metadata": {
    "colab_type": "text",
    "id": "znFB_adxsduZ"
   },
   "source": [
    "The input is a tensor $I_{B, M, P, Q}$, such that $B$ is the batch size, $M$ is the number of channels, and $P$ and $Q$ are the input dimensions (height, width). "
   ]
  },
  {
   "cell_type": "code",
   "execution_count": 4,
   "metadata": {
    "colab": {
     "base_uri": "https://localhost:8080/",
     "height": 34
    },
    "colab_type": "code",
    "id": "jGgzqB0N_6Bn",
    "outputId": "deb325d2-3828-47ed-a930-131ae2e60d2a"
   },
   "outputs": [
    {
     "name": "stdout",
     "output_type": "stream",
     "text": [
      "x =  tensor([[[[0.2289, 0.7471, 0.3127, 0.1654, 0.0059, 0.6651, 0.6511, 0.2011],\n",
      "          [0.5294, 0.7929, 0.6871, 0.4163, 0.7364, 0.0635, 0.8597, 0.3560],\n",
      "          [0.6855, 0.3069, 0.6647, 0.5668, 0.9738, 0.5839, 0.2227, 0.0398],\n",
      "          [0.1076, 0.7386, 0.2370, 0.0248, 0.2035, 0.4086, 0.4937, 0.0431],\n",
      "          [0.7921, 0.0412, 0.7327, 0.6434, 0.5905, 0.6730, 0.7224, 0.2392],\n",
      "          [0.5331, 0.2627, 0.9369, 0.3490, 0.6587, 0.7571, 0.3777, 0.5668],\n",
      "          [0.2693, 0.2824, 0.8774, 0.0105, 0.4666, 0.6247, 0.9276, 0.0734],\n",
      "          [0.6383, 0.8035, 0.8600, 0.0217, 0.0979, 0.0614, 0.5851, 0.8298],\n",
      "          [0.4429, 0.9818, 0.1747, 0.7752, 0.1162, 0.8403, 0.9911, 0.8686],\n",
      "          [0.1145, 0.3940, 0.6623, 0.2450, 0.6229, 0.1799, 0.6584, 0.2340]],\n",
      "\n",
      "         [[0.4657, 0.5090, 0.8540, 0.2092, 0.6825, 0.9462, 0.5087, 0.9380],\n",
      "          [0.1263, 0.5770, 0.5401, 0.3978, 0.4385, 0.1342, 0.6270, 0.0204],\n",
      "          [0.1936, 0.7135, 0.4767, 0.9018, 0.6421, 0.7516, 0.7877, 0.7081],\n",
      "          [0.8222, 0.9076, 0.6026, 0.2933, 0.7015, 0.9035, 0.9260, 0.8940],\n",
      "          [0.7602, 0.9386, 0.6779, 0.6496, 0.7857, 0.7195, 0.5350, 0.9925],\n",
      "          [0.0482, 0.3622, 0.9352, 0.5379, 0.2880, 0.8774, 0.2161, 0.2702],\n",
      "          [0.2995, 0.9822, 0.6750, 0.6837, 0.8584, 0.8427, 0.0995, 0.5000],\n",
      "          [0.3618, 0.6495, 0.5731, 0.8785, 0.9252, 0.6648, 0.2132, 0.9443],\n",
      "          [0.6306, 0.7920, 0.7004, 0.4421, 0.3304, 0.3856, 0.5570, 0.4321],\n",
      "          [0.7068, 0.0948, 0.1311, 0.9950, 0.4921, 0.2612, 0.4910, 0.1774]]]])\n",
      "torch.Size([1, 2, 10, 8])\n"
     ]
    }
   ],
   "source": [
    "#creating a random input\n",
    "x = torch.rand(1, 2, 10, 8)\n",
    "print(\"x = \", x)\n",
    "print(x.size())"
   ]
  },
  {
   "cell_type": "code",
   "execution_count": 5,
   "metadata": {
    "colab": {},
    "colab_type": "code",
    "id": "PmW5oc9wAMtf"
   },
   "outputs": [
    {
     "name": "stdout",
     "output_type": "stream",
     "text": [
      "y_conv =  tensor([[[[ 0.1423,  0.1324,  0.2464,  0.2817,  0.2997,  0.1064, -0.0537,\n",
      "            0.0853],\n",
      "          [ 0.3887,  0.8051,  0.5286,  0.6405,  0.4649,  0.9488,  0.7714,\n",
      "            0.6165],\n",
      "          [ 0.4202,  0.6519,  0.5892,  0.5920,  0.5190,  0.5480,  0.1893,\n",
      "            0.2390],\n",
      "          [ 0.3772,  0.4776,  0.4264,  0.5924,  0.6733,  0.6429,  0.4058,\n",
      "            0.1833],\n",
      "          [ 0.1790,  0.6810,  0.3701,  0.3790,  0.3359,  0.6692,  0.5013,\n",
      "            0.1007],\n",
      "          [ 0.6212,  0.9473,  0.2253,  0.7581,  0.7687,  0.7071,  0.5969,\n",
      "            0.3786],\n",
      "          [ 0.3766,  0.4319,  0.2873,  0.7258,  0.4411,  0.5709,  0.4045,\n",
      "            0.2250],\n",
      "          [ 0.4996,  0.7092,  0.5501,  0.3330,  0.4418,  0.2833,  0.3681,\n",
      "            0.1173],\n",
      "          [ 0.5057,  0.2355,  0.3991,  0.4052,  0.5519,  0.2060,  0.2561,\n",
      "            0.2153],\n",
      "          [ 0.2972,  0.3153,  0.3178,  0.2459,  0.0559,  0.2278,  0.3159,\n",
      "            0.1729]],\n",
      "\n",
      "         [[ 0.0653, -0.2426, -0.2376, -0.4141, -0.1267, -0.2583, -0.3682,\n",
      "           -0.2592],\n",
      "          [-0.0918, -0.4411, -0.4876, -0.4286, -0.3520, -0.4361, -0.4486,\n",
      "           -0.6061],\n",
      "          [-0.0800, -0.4566, -0.5448, -0.5616, -0.5809, -0.5071, -0.5644,\n",
      "           -0.5293],\n",
      "          [ 0.0284, -0.5323, -0.5899, -0.5377, -0.4920, -0.7184, -0.5016,\n",
      "           -0.5979],\n",
      "          [-0.1998, -0.7623, -0.5273, -0.4184, -0.5450, -0.7086, -0.6059,\n",
      "           -0.4834],\n",
      "          [-0.1187, -0.5217, -0.4043, -0.7186, -0.6383, -0.6958, -0.3736,\n",
      "           -0.3862],\n",
      "          [-0.1637, -0.3156, -0.5664, -0.6044, -0.5320, -0.5248, -0.4520,\n",
      "           -0.0675],\n",
      "          [-0.2223, -0.2767, -0.4459, -0.7318, -0.7308, -0.3857, -0.3149,\n",
      "           -0.0909],\n",
      "          [-0.1426, -0.3218, -0.3853, -0.6477, -0.2524, -0.0901, -0.1794,\n",
      "           -0.2920],\n",
      "          [ 0.0346, -0.1421, -0.3435, -0.3899, -0.3652, -0.1483, -0.2059,\n",
      "           -0.1347]],\n",
      "\n",
      "         [[ 0.0414,  0.1958,  0.0292,  0.3244,  0.0980,  0.2888,  0.1548,\n",
      "           -0.0662],\n",
      "          [-0.0244,  0.1243,  0.0435, -0.0209, -0.1038,  0.0255, -0.0570,\n",
      "           -0.0849],\n",
      "          [ 0.2745, -0.2714, -0.1528, -0.0253,  0.1270,  0.1321, -0.0860,\n",
      "           -0.2432],\n",
      "          [-0.0839, -0.1165, -0.0712,  0.0966, -0.1172, -0.0211, -0.0016,\n",
      "           -0.2436],\n",
      "          [-0.0996, -0.0481,  0.0454, -0.1619, -0.0743, -0.1528, -0.0876,\n",
      "           -0.3645],\n",
      "          [-0.0484, -0.0171, -0.2494,  0.0088, -0.0200, -0.3264, -0.3192,\n",
      "           -0.1029],\n",
      "          [ 0.0404, -0.0067, -0.0197,  0.0605, -0.2544, -0.3816,  0.2363,\n",
      "           -0.2231],\n",
      "          [ 0.0551, -0.2082, -0.1470, -0.2991,  0.1830, -0.1733,  0.0301,\n",
      "           -0.3083],\n",
      "          [-0.1952, -0.3095, -0.3003, -0.2247, -0.5360, -0.2468, -0.3398,\n",
      "           -0.4840],\n",
      "          [-0.2613, -0.3559, -0.2384, -0.5285, -0.1578, -0.2289, -0.2163,\n",
      "           -0.3807]]]], grad_fn=<ConvolutionBackward0>)\n",
      "torch.Size([1, 3, 10, 8])\n"
     ]
    }
   ],
   "source": [
    "#Convolving x with the three kernels that have already been randomly initialized\n",
    "y_conv = conv(x)\n",
    "print(\"y_conv = \", y_conv)\n",
    "print(y_conv.shape)"
   ]
  },
  {
   "cell_type": "markdown",
   "metadata": {
    "colab_type": "text",
    "id": "4kuaU58CtqfE"
   },
   "source": [
    "We can also set the kernel weights as we want."
   ]
  },
  {
   "cell_type": "code",
   "execution_count": 6,
   "metadata": {
    "colab": {},
    "colab_type": "code",
    "id": "XV21oH6IBZnS"
   },
   "outputs": [],
   "source": [
    "#initializing weights and biases\n",
    "conv.weight.data = torch.rand(3, 2, 5, 3, requires_grad=True) - 0.5\n",
    "conv.bias.data   = torch.rand(3, requires_grad=True) - 0.5"
   ]
  },
  {
   "cell_type": "code",
   "execution_count": 7,
   "metadata": {
    "colab": {},
    "colab_type": "code",
    "id": "FRb2j6YlFxRH"
   },
   "outputs": [
    {
     "name": "stdout",
     "output_type": "stream",
     "text": [
      "y_conv =  tensor([[[[-5.1199e-01, -8.5992e-01, -7.6621e-01, -9.9307e-01, -3.3645e-01,\n",
      "            7.6676e-02, -1.1110e+00, -5.7499e-01],\n",
      "          [-1.1369e+00, -7.3695e-01, -6.6516e-01, -6.2648e-01, -1.3068e+00,\n",
      "           -1.5393e+00, -1.7504e-01, -7.3488e-01],\n",
      "          [-1.1493e+00, -7.9405e-01, -9.2829e-01, -3.6492e-01, -9.0739e-01,\n",
      "           -1.0743e+00, -1.7607e+00, -5.4856e-01],\n",
      "          [-9.3559e-01, -6.0129e-01, -1.5869e+00, -8.3623e-01, -8.0014e-01,\n",
      "           -7.0189e-01, -1.0333e+00, -9.9368e-01],\n",
      "          [-1.2459e+00, -1.7148e+00, -9.1070e-01, -6.4855e-01, -1.7404e+00,\n",
      "           -1.1940e+00, -1.1681e+00, -1.1909e+00],\n",
      "          [-1.5199e+00, -1.0474e+00, -9.0546e-01, -1.2226e+00, -1.1928e+00,\n",
      "           -4.9432e-01, -1.6651e+00, -1.5398e+00],\n",
      "          [-1.4675e+00, -9.5518e-01, -1.5815e+00, -1.3990e+00, -2.2324e-01,\n",
      "           -3.1851e-01, -8.8048e-01, -1.2088e+00],\n",
      "          [-8.1511e-01, -5.9871e-01, -1.5133e+00, -1.6924e+00, -8.1909e-01,\n",
      "           -5.6779e-01, -9.5479e-01, -3.8607e-01],\n",
      "          [-2.4164e-01, -6.9691e-01, -2.1298e+00, -1.4060e+00, -1.3137e+00,\n",
      "           -5.2461e-01, -8.4991e-01, -1.3242e+00],\n",
      "          [-2.7786e-01, -7.7899e-01, -1.0699e+00, -9.6951e-01, -1.0678e+00,\n",
      "           -1.1282e+00, -3.7395e-01, -1.1789e+00]],\n",
      "\n",
      "         [[ 1.5637e-01,  3.0485e-01,  1.2140e-01,  5.0680e-01, -4.8472e-02,\n",
      "            2.1874e-01, -3.5709e-01, -1.4609e-01],\n",
      "          [ 5.1694e-01,  3.1384e-01,  5.8372e-01, -2.3475e-01,  5.7239e-01,\n",
      "            1.0353e+00, -2.5981e-01,  1.4013e-02],\n",
      "          [ 3.6799e-01,  1.2813e-01, -7.1982e-01, -7.2161e-02, -5.0483e-01,\n",
      "            2.5949e-01,  9.5962e-02, -1.0739e+00],\n",
      "          [-2.2520e-01, -2.8969e-01,  3.9044e-01,  5.2318e-01,  3.2004e-01,\n",
      "           -2.9231e-01,  2.8131e-01, -5.6357e-01],\n",
      "          [ 2.2653e-01,  3.2344e-01, -9.8867e-01, -3.1832e-01,  2.3580e-01,\n",
      "           -5.2194e-01, -7.0826e-03,  1.4611e-01],\n",
      "          [ 7.2358e-02,  6.2322e-01,  2.8826e-01, -1.1705e-02, -4.0509e-01,\n",
      "           -3.2183e-01, -4.4853e-01,  2.6589e-01],\n",
      "          [ 1.9187e-01, -3.1711e-01,  5.0834e-01, -2.9639e-01, -9.1648e-01,\n",
      "           -4.5370e-01,  5.6911e-01,  1.2404e-01],\n",
      "          [ 1.5829e-01, -2.2826e-01,  4.9056e-01, -8.1995e-02, -8.0779e-03,\n",
      "            2.5712e-01, -2.3333e-01, -1.6203e-01],\n",
      "          [-7.6772e-01, -2.6211e-01, -2.1504e-01, -1.5851e+00, -7.5435e-02,\n",
      "            2.1497e-01, -1.9047e-01, -2.7893e-01],\n",
      "          [-1.3521e-01, -8.2853e-01, -5.9227e-01, -1.1587e+00, -1.1160e+00,\n",
      "           -1.9314e-02, -4.7032e-01, -5.0138e-01]],\n",
      "\n",
      "         [[ 1.0898e-01, -3.1553e-01,  5.7042e-01, -5.1075e-03,  4.8496e-01,\n",
      "            1.5224e-01,  3.8062e-01,  5.7177e-01],\n",
      "          [-1.2559e-01,  6.4289e-01, -5.6864e-01,  5.9868e-01,  1.3548e-01,\n",
      "            7.2301e-01, -6.4838e-04, -5.3913e-02],\n",
      "          [-3.2683e-02, -7.8132e-01,  6.5468e-01,  8.0718e-03, -1.0687e+00,\n",
      "           -5.4974e-01, -4.3436e-02,  4.5041e-02],\n",
      "          [-8.0614e-01, -8.9950e-01, -4.6088e-01, -8.0843e-01, -2.8466e-01,\n",
      "           -1.1265e+00, -1.2824e+00,  9.4704e-02],\n",
      "          [-7.2795e-01, -8.4892e-01, -1.2387e+00,  1.6948e-01, -3.8781e-01,\n",
      "           -5.3766e-01,  4.1163e-01, -9.5118e-01],\n",
      "          [-1.1863e+00, -7.5475e-01,  1.5208e-01,  1.3237e-01, -3.2402e-01,\n",
      "           -5.0137e-01, -1.3296e-01, -2.1974e-01],\n",
      "          [-9.1515e-01,  2.3174e-01, -1.5876e+00, -2.7061e-02, -5.6276e-01,\n",
      "           -6.5584e-01, -1.5177e+00,  2.3131e-01],\n",
      "          [-5.8011e-01, -6.9289e-01,  4.1534e-02, -7.1013e-01, -5.9860e-01,\n",
      "           -1.4265e+00, -1.4418e-01, -4.9995e-01],\n",
      "          [ 9.7238e-02, -5.7635e-01, -8.1060e-01, -4.9065e-01, -2.6513e-01,\n",
      "           -1.4849e-02,  4.1656e-01,  4.0281e-01],\n",
      "          [-6.6642e-01, -9.0575e-01, -3.8014e-01,  2.0745e-01, -3.6856e-01,\n",
      "            6.2667e-01, -1.1686e+00, -5.0237e-01]]]],\n",
      "       grad_fn=<ConvolutionBackward0>)\n",
      "torch.Size([1, 3, 10, 8])\n"
     ]
    }
   ],
   "source": [
    "#Convolving x with our new kernel bank of three kernels\n",
    "y_conv = conv(x)\n",
    "print(\"y_conv = \", y_conv)\n",
    "print(y_conv.shape)"
   ]
  },
  {
   "cell_type": "markdown",
   "metadata": {
    "colab_type": "text",
    "id": "QNk_uCdTGv1B"
   },
   "source": [
    "\n",
    "### Activation"
   ]
  },
  {
   "cell_type": "markdown",
   "metadata": {
    "colab_type": "text",
    "id": "2kN1eYB9zZqN"
   },
   "source": [
    "Now we define a ReLU activation function.\n",
    "\n",
    "CLASS torch.nn.ReLU(inplace=False)"
   ]
  },
  {
   "cell_type": "code",
   "execution_count": 8,
   "metadata": {
    "colab": {},
    "colab_type": "code",
    "id": "jJqb6tldGow7"
   },
   "outputs": [],
   "source": [
    "#defining relu function\n",
    "\n",
    "relu = nn.ReLU()"
   ]
  },
  {
   "cell_type": "code",
   "execution_count": 9,
   "metadata": {
    "colab": {},
    "colab_type": "code",
    "id": "euCH4HNfGp38"
   },
   "outputs": [
    {
     "name": "stdout",
     "output_type": "stream",
     "text": [
      "y_relu =  tensor([[[[0.0000, 0.0000, 0.0000, 0.0000, 0.0000, 0.0767, 0.0000, 0.0000],\n",
      "          [0.0000, 0.0000, 0.0000, 0.0000, 0.0000, 0.0000, 0.0000, 0.0000],\n",
      "          [0.0000, 0.0000, 0.0000, 0.0000, 0.0000, 0.0000, 0.0000, 0.0000],\n",
      "          [0.0000, 0.0000, 0.0000, 0.0000, 0.0000, 0.0000, 0.0000, 0.0000],\n",
      "          [0.0000, 0.0000, 0.0000, 0.0000, 0.0000, 0.0000, 0.0000, 0.0000],\n",
      "          [0.0000, 0.0000, 0.0000, 0.0000, 0.0000, 0.0000, 0.0000, 0.0000],\n",
      "          [0.0000, 0.0000, 0.0000, 0.0000, 0.0000, 0.0000, 0.0000, 0.0000],\n",
      "          [0.0000, 0.0000, 0.0000, 0.0000, 0.0000, 0.0000, 0.0000, 0.0000],\n",
      "          [0.0000, 0.0000, 0.0000, 0.0000, 0.0000, 0.0000, 0.0000, 0.0000],\n",
      "          [0.0000, 0.0000, 0.0000, 0.0000, 0.0000, 0.0000, 0.0000, 0.0000]],\n",
      "\n",
      "         [[0.1564, 0.3048, 0.1214, 0.5068, 0.0000, 0.2187, 0.0000, 0.0000],\n",
      "          [0.5169, 0.3138, 0.5837, 0.0000, 0.5724, 1.0353, 0.0000, 0.0140],\n",
      "          [0.3680, 0.1281, 0.0000, 0.0000, 0.0000, 0.2595, 0.0960, 0.0000],\n",
      "          [0.0000, 0.0000, 0.3904, 0.5232, 0.3200, 0.0000, 0.2813, 0.0000],\n",
      "          [0.2265, 0.3234, 0.0000, 0.0000, 0.2358, 0.0000, 0.0000, 0.1461],\n",
      "          [0.0724, 0.6232, 0.2883, 0.0000, 0.0000, 0.0000, 0.0000, 0.2659],\n",
      "          [0.1919, 0.0000, 0.5083, 0.0000, 0.0000, 0.0000, 0.5691, 0.1240],\n",
      "          [0.1583, 0.0000, 0.4906, 0.0000, 0.0000, 0.2571, 0.0000, 0.0000],\n",
      "          [0.0000, 0.0000, 0.0000, 0.0000, 0.0000, 0.2150, 0.0000, 0.0000],\n",
      "          [0.0000, 0.0000, 0.0000, 0.0000, 0.0000, 0.0000, 0.0000, 0.0000]],\n",
      "\n",
      "         [[0.1090, 0.0000, 0.5704, 0.0000, 0.4850, 0.1522, 0.3806, 0.5718],\n",
      "          [0.0000, 0.6429, 0.0000, 0.5987, 0.1355, 0.7230, 0.0000, 0.0000],\n",
      "          [0.0000, 0.0000, 0.6547, 0.0081, 0.0000, 0.0000, 0.0000, 0.0450],\n",
      "          [0.0000, 0.0000, 0.0000, 0.0000, 0.0000, 0.0000, 0.0000, 0.0947],\n",
      "          [0.0000, 0.0000, 0.0000, 0.1695, 0.0000, 0.0000, 0.4116, 0.0000],\n",
      "          [0.0000, 0.0000, 0.1521, 0.1324, 0.0000, 0.0000, 0.0000, 0.0000],\n",
      "          [0.0000, 0.2317, 0.0000, 0.0000, 0.0000, 0.0000, 0.0000, 0.2313],\n",
      "          [0.0000, 0.0000, 0.0415, 0.0000, 0.0000, 0.0000, 0.0000, 0.0000],\n",
      "          [0.0972, 0.0000, 0.0000, 0.0000, 0.0000, 0.0000, 0.4166, 0.4028],\n",
      "          [0.0000, 0.0000, 0.0000, 0.2074, 0.0000, 0.6267, 0.0000, 0.0000]]]],\n",
      "       grad_fn=<ReluBackward0>)\n"
     ]
    }
   ],
   "source": [
    "#applying the relu function to output of a convolution\n",
    "y_relu = relu(y_conv)\n",
    "print(\"y_relu = \",y_relu)"
   ]
  },
  {
   "cell_type": "markdown",
   "metadata": {
    "colab_type": "text",
    "id": "-C32PFOzHoJI"
   },
   "source": [
    "### Pooling"
   ]
  },
  {
   "cell_type": "markdown",
   "metadata": {
    "colab_type": "text",
    "id": "QTAQUZ2Q0sN4"
   },
   "source": [
    "We may define now max poolin. Note that strides greater than 1 will reduce the input size. \n",
    "\n",
    "CLASS torch.nn.MaxPool2d(kernel_size, stride=None, padding=0, dilation=1, return_indices=False, ceil_mode=False)"
   ]
  },
  {
   "cell_type": "code",
   "execution_count": 10,
   "metadata": {
    "colab": {},
    "colab_type": "code",
    "id": "VWeA5kA8HeK4"
   },
   "outputs": [],
   "source": [
    "pool = nn.MaxPool2d(kernel_size=3, stride=1, padding=1)"
   ]
  },
  {
   "cell_type": "code",
   "execution_count": 11,
   "metadata": {
    "colab": {},
    "colab_type": "code",
    "id": "RJZUQLWdH2-7"
   },
   "outputs": [
    {
     "name": "stdout",
     "output_type": "stream",
     "text": [
      "y_pool =  tensor([[[[0.0000, 0.0000, 0.0000, 0.0000, 0.0767, 0.0767, 0.0767, 0.0000],\n",
      "          [0.0000, 0.0000, 0.0000, 0.0000, 0.0767, 0.0767, 0.0767, 0.0000],\n",
      "          [0.0000, 0.0000, 0.0000, 0.0000, 0.0000, 0.0000, 0.0000, 0.0000],\n",
      "          [0.0000, 0.0000, 0.0000, 0.0000, 0.0000, 0.0000, 0.0000, 0.0000],\n",
      "          [0.0000, 0.0000, 0.0000, 0.0000, 0.0000, 0.0000, 0.0000, 0.0000],\n",
      "          [0.0000, 0.0000, 0.0000, 0.0000, 0.0000, 0.0000, 0.0000, 0.0000],\n",
      "          [0.0000, 0.0000, 0.0000, 0.0000, 0.0000, 0.0000, 0.0000, 0.0000],\n",
      "          [0.0000, 0.0000, 0.0000, 0.0000, 0.0000, 0.0000, 0.0000, 0.0000],\n",
      "          [0.0000, 0.0000, 0.0000, 0.0000, 0.0000, 0.0000, 0.0000, 0.0000],\n",
      "          [0.0000, 0.0000, 0.0000, 0.0000, 0.0000, 0.0000, 0.0000, 0.0000]],\n",
      "\n",
      "         [[0.5169, 0.5837, 0.5837, 0.5837, 1.0353, 1.0353, 1.0353, 0.0140],\n",
      "          [0.5169, 0.5837, 0.5837, 0.5837, 1.0353, 1.0353, 1.0353, 0.0960],\n",
      "          [0.5169, 0.5837, 0.5837, 0.5837, 1.0353, 1.0353, 1.0353, 0.2813],\n",
      "          [0.3680, 0.3904, 0.5232, 0.5232, 0.5232, 0.3200, 0.2813, 0.2813],\n",
      "          [0.6232, 0.6232, 0.6232, 0.5232, 0.5232, 0.3200, 0.2813, 0.2813],\n",
      "          [0.6232, 0.6232, 0.6232, 0.5083, 0.2358, 0.5691, 0.5691, 0.5691],\n",
      "          [0.6232, 0.6232, 0.6232, 0.5083, 0.2571, 0.5691, 0.5691, 0.5691],\n",
      "          [0.1919, 0.5083, 0.5083, 0.5083, 0.2571, 0.5691, 0.5691, 0.5691],\n",
      "          [0.1583, 0.4906, 0.4906, 0.4906, 0.2571, 0.2571, 0.2571, 0.0000],\n",
      "          [0.0000, 0.0000, 0.0000, 0.0000, 0.2150, 0.2150, 0.2150, 0.0000]],\n",
      "\n",
      "         [[0.6429, 0.6429, 0.6429, 0.5987, 0.7230, 0.7230, 0.7230, 0.5718],\n",
      "          [0.6429, 0.6547, 0.6547, 0.6547, 0.7230, 0.7230, 0.7230, 0.5718],\n",
      "          [0.6429, 0.6547, 0.6547, 0.6547, 0.7230, 0.7230, 0.7230, 0.0947],\n",
      "          [0.0000, 0.6547, 0.6547, 0.6547, 0.1695, 0.4116, 0.4116, 0.4116],\n",
      "          [0.0000, 0.1521, 0.1695, 0.1695, 0.1695, 0.4116, 0.4116, 0.4116],\n",
      "          [0.2317, 0.2317, 0.2317, 0.1695, 0.1695, 0.4116, 0.4116, 0.4116],\n",
      "          [0.2317, 0.2317, 0.2317, 0.1521, 0.1324, 0.0000, 0.2313, 0.2313],\n",
      "          [0.2317, 0.2317, 0.2317, 0.0415, 0.0000, 0.4166, 0.4166, 0.4166],\n",
      "          [0.0972, 0.0972, 0.2074, 0.2074, 0.6267, 0.6267, 0.6267, 0.4166],\n",
      "          [0.0972, 0.0972, 0.2074, 0.2074, 0.6267, 0.6267, 0.6267, 0.4166]]]],\n",
      "       grad_fn=<MaxPool2DWithIndicesBackward0>)\n",
      "torch.Size([1, 3, 10, 8])\n"
     ]
    }
   ],
   "source": [
    "#applying max pooling to output of ReLu\n",
    "y_pool = pool(y_relu)\n",
    "print(\"y_pool = \", y_pool)\n",
    "print(y_pool.shape)"
   ]
  },
  {
   "cell_type": "markdown",
   "metadata": {
    "colab_type": "text",
    "id": "oXdqFTYZXkz1"
   },
   "source": [
    "### Batch normalization"
   ]
  },
  {
   "cell_type": "markdown",
   "metadata": {
    "colab_type": "text",
    "id": "bMzMfrvq16l-"
   },
   "source": [
    "Now we may define batch normalization to normalize batches in the following way $$y = \\frac{x - \\mathbb{E}[x]}{\\sqrt{\\mathrm{Var}[x]}}\\gamma + \\beta.$$ You must indicate the number of input channels.\n",
    "\n",
    "\n",
    "CLASS torch.nn.BatchNorm1d(num_features, eps=1e-05, momentum=0.1, affine=True, track_running_stats=True, device=None, dtype=None)"
   ]
  },
  {
   "cell_type": "code",
   "execution_count": 12,
   "metadata": {
    "colab": {},
    "colab_type": "code",
    "id": "kwbKQ3LK5VfZ"
   },
   "outputs": [],
   "source": [
    "#defining batch normalization layer: affine=False indicates without learnable parameters. \n",
    "norm = nn.BatchNorm2d(num_features=3, affine=False)"
   ]
  },
  {
   "cell_type": "code",
   "execution_count": 13,
   "metadata": {
    "colab": {},
    "colab_type": "code",
    "id": "946BtTY85shc"
   },
   "outputs": [
    {
     "name": "stdout",
     "output_type": "stream",
     "text": [
      "y_norm =  tensor([[[[-0.2813, -0.2813, -0.2813, -0.2813,  3.4696,  3.4696,  3.4696,\n",
      "           -0.2813],\n",
      "          [-0.2813, -0.2813, -0.2813, -0.2813,  3.4696,  3.4696,  3.4696,\n",
      "           -0.2813],\n",
      "          [-0.2813, -0.2813, -0.2813, -0.2813, -0.2813, -0.2813, -0.2813,\n",
      "           -0.2813],\n",
      "          [-0.2813, -0.2813, -0.2813, -0.2813, -0.2813, -0.2813, -0.2813,\n",
      "           -0.2813],\n",
      "          [-0.2813, -0.2813, -0.2813, -0.2813, -0.2813, -0.2813, -0.2813,\n",
      "           -0.2813],\n",
      "          [-0.2813, -0.2813, -0.2813, -0.2813, -0.2813, -0.2813, -0.2813,\n",
      "           -0.2813],\n",
      "          [-0.2813, -0.2813, -0.2813, -0.2813, -0.2813, -0.2813, -0.2813,\n",
      "           -0.2813],\n",
      "          [-0.2813, -0.2813, -0.2813, -0.2813, -0.2813, -0.2813, -0.2813,\n",
      "           -0.2813],\n",
      "          [-0.2813, -0.2813, -0.2813, -0.2813, -0.2813, -0.2813, -0.2813,\n",
      "           -0.2813],\n",
      "          [-0.2813, -0.2813, -0.2813, -0.2813, -0.2813, -0.2813, -0.2813,\n",
      "           -0.2813]],\n",
      "\n",
      "         [[ 0.1127,  0.3593,  0.3593,  0.3593,  2.0273,  2.0273,  2.0273,\n",
      "           -1.7447],\n",
      "          [ 0.1127,  0.3593,  0.3593,  0.3593,  2.0273,  2.0273,  2.0273,\n",
      "           -1.4421],\n",
      "          [ 0.1127,  0.3593,  0.3593,  0.3593,  2.0273,  2.0273,  2.0273,\n",
      "           -0.7575],\n",
      "          [-0.4374, -0.3545,  0.1357,  0.1357,  0.1357, -0.6145, -0.7575,\n",
      "           -0.7575],\n",
      "          [ 0.5052,  0.5052,  0.5052,  0.1357,  0.1357, -0.6145, -0.7575,\n",
      "           -0.7575],\n",
      "          [ 0.5052,  0.5052,  0.5052,  0.0809, -0.9256,  0.3054,  0.3054,\n",
      "            0.3054],\n",
      "          [ 0.5052,  0.5052,  0.5052,  0.0809, -0.8469,  0.3054,  0.3054,\n",
      "            0.3054],\n",
      "          [-1.0879,  0.0809,  0.0809,  0.0809, -0.8469,  0.3054,  0.3054,\n",
      "            0.3054],\n",
      "          [-1.2119,  0.0153,  0.0153,  0.0153, -0.8469, -0.8469, -0.8469,\n",
      "           -1.7965],\n",
      "          [-1.7965, -1.7965, -1.7965, -1.7965, -1.0026, -1.0026, -1.0026,\n",
      "           -1.7965]],\n",
      "\n",
      "         [[ 1.0185,  1.0185,  1.0185,  0.8306,  1.3590,  1.3590,  1.3590,\n",
      "            0.7162],\n",
      "          [ 1.0185,  1.0686,  1.0686,  1.0686,  1.3590,  1.3590,  1.3590,\n",
      "            0.7162],\n",
      "          [ 1.0185,  1.0686,  1.0686,  1.0686,  1.3590,  1.3590,  1.3590,\n",
      "           -1.3114],\n",
      "          [-1.7139,  1.0686,  1.0686,  1.0686, -0.9936,  0.0356,  0.0356,\n",
      "            0.0356],\n",
      "          [-1.7139, -1.0675, -0.9936, -0.9936, -0.9936,  0.0356,  0.0356,\n",
      "            0.0356],\n",
      "          [-0.7289, -0.7289, -0.7289, -0.9936, -0.9936,  0.0356,  0.0356,\n",
      "            0.0356],\n",
      "          [-0.7289, -0.7289, -0.7289, -1.0675, -1.1513, -1.7139, -0.7308,\n",
      "           -0.7308],\n",
      "          [-0.7289, -0.7289, -0.7289, -1.5373, -1.7139,  0.0566,  0.0566,\n",
      "            0.0566],\n",
      "          [-1.3006, -1.3006, -0.8322, -0.8322,  0.9496,  0.9496,  0.9496,\n",
      "            0.0566],\n",
      "          [-1.3006, -1.3006, -0.8322, -0.8322,  0.9496,  0.9496,  0.9496,\n",
      "            0.0566]]]], grad_fn=<NativeBatchNormBackward0>)\n"
     ]
    }
   ],
   "source": [
    "#applying batch normalization\n",
    "y_norm = norm(y_pool)\n",
    "print(\"y_norm = \", y_norm)"
   ]
  },
  {
   "cell_type": "markdown",
   "metadata": {
    "colab_type": "text",
    "id": "dxsxUHlk6in6"
   },
   "source": [
    "### Skip connection"
   ]
  },
  {
   "cell_type": "markdown",
   "metadata": {
    "colab_type": "text",
    "id": "pktxly2T7Wau"
   },
   "source": [
    "To skip layers without passing through previus layers, we may concatenate the output of two layers along a given axis. For instance, we may concatenate the input and output of relu as follows.\n",
    "\n",
    "torch.cat(tensors, dim=0, *, out=None) → Tensor"
   ]
  },
  {
   "cell_type": "code",
   "execution_count": 14,
   "metadata": {
    "colab": {},
    "colab_type": "code",
    "id": "mkbib1Lk8fPv"
   },
   "outputs": [
    {
     "name": "stdout",
     "output_type": "stream",
     "text": [
      "concat =  tensor([[[[0.2289, 0.7471, 0.3127, 0.1654, 0.0059, 0.6651, 0.6511, 0.2011],\n",
      "          [0.5294, 0.7929, 0.6871, 0.4163, 0.7364, 0.0635, 0.8597, 0.3560],\n",
      "          [0.6855, 0.3069, 0.6647, 0.5668, 0.9738, 0.5839, 0.2227, 0.0398],\n",
      "          [0.1076, 0.7386, 0.2370, 0.0248, 0.2035, 0.4086, 0.4937, 0.0431],\n",
      "          [0.7921, 0.0412, 0.7327, 0.6434, 0.5905, 0.6730, 0.7224, 0.2392],\n",
      "          [0.5331, 0.2627, 0.9369, 0.3490, 0.6587, 0.7571, 0.3777, 0.5668],\n",
      "          [0.2693, 0.2824, 0.8774, 0.0105, 0.4666, 0.6247, 0.9276, 0.0734],\n",
      "          [0.6383, 0.8035, 0.8600, 0.0217, 0.0979, 0.0614, 0.5851, 0.8298],\n",
      "          [0.4429, 0.9818, 0.1747, 0.7752, 0.1162, 0.8403, 0.9911, 0.8686],\n",
      "          [0.1145, 0.3940, 0.6623, 0.2450, 0.6229, 0.1799, 0.6584, 0.2340]],\n",
      "\n",
      "         [[0.4657, 0.5090, 0.8540, 0.2092, 0.6825, 0.9462, 0.5087, 0.9380],\n",
      "          [0.1263, 0.5770, 0.5401, 0.3978, 0.4385, 0.1342, 0.6270, 0.0204],\n",
      "          [0.1936, 0.7135, 0.4767, 0.9018, 0.6421, 0.7516, 0.7877, 0.7081],\n",
      "          [0.8222, 0.9076, 0.6026, 0.2933, 0.7015, 0.9035, 0.9260, 0.8940],\n",
      "          [0.7602, 0.9386, 0.6779, 0.6496, 0.7857, 0.7195, 0.5350, 0.9925],\n",
      "          [0.0482, 0.3622, 0.9352, 0.5379, 0.2880, 0.8774, 0.2161, 0.2702],\n",
      "          [0.2995, 0.9822, 0.6750, 0.6837, 0.8584, 0.8427, 0.0995, 0.5000],\n",
      "          [0.3618, 0.6495, 0.5731, 0.8785, 0.9252, 0.6648, 0.2132, 0.9443],\n",
      "          [0.6306, 0.7920, 0.7004, 0.4421, 0.3304, 0.3856, 0.5570, 0.4321],\n",
      "          [0.7068, 0.0948, 0.1311, 0.9950, 0.4921, 0.2612, 0.4910, 0.1774]],\n",
      "\n",
      "         [[0.0000, 0.0000, 0.0000, 0.0000, 0.0000, 0.0767, 0.0000, 0.0000],\n",
      "          [0.0000, 0.0000, 0.0000, 0.0000, 0.0000, 0.0000, 0.0000, 0.0000],\n",
      "          [0.0000, 0.0000, 0.0000, 0.0000, 0.0000, 0.0000, 0.0000, 0.0000],\n",
      "          [0.0000, 0.0000, 0.0000, 0.0000, 0.0000, 0.0000, 0.0000, 0.0000],\n",
      "          [0.0000, 0.0000, 0.0000, 0.0000, 0.0000, 0.0000, 0.0000, 0.0000],\n",
      "          [0.0000, 0.0000, 0.0000, 0.0000, 0.0000, 0.0000, 0.0000, 0.0000],\n",
      "          [0.0000, 0.0000, 0.0000, 0.0000, 0.0000, 0.0000, 0.0000, 0.0000],\n",
      "          [0.0000, 0.0000, 0.0000, 0.0000, 0.0000, 0.0000, 0.0000, 0.0000],\n",
      "          [0.0000, 0.0000, 0.0000, 0.0000, 0.0000, 0.0000, 0.0000, 0.0000],\n",
      "          [0.0000, 0.0000, 0.0000, 0.0000, 0.0000, 0.0000, 0.0000, 0.0000]],\n",
      "\n",
      "         [[0.1564, 0.3048, 0.1214, 0.5068, 0.0000, 0.2187, 0.0000, 0.0000],\n",
      "          [0.5169, 0.3138, 0.5837, 0.0000, 0.5724, 1.0353, 0.0000, 0.0140],\n",
      "          [0.3680, 0.1281, 0.0000, 0.0000, 0.0000, 0.2595, 0.0960, 0.0000],\n",
      "          [0.0000, 0.0000, 0.3904, 0.5232, 0.3200, 0.0000, 0.2813, 0.0000],\n",
      "          [0.2265, 0.3234, 0.0000, 0.0000, 0.2358, 0.0000, 0.0000, 0.1461],\n",
      "          [0.0724, 0.6232, 0.2883, 0.0000, 0.0000, 0.0000, 0.0000, 0.2659],\n",
      "          [0.1919, 0.0000, 0.5083, 0.0000, 0.0000, 0.0000, 0.5691, 0.1240],\n",
      "          [0.1583, 0.0000, 0.4906, 0.0000, 0.0000, 0.2571, 0.0000, 0.0000],\n",
      "          [0.0000, 0.0000, 0.0000, 0.0000, 0.0000, 0.2150, 0.0000, 0.0000],\n",
      "          [0.0000, 0.0000, 0.0000, 0.0000, 0.0000, 0.0000, 0.0000, 0.0000]],\n",
      "\n",
      "         [[0.1090, 0.0000, 0.5704, 0.0000, 0.4850, 0.1522, 0.3806, 0.5718],\n",
      "          [0.0000, 0.6429, 0.0000, 0.5987, 0.1355, 0.7230, 0.0000, 0.0000],\n",
      "          [0.0000, 0.0000, 0.6547, 0.0081, 0.0000, 0.0000, 0.0000, 0.0450],\n",
      "          [0.0000, 0.0000, 0.0000, 0.0000, 0.0000, 0.0000, 0.0000, 0.0947],\n",
      "          [0.0000, 0.0000, 0.0000, 0.1695, 0.0000, 0.0000, 0.4116, 0.0000],\n",
      "          [0.0000, 0.0000, 0.1521, 0.1324, 0.0000, 0.0000, 0.0000, 0.0000],\n",
      "          [0.0000, 0.2317, 0.0000, 0.0000, 0.0000, 0.0000, 0.0000, 0.2313],\n",
      "          [0.0000, 0.0000, 0.0415, 0.0000, 0.0000, 0.0000, 0.0000, 0.0000],\n",
      "          [0.0972, 0.0000, 0.0000, 0.0000, 0.0000, 0.0000, 0.4166, 0.4028],\n",
      "          [0.0000, 0.0000, 0.0000, 0.2074, 0.0000, 0.6267, 0.0000, 0.0000]]]],\n",
      "       grad_fn=<CatBackward0>)\n",
      "torch.Size([1, 5, 10, 8])\n"
     ]
    }
   ],
   "source": [
    "#concatenating tensors\n",
    "concat = torch.cat((x, y_relu), dim=1)\n",
    "print(\"concat = \", concat)\n",
    "print(concat.shape)"
   ]
  },
  {
   "cell_type": "markdown",
   "metadata": {
    "colab_type": "text",
    "id": "L04BvhVaMF8g"
   },
   "source": [
    "### Linear"
   ]
  },
  {
   "cell_type": "markdown",
   "metadata": {
    "colab_type": "text",
    "id": "Ba9bi_dX9-RR"
   },
   "source": [
    "Dense layers can be implemented by flattening output activations followed by a linear transformation. We must indicate the input and output sizes.\n",
    "\n",
    "torch.flatten(input, start_dim=0, end_dim=-1) → Tensor\n",
    "\n",
    "CLASS torch.nn.Linear(in_features, out_features, bias=True, device=None, dtype=None)"
   ]
  },
  {
   "cell_type": "code",
   "execution_count": 15,
   "metadata": {
    "colab": {},
    "colab_type": "code",
    "id": "BffJeqoYKQgz"
   },
   "outputs": [
    {
     "name": "stdout",
     "output_type": "stream",
     "text": [
      "torch.Size([1, 240])\n"
     ]
    }
   ],
   "source": [
    "#transforming it into a 2D tensor\n",
    "y_flatten = y_pool.flatten(start_dim=1)\n",
    "print(y_flatten.shape)"
   ]
  },
  {
   "cell_type": "code",
   "execution_count": 16,
   "metadata": {
    "colab": {},
    "colab_type": "code",
    "id": "DCzjDwz0MPda"
   },
   "outputs": [],
   "source": [
    "#defining the linear layer\n",
    "linear = nn.Linear(in_features=240, out_features=2, bias=True)"
   ]
  },
  {
   "cell_type": "code",
   "execution_count": 17,
   "metadata": {
    "colab": {},
    "colab_type": "code",
    "id": "AP5e4LInMgm-"
   },
   "outputs": [
    {
     "name": "stdout",
     "output_type": "stream",
     "text": [
      "tensor([[ 0.4834, -0.4756]], grad_fn=<AddmmBackward0>)\n",
      "torch.Size([1, 2])\n"
     ]
    }
   ],
   "source": [
    "#applying linear the transformation\n",
    "y_linear = linear(y_flatten)\n",
    "print(y_linear)\n",
    "print(y_linear.shape)"
   ]
  },
  {
   "cell_type": "markdown",
   "metadata": {},
   "source": [
    "### Dropout"
   ]
  },
  {
   "cell_type": "markdown",
   "metadata": {},
   "source": [
    "For regularization, we may also add a dropout layer to randomly disconsider elements of the input tensor (it sets zeroes) with probability p by following a Bernoulli distribution. The outputs are scaled by a factor $\\frac{1}{1-p}$ during training. \n",
    "\n",
    "CLASStorch.nn.Dropout(p=0.5, inplace=False)"
   ]
  },
  {
   "cell_type": "code",
   "execution_count": 18,
   "metadata": {},
   "outputs": [],
   "source": [
    "drop = nn.Dropout(0.5)"
   ]
  },
  {
   "cell_type": "code",
   "execution_count": 19,
   "metadata": {},
   "outputs": [],
   "source": [
    "x = torch.randn((5,5))"
   ]
  },
  {
   "cell_type": "code",
   "execution_count": 20,
   "metadata": {},
   "outputs": [],
   "source": [
    "y = drop(x)"
   ]
  },
  {
   "cell_type": "code",
   "execution_count": 21,
   "metadata": {},
   "outputs": [
    {
     "name": "stdout",
     "output_type": "stream",
     "text": [
      "Before dropout:  tensor([[-1.0836,  0.6566, -1.3986, -0.1766, -0.8092],\n",
      "        [-1.6153,  1.8555,  0.9571, -0.0517, -0.5138],\n",
      "        [ 0.1332,  1.5744, -0.2564,  0.1590, -1.1922],\n",
      "        [-0.2597,  2.4083, -1.3496,  0.5746,  1.1379],\n",
      "        [ 1.6311,  1.4233, -1.0175,  0.5021,  0.5882]])\n"
     ]
    }
   ],
   "source": [
    "print(\"Before dropout: \", x)"
   ]
  },
  {
   "cell_type": "code",
   "execution_count": 22,
   "metadata": {},
   "outputs": [
    {
     "name": "stdout",
     "output_type": "stream",
     "text": [
      "After dropout tensor([[-2.1673,  0.0000, -2.7973, -0.0000, -1.6184],\n",
      "        [-3.2307,  0.0000,  1.9143, -0.1034, -1.0276],\n",
      "        [ 0.2664,  0.0000, -0.5127,  0.3181, -0.0000],\n",
      "        [-0.0000,  0.0000, -0.0000,  0.0000,  0.0000],\n",
      "        [ 3.2622,  0.0000, -2.0350,  0.0000,  0.0000]])\n"
     ]
    }
   ],
   "source": [
    "print(\"After dropout\", y)"
   ]
  },
  {
   "cell_type": "markdown",
   "metadata": {
    "colab_type": "text",
    "id": "ngs43NaBIQlu"
   },
   "source": [
    "# Building a CNN for fashion mnist"
   ]
  },
  {
   "cell_type": "code",
   "execution_count": 23,
   "metadata": {},
   "outputs": [
    {
     "data": {
      "image/png": "[encoded data removed]",
      "text/plain": [
       "<Figure size 640x480 with 1 Axes>"
      ]
     },
     "metadata": {},
     "output_type": "display_data"
    }
   ],
   "source": [
    "import matplotlib.pyplot as plt\n",
    "\n",
    "fig = plt.imread('./figs/fmnist.png')\n",
    "plt.imshow(fig)\n",
    "plt.axis(\"off\")\n",
    "plt.show()"
   ]
  },
  {
   "cell_type": "markdown",
   "metadata": {},
   "source": [
    "### Loading the Dataset"
   ]
  },
  {
   "cell_type": "code",
   "execution_count": 24,
   "metadata": {},
   "outputs": [],
   "source": [
    "#import modules to manipulate data\n",
    "from torch.utils.data import DataLoader, random_split\n",
    "from torchvision import datasets\n",
    "from torchvision import transforms\n",
    "# important to report the training results\n",
    "from torch_snippets import Report"
   ]
  },
  {
   "cell_type": "code",
   "execution_count": 25,
   "metadata": {},
   "outputs": [],
   "source": [
    "#define transformations between brackets to apply on the dataset images. For instance, convert them into tensors.\n",
    "transformations = transforms.Compose([transforms.ToTensor()]) "
   ]
  },
  {
   "cell_type": "markdown",
   "metadata": {},
   "source": [
    "#### You may load training and test images separately or"
   ]
  },
  {
   "cell_type": "code",
   "execution_count": 26,
   "metadata": {},
   "outputs": [],
   "source": [
    "#training_set = datasets.FashionMNIST(\n",
    "#    root=\"./images\",\n",
    "#    train=True,\n",
    "#    download=True,\n",
    "#    transform=transformations\n",
    "#)\n",
    "\n",
    "#test_set = datasets.FashionMNIST(\n",
    "#    root=\"./images\",\n",
    "#    train=False,\n",
    "#    download=True,\n",
    "#    transform=transformations\n",
    "#)"
   ]
  },
  {
   "cell_type": "markdown",
   "metadata": {},
   "source": [
    "#### you may download the training set and split it as you wish."
   ]
  },
  {
   "cell_type": "code",
   "execution_count": 27,
   "metadata": {},
   "outputs": [],
   "source": [
    "data_set = datasets.FashionMNIST(\n",
    "    root=\"./images\",\n",
    "    train=True,\n",
    "    download=True,\n",
    "    transform=transformations\n",
    ")"
   ]
  },
  {
   "cell_type": "code",
   "execution_count": 28,
   "metadata": {},
   "outputs": [],
   "source": [
    "#divide the dataset randomly into train, valid, and test sets. \n",
    "trainset, validset, testset = random_split(data_set, [30000, 15000, 15000])"
   ]
  },
  {
   "cell_type": "markdown",
   "metadata": {},
   "source": [
    "### Visualizing training images"
   ]
  },
  {
   "cell_type": "code",
   "execution_count": 29,
   "metadata": {},
   "outputs": [
    {
     "data": {
      "image/png": "[encoded data removed]",
      "text/plain": [
       "<Figure size 800x800 with 9 Axes>"
      ]
     },
     "metadata": {},
     "output_type": "display_data"
    }
   ],
   "source": [
    "labels_map = {\n",
    "    0: \"T-Shirt\",\n",
    "    1: \"Trouser\",\n",
    "    2: \"Pullover\",\n",
    "    3: \"Dress\",\n",
    "    4: \"Coat\",\n",
    "    5: \"Sandal\",\n",
    "    6: \"Shirt\",\n",
    "    7: \"Sneaker\",\n",
    "    8: \"Bag\",\n",
    "    9: \"Ankle Boot\",\n",
    "}\n",
    "figure = plt.figure(figsize=(8, 8))\n",
    "cols, rows = 3, 3\n",
    "for i in range(1, cols * rows + 1):\n",
    "    sample_idx = torch.randint(len(trainset), size=(1,)).item()\n",
    "    img, label = trainset[sample_idx]\n",
    "    figure.add_subplot(rows, cols, i)\n",
    "    plt.title(labels_map[label])\n",
    "    plt.axis(\"off\")\n",
    "    plt.imshow(img.squeeze(), cmap=\"gray\")\n",
    "plt.show()"
   ]
  },
  {
   "cell_type": "markdown",
   "metadata": {},
   "source": [
    "### Defining Dataloaders"
   ]
  },
  {
   "cell_type": "markdown",
   "metadata": {},
   "source": [
    "A dataloader divides a dataset into batches for iteration. Each iteration returns the next batch of train_features and train_labels (containing batch_size=64 features and labels, for instance). By specifying shuffle=True, after we iterate over all batches the dataset is shuffled (this is important to avoid overfitting when training a NN).\n",
    "\n",
    "DataLoader(dataset, batch_size=1, shuffle=False, sampler=None,\n",
    "           batch_sampler=None, num_workers=0, collate_fn=None,\n",
    "           pin_memory=False, drop_last=False, timeout=0,\n",
    "           worker_init_fn=None, *, prefetch_factor=2,\n",
    "           persistent_workers=False)"
   ]
  },
  {
   "cell_type": "code",
   "execution_count": 30,
   "metadata": {},
   "outputs": [],
   "source": [
    "#defining dataloader that will generate batches with 64 images at random \n",
    "trainload = DataLoader(trainset, batch_size=64, shuffle=True)\n",
    "testload  = DataLoader(testset, batch_size=64, shuffle=True)\n",
    "validload = DataLoader(validset, batch_size=64, shuffle=True)"
   ]
  },
  {
   "cell_type": "code",
   "execution_count": 31,
   "metadata": {},
   "outputs": [
    {
     "name": "stdout",
     "output_type": "stream",
     "text": [
      "Feature batch shape: torch.Size([64, 1, 28, 28])\n",
      "Label batch shape: torch.Size([64])\n"
     ]
    },
    {
     "data": {
      "image/png": "[encoded data removed]",
      "text/plain": [
       "<Figure size 640x480 with 1 Axes>"
      ]
     },
     "metadata": {},
     "output_type": "display_data"
    },
    {
     "name": "stdout",
     "output_type": "stream",
     "text": [
      "Label: 0 Object: T-Shirt\n"
     ]
    }
   ],
   "source": [
    "# For instance, you can access a batch and display image and label of its first sample.\n",
    "\n",
    "train_features, train_labels = next(iter(trainload)) # returns a batch\n",
    "print(\"Feature batch shape: {}\".format(train_features.shape)) # prints the shape of the features\n",
    "print(\"Label batch shape: {}\".format(train_labels.shape)) # prints the shape of the labels\n",
    "img   = train_features[16].squeeze() # returns the first image\n",
    "label = train_labels[16] # returns its label\n",
    "plt.imshow(img, cmap=\"gray\") # shows image and label\n",
    "plt.show()\n",
    "print(\"Label: {} Object: {}\".format(label.item(), labels_map[label.item()]))"
   ]
  },
  {
   "cell_type": "markdown",
   "metadata": {},
   "source": [
    "### Defining our CNN model"
   ]
  },
  {
   "cell_type": "code",
   "execution_count": 32,
   "metadata": {
    "colab": {},
    "colab_type": "code",
    "id": "P3harIz2LtcR"
   },
   "outputs": [],
   "source": [
    "import math"
   ]
  },
  {
   "cell_type": "code",
   "execution_count": 33,
   "metadata": {
    "colab": {},
    "colab_type": "code",
    "id": "PnEm1AsiITWZ"
   },
   "outputs": [],
   "source": [
    "# a convolutional block\n",
    "def conv_block(nchannels_in, nchannels_out, stride_val):\n",
    "    return nn.Sequential(\n",
    "        #defining convolutional layer \n",
    "        nn.Conv2d(in_channels=nchannels_in, out_channels=nchannels_out, kernel_size=(3, 3),\n",
    "                  stride=1, padding=1, bias=False),\n",
    "        #defining a batch normalization layer\n",
    "        nn.BatchNorm2d(num_features=nchannels_out),\n",
    "        #defining activation layer\n",
    "        nn.ReLU(),\n",
    "        #defining a pooling layer\n",
    "        nn.MaxPool2d(kernel_size=(3, 3), stride=stride_val, padding=1)\n",
    "    )\n",
    "  \n",
    "# Note that some operations, such as skip connection and downsampling, can be done in the forward method\n",
    "class FMNISTNet(nn.Module):\n",
    "\n",
    "    def __init__(self, num_classes):\n",
    "        super(FMNISTNet, self).__init__()\n",
    "        \n",
    "        #define the first conv_block\n",
    "        self.conv1 = conv_block(1,16,1)\n",
    "        \n",
    "        #defining the second conv_block\n",
    "        self.conv2 = conv_block(16,64,2)                      \n",
    "        \n",
    "        #defining classifier\n",
    "        self.classifier = nn.Sequential(\n",
    "            #defining linear layer\n",
    "            nn.Linear(in_features=int((28*28*(16+64))/(2*2)), out_features=512, bias=True),\n",
    "            #defining activation layer\n",
    "            nn.ReLU(),\n",
    "            # defining a dropout layer\n",
    "            nn.Dropout(0.2),\n",
    "            #defining linear layer as decision layer\n",
    "            nn.Linear(512, num_classes) #Note that you do not need nn.Softmax in torch\n",
    "        )\n",
    "\n",
    "        #initialize weights\n",
    "        self._initialize_weights()\n",
    "\n",
    "    def forward(self, x):\n",
    "        #extracts features\n",
    "        x1      = self.conv1(x)\n",
    "        x2      = self.conv2(x1)\n",
    "        #resizes x1 to have the same size of x2. See other operations in functional.\n",
    "        x1      = torch.nn.functional.interpolate(x1, scale_factor=(0.5, 0.5), mode='nearest',\n",
    "                                                  recompute_scale_factor=True)\n",
    "        #performs skip connection \n",
    "        x       = torch.cat((x1, x2), dim=1)\n",
    "    \n",
    "        #transforms outputs into a 2D tensor\n",
    "        x = torch.flatten(x, start_dim=1)\n",
    "\n",
    "        #classifies features\n",
    "        y = self.classifier(x)\n",
    "  \n",
    "        return y\n",
    "  \n",
    "    # Same as Xavier\n",
    "    def _initialize_weights(self):\n",
    "        #for each submodule of our network\n",
    "        for m in self.modules():\n",
    "            if isinstance(m, nn.Conv2d):\n",
    "                #get the number of elements in the layer weights\n",
    "                n = m.kernel_size[0] * m.kernel_size[1] * m.in_channels\n",
    "\n",
    "                #initialize layer weights with random values generated from a normal\n",
    "                #distribution with mean = 0 and std = sqrt(2. / n))\n",
    "                m.weight.data.normal_(mean=0, std=math.sqrt(2. / n))\n",
    "\n",
    "                if m.bias is not None:\n",
    "                    #initialize bias with 0 \n",
    "                    m.bias.data.zero_()\n",
    "            elif isinstance(m, nn.Linear):\n",
    "                #initialize layer weights with random values generated from a normal\n",
    "                #distribution with mean = 0 and std = 1/100\n",
    "                m.weight.data.normal_(mean=0, std=0.01)\n",
    "                if m.bias is not None:\n",
    "                #initialize bias with 0 \n",
    "                    m.bias.data.zero_()"
   ]
  },
  {
   "cell_type": "markdown",
   "metadata": {
    "colab_type": "text",
    "id": "PuN-_jLnKX_p"
   },
   "source": [
    "### Defining a device and creating the model"
   ]
  },
  {
   "cell_type": "code",
   "execution_count": 34,
   "metadata": {
    "colab": {},
    "colab_type": "code",
    "id": "kZ3A0UlWUBAx"
   },
   "outputs": [],
   "source": [
    "#is GPU available?\n",
    "gpu = torch.cuda.is_available()\n",
    "\n",
    "#defining device where to to the computation\n",
    "device = torch.device(0) if gpu else torch.device('cpu')"
   ]
  },
  {
   "cell_type": "code",
   "execution_count": 35,
   "metadata": {
    "colab": {},
    "colab_type": "code",
    "id": "SXOFYjUDLfHI"
   },
   "outputs": [],
   "source": [
    "#creating the model to a dataset with 10 classes and moving it to the correct device\n",
    "model = FMNISTNet(num_classes=10).to(device)"
   ]
  },
  {
   "cell_type": "markdown",
   "metadata": {},
   "source": [
    "### Show the summary of the model"
   ]
  },
  {
   "cell_type": "code",
   "execution_count": 36,
   "metadata": {},
   "outputs": [
    {
     "name": "stdout",
     "output_type": "stream",
     "text": [
      "==========================================================================================\n",
      "Layer (type:depth-idx)                   Output Shape              Param #\n",
      "==========================================================================================\n",
      "├─Sequential: 1-1                        [-1, 16, 28, 28]          --\n",
      "|    └─Conv2d: 2-1                       [-1, 16, 28, 28]          144\n",
      "|    └─BatchNorm2d: 2-2                  [-1, 16, 28, 28]          32\n",
      "|    └─ReLU: 2-3                         [-1, 16, 28, 28]          --\n",
      "|    └─MaxPool2d: 2-4                    [-1, 16, 28, 28]          --\n",
      "├─Sequential: 1-2                        [-1, 64, 14, 14]          --\n",
      "|    └─Conv2d: 2-5                       [-1, 64, 28, 28]          9,216\n",
      "|    └─BatchNorm2d: 2-6                  [-1, 64, 28, 28]          128\n",
      "|    └─ReLU: 2-7                         [-1, 64, 28, 28]          --\n",
      "|    └─MaxPool2d: 2-8                    [-1, 64, 14, 14]          --\n",
      "├─Sequential: 1-3                        [-1, 10]                  --\n",
      "|    └─Linear: 2-9                       [-1, 512]                 8,028,672\n",
      "|    └─ReLU: 2-10                        [-1, 512]                 --\n",
      "|    └─Dropout: 2-11                     [-1, 512]                 --\n",
      "|    └─Linear: 2-12                      [-1, 10]                  5,130\n",
      "==========================================================================================\n",
      "Total params: 8,043,322\n",
      "Trainable params: 8,043,322\n",
      "Non-trainable params: 0\n",
      "Total mult-adds (M): 23.41\n",
      "==========================================================================================\n",
      "Input size (MB): 0.00\n",
      "Forward/backward pass size (MB): 0.96\n",
      "Params size (MB): 30.68\n",
      "Estimated Total Size (MB): 31.65\n",
      "==========================================================================================\n"
     ]
    },
    {
     "data": {
      "text/plain": [
       "==========================================================================================\n",
       "Layer (type:depth-idx)                   Output Shape              Param #\n",
       "==========================================================================================\n",
       "├─Sequential: 1-1                        [-1, 16, 28, 28]          --\n",
       "|    └─Conv2d: 2-1                       [-1, 16, 28, 28]          144\n",
       "|    └─BatchNorm2d: 2-2                  [-1, 16, 28, 28]          32\n",
       "|    └─ReLU: 2-3                         [-1, 16, 28, 28]          --\n",
       "|    └─MaxPool2d: 2-4                    [-1, 16, 28, 28]          --\n",
       "├─Sequential: 1-2                        [-1, 64, 14, 14]          --\n",
       "|    └─Conv2d: 2-5                       [-1, 64, 28, 28]          9,216\n",
       "|    └─BatchNorm2d: 2-6                  [-1, 64, 28, 28]          128\n",
       "|    └─ReLU: 2-7                         [-1, 64, 28, 28]          --\n",
       "|    └─MaxPool2d: 2-8                    [-1, 64, 14, 14]          --\n",
       "├─Sequential: 1-3                        [-1, 10]                  --\n",
       "|    └─Linear: 2-9                       [-1, 512]                 8,028,672\n",
       "|    └─ReLU: 2-10                        [-1, 512]                 --\n",
       "|    └─Dropout: 2-11                     [-1, 512]                 --\n",
       "|    └─Linear: 2-12                      [-1, 10]                  5,130\n",
       "==========================================================================================\n",
       "Total params: 8,043,322\n",
       "Trainable params: 8,043,322\n",
       "Non-trainable params: 0\n",
       "Total mult-adds (M): 23.41\n",
       "==========================================================================================\n",
       "Input size (MB): 0.00\n",
       "Forward/backward pass size (MB): 0.96\n",
       "Params size (MB): 30.68\n",
       "Estimated Total Size (MB): 31.65\n",
       "=========================================================================================="
      ]
     },
     "execution_count": 36,
     "metadata": {},
     "output_type": "execute_result"
    }
   ],
   "source": [
    "from torchsummary import summary\n",
    "\n",
    "summary(model,(1,28,28)) # FMNIST contains 28x28 images with 1 channel"
   ]
  },
  {
   "cell_type": "markdown",
   "metadata": {},
   "source": [
    "### Show the trainable parameters: weights and bias"
   ]
  },
  {
   "cell_type": "code",
   "execution_count": 37,
   "metadata": {},
   "outputs": [
    {
     "name": "stdout",
     "output_type": "stream",
     "text": [
      "10\n",
      "tensor[1, 3, 3] n=9 x∈[-1.015, 0.772] μ=0.132 σ=0.495 grad SelectBackward0 cuda:0 [[[-1.015, 0.067, 0.532], [0.233, 0.772, -0.016], [0.172, 0.115, 0.329]]]\n",
      "tensor grad SelectBackward0 cuda:0 1.000\n"
     ]
    }
   ],
   "source": [
    "params = list(model.parameters())\n",
    "print(len(params))\n",
    "print(params[0][0]) # random weights of the first filter of the convolutional layer\n",
    "print(params[1][0]) # the bias of that filter"
   ]
  },
  {
   "cell_type": "markdown",
   "metadata": {
    "colab_type": "text",
    "id": "ns-aYW2hLG53"
   },
   "source": [
    "### Loss function"
   ]
  },
  {
   "cell_type": "markdown",
   "metadata": {
    "colab_type": "text",
    "id": "tyibIOQ7IKMs"
   },
   "source": [
    "We use the cross entropy as loss function, which combines softmax and cross entropy.\n",
    "\n",
    "CLASS torch.nn.CrossEntropyLoss(weight=None, size_average=None, ignore_index=-100, reduce=None, reduction='mean')"
   ]
  },
  {
   "cell_type": "code",
   "execution_count": 38,
   "metadata": {
    "colab": {},
    "colab_type": "code",
    "id": "ywWsP2vTLIeL"
   },
   "outputs": [],
   "source": [
    "def Criterion(preds, targets):\n",
    "    ce            = nn.CrossEntropyLoss().to(device)\n",
    "    loss          = ce(preds, targets.long()) \n",
    "    pred_labels   = torch.max(preds, 1)[1] # same as argmax\n",
    "    acc           = torch.sum(pred_labels == targets.data)\n",
    "    n             = pred_labels.size(0)\n",
    "    acc           = acc/n\n",
    "    return loss, acc\n",
    "\n",
    "\n",
    "criterion = Criterion"
   ]
  },
  {
   "cell_type": "markdown",
   "metadata": {
    "colab_type": "text",
    "id": "2MvRRGK1LQDY"
   },
   "source": [
    "### Optimizer"
   ]
  },
  {
   "cell_type": "markdown",
   "metadata": {
    "colab_type": "text",
    "id": "JB-a-LvFeT11"
   },
   "source": [
    "PyTorch has many optimization algorithms. Here we are going to use the Stochastic Gradient Descent."
   ]
  },
  {
   "cell_type": "code",
   "execution_count": 39,
   "metadata": {
    "colab": {},
    "colab_type": "code",
    "id": "WlgVPXhJMCo2"
   },
   "outputs": [],
   "source": [
    "#import module that defines the optimizer\n",
    "import torch.optim as optim"
   ]
  },
  {
   "cell_type": "markdown",
   "metadata": {
    "colab_type": "text",
    "id": "Ap-bAHoUeoUI"
   },
   "source": [
    "To create a optimizer, we need to set a learning rate, a momentum, a weight_decay (L2 regularization).\n",
    "\n",
    "CLASS torch.optim.SGD(params, lr=<required parameter>, momentum=0, dampening=0, weight_decay=0, nesterov=False)"
   ]
  },
  {
   "cell_type": "code",
   "execution_count": 40,
   "metadata": {
    "colab": {},
    "colab_type": "code",
    "id": "yq5b97faLO-l"
   },
   "outputs": [],
   "source": [
    "#defining optimizer\n",
    "optimizer = optim.SGD(model.parameters(), lr=0.01, momentum=0.85, weight_decay=0.0001)"
   ]
  },
  {
   "cell_type": "markdown",
   "metadata": {
    "colab_type": "text",
    "id": "tFXAiYRZe5u-"
   },
   "source": [
    "We can use a learning rate scheduler that can update the learning rate during training. Here we will use a scheduler that multiply the learning rate by a factor $\\gamma$ at every $25$ epochs: e.g., lr=0.5, 0.05, 0.005...\n",
    "\n",
    "CLASS torch.optim.lr_scheduler.StepLR(optimizer, step_size, gamma=0.1, last_epoch=-1, verbose=False)\n"
   ]
  },
  {
   "cell_type": "code",
   "execution_count": 41,
   "metadata": {
    "colab": {},
    "colab_type": "code",
    "id": "g9bEjCBPLZZ0"
   },
   "outputs": [],
   "source": [
    "#defining learning rate scheduler\n",
    "lr_scheduler = optim.lr_scheduler.StepLR(optimizer, step_size=25, gamma=0.1)"
   ]
  },
  {
   "cell_type": "markdown",
   "metadata": {
    "colab_type": "text",
    "id": "EG0RRG5uUJYF"
   },
   "source": [
    "### Defining training and validation/test functions"
   ]
  },
  {
   "cell_type": "code",
   "execution_count": 43,
   "metadata": {
    "colab": {},
    "colab_type": "code",
    "id": "2uWGZ_y7T2b0"
   },
   "outputs": [],
   "source": [
    "def train_batch(model, data, optimizer, criterion, device):\n",
    "    model.train()\n",
    "    ims, targets = data\n",
    "    ims     = ims.to(device=device)\n",
    "    targets = targets.to(device=device)\n",
    "    preds   = model(ims)\n",
    "    loss, acc = criterion(preds, targets)\n",
    "    loss.backward()\n",
    "    optimizer.step()\n",
    "    optimizer.zero_grad()\n",
    "\n",
    "    return loss.item(), acc.item()\n",
    "\n",
    "@torch.no_grad()\n",
    "def validate_batch(model, data, criterion, device):\n",
    "    model.eval()\n",
    "    ims, targets = data\n",
    "    ims     = ims.to(device=device)\n",
    "    targets = targets.to(device=device)\n",
    "    preds   = model(ims)\n",
    "    loss, acc = criterion(preds, targets)\n",
    "    return loss.item(), acc.item()\n",
    "            "
   ]
  },
  {
   "cell_type": "markdown",
   "metadata": {},
   "source": [
    "### Training your model"
   ]
  },
  {
   "cell_type": "code",
   "execution_count": 44,
   "metadata": {
    "colab": {
     "base_uri": "https://localhost:8080/",
     "height": 1000
    },
    "colab_type": "code",
    "id": "pRht_kqVUa4H",
    "outputId": "e52bded8-59e0-4a90-aeb4-b75e46b58561"
   },
   "outputs": [
    {
     "name": "stdout",
     "output_type": "stream",
     "text": [
      "EPOCH: 0.655  trn_loss: 0.430  trn_acc: 0.812  (13.10s - 787.24s remaining)"
     ]
    },
    {
     "ename": "KeyboardInterrupt",
     "evalue": "",
     "output_type": "error",
     "traceback": [
      "\u001b[0;31m---------------------------------------------------------------------------\u001b[0m",
      "\u001b[0;31mKeyboardInterrupt\u001b[0m                         Traceback (most recent call last)",
      "Cell \u001b[0;32mIn[44], line 11\u001b[0m\n\u001b[1;32m      9\u001b[0m     loss, acc \u001b[39m=\u001b[39m train_batch(model, data, optimizer, criterion, device)\n\u001b[1;32m     10\u001b[0m     \u001b[39m#report results for the batch\u001b[39;00m\n\u001b[0;32m---> 11\u001b[0m     log\u001b[39m.\u001b[39;49mrecord((ex\u001b[39m+\u001b[39;49m(bx\u001b[39m+\u001b[39;49m\u001b[39m1\u001b[39;49m)\u001b[39m/\u001b[39;49mN), trn_loss\u001b[39m=\u001b[39;49mloss, trn_acc\u001b[39m=\u001b[39;49macc, end\u001b[39m=\u001b[39;49m\u001b[39m'\u001b[39;49m\u001b[39m\\r\u001b[39;49;00m\u001b[39m'\u001b[39;49m)\n\u001b[1;32m     13\u001b[0m N \u001b[39m=\u001b[39m \u001b[39mlen\u001b[39m(validload)\n\u001b[1;32m     14\u001b[0m \u001b[39mfor\u001b[39;00m bx, data \u001b[39min\u001b[39;00m \u001b[39menumerate\u001b[39m(validload):\n",
      "File \u001b[0;32m~/miniconda3/envs/mo434/lib/python3.10/site-packages/torch_snippets/torch_loader.py:128\u001b[0m, in \u001b[0;36mReport.record\u001b[0;34m(self, pos, **metrics)\u001b[0m\n\u001b[1;32m    127\u001b[0m \u001b[39mdef\u001b[39;00m \u001b[39mrecord\u001b[39m(\u001b[39mself\u001b[39m, pos, \u001b[39m*\u001b[39m\u001b[39m*\u001b[39mmetrics):\n\u001b[0;32m--> 128\u001b[0m     metrics \u001b[39m=\u001b[39m {k: to_np(v) \u001b[39mfor\u001b[39;00m k, v \u001b[39min\u001b[39;00m metrics\u001b[39m.\u001b[39mitems()}\n\u001b[1;32m    129\u001b[0m     \u001b[39mfor\u001b[39;00m k, v \u001b[39min\u001b[39;00m metrics\u001b[39m.\u001b[39mitems():\n\u001b[1;32m    130\u001b[0m         \u001b[39mif\u001b[39;00m k \u001b[39min\u001b[39;00m [\u001b[39m\"\u001b[39m\u001b[39mend\u001b[39m\u001b[39m\"\u001b[39m, \u001b[39m\"\u001b[39m\u001b[39mpos\u001b[39m\u001b[39m\"\u001b[39m]:\n",
      "File \u001b[0;32m~/miniconda3/envs/mo434/lib/python3.10/site-packages/torch_snippets/torch_loader.py:128\u001b[0m, in \u001b[0;36m<dictcomp>\u001b[0;34m(.0)\u001b[0m\n\u001b[1;32m    127\u001b[0m \u001b[39mdef\u001b[39;00m \u001b[39mrecord\u001b[39m(\u001b[39mself\u001b[39m, pos, \u001b[39m*\u001b[39m\u001b[39m*\u001b[39mmetrics):\n\u001b[0;32m--> 128\u001b[0m     metrics \u001b[39m=\u001b[39m {k: to_np(v) \u001b[39mfor\u001b[39;00m k, v \u001b[39min\u001b[39;00m metrics\u001b[39m.\u001b[39mitems()}\n\u001b[1;32m    129\u001b[0m     \u001b[39mfor\u001b[39;00m k, v \u001b[39min\u001b[39;00m metrics\u001b[39m.\u001b[39mitems():\n\u001b[1;32m    130\u001b[0m         \u001b[39mif\u001b[39;00m k \u001b[39min\u001b[39;00m [\u001b[39m\"\u001b[39m\u001b[39mend\u001b[39m\u001b[39m\"\u001b[39m, \u001b[39m\"\u001b[39m\u001b[39mpos\u001b[39m\u001b[39m\"\u001b[39m]:\n",
      "File \u001b[0;32m~/miniconda3/envs/mo434/lib/python3.10/site-packages/torch_snippets/torch_loader.py:91\u001b[0m, in \u001b[0;36mto_np\u001b[0;34m(x)\u001b[0m\n\u001b[1;32m     90\u001b[0m \u001b[39mdef\u001b[39;00m \u001b[39mto_np\u001b[39m(x):\n\u001b[0;32m---> 91\u001b[0m     \u001b[39mif\u001b[39;00m \u001b[39misinstance\u001b[39m(x, torch\u001b[39m.\u001b[39mTensor):\n\u001b[1;32m     92\u001b[0m         \u001b[39mreturn\u001b[39;00m \u001b[39mfloat\u001b[39m(x\u001b[39m.\u001b[39mdetach()\u001b[39m.\u001b[39mcpu()\u001b[39m.\u001b[39mnumpy())\n\u001b[1;32m     93\u001b[0m     \u001b[39melse\u001b[39;00m:\n",
      "\u001b[0;31mKeyboardInterrupt\u001b[0m: "
     ]
    }
   ],
   "source": [
    "# initializing variables\n",
    "n_epochs = 40\n",
    "log      = Report(n_epochs)\n",
    "\n",
    "# starting training and validation\n",
    "for ex in range(n_epochs):\n",
    "    N = len(trainload)\n",
    "    for bx, data in enumerate(trainload):\n",
    "        loss, acc = train_batch(model, data, optimizer, criterion, device)\n",
    "        #report results for the batch\n",
    "        log.record((ex+(bx+1)/N), trn_loss=loss, trn_acc=acc, end='\\r')\n",
    "\n",
    "    N = len(validload)\n",
    "    for bx, data in enumerate(validload):\n",
    "        loss, acc = validate_batch(model, data, criterion, device)\n",
    "        log.record((ex+(bx+1)/N), val_loss=loss, val_acc=acc, end='\\r')\n",
    "\n",
    "    if (ex+1) % 10 == 0: log.report_avgs(ex+1)\n",
    "    #count epochs for auto-adjusting the learning rate\n",
    "    lr_scheduler.step()"
   ]
  },
  {
   "cell_type": "markdown",
   "metadata": {},
   "source": [
    "### Plot the results"
   ]
  },
  {
   "cell_type": "code",
   "execution_count": 44,
   "metadata": {},
   "outputs": [
    {
     "name": "stderr",
     "output_type": "stream",
     "text": [
      "100%|████████████████████████████████████████| 141/141 [00:00<00:00, 327.21it/s]\n"
     ]
    },
    {
     "data": {
      "image/png": "[encoded data removed]",
      "text/plain": [
       "<Figure size 576x432 with 1 Axes>"
      ]
     },
     "metadata": {
      "needs_background": "light"
     },
     "output_type": "display_data"
    },
    {
     "name": "stderr",
     "output_type": "stream",
     "text": [
      "100%|████████████████████████████████████████| 141/141 [00:00<00:00, 316.85it/s]\n"
     ]
    },
    {
     "data": {
      "image/png": "[encoded data removed]",
      "text/plain": [
       "<Figure size 576x432 with 1 Axes>"
      ]
     },
     "metadata": {
      "needs_background": "light"
     },
     "output_type": "display_data"
    }
   ],
   "source": [
    "log.plot_epochs(['trn_loss','val_loss'])\n",
    "log.plot_epochs(['trn_acc','val_acc'])"
   ]
  },
  {
   "cell_type": "markdown",
   "metadata": {},
   "source": [
    "### Test your model"
   ]
  },
  {
   "cell_type": "code",
   "execution_count": 45,
   "metadata": {
    "colab": {
     "base_uri": "https://localhost:8080/",
     "height": 68
    },
    "colab_type": "code",
    "id": "cltw3oIuirqD",
    "outputId": "f554d3dd-d308-457c-c7aa-9966c624cdf8"
   },
   "outputs": [],
   "source": [
    "def Test(model, testload, criterion, device):\n",
    "    N = len(testload)\n",
    "    mean_loss = 0\n",
    "    mean_acc  = 0\n",
    "    for bx, data in enumerate(testload):\n",
    "        loss, acc  = validate_batch(model, data, criterion, device)\n",
    "        mean_loss += loss\n",
    "        mean_acc  += acc\n",
    "    \n",
    "    mean_loss = mean_loss / N\n",
    "    mean_acc  = mean_acc / N\n",
    "    return(mean_loss, mean_acc)\n",
    "\n",
    "\n"
   ]
  },
  {
   "cell_type": "code",
   "execution_count": 46,
   "metadata": {},
   "outputs": [
    {
     "name": "stdout",
     "output_type": "stream",
     "text": [
      "Loss: 0.342831 Acc: 0.922651\n"
     ]
    }
   ],
   "source": [
    "(mean, acc) = Test(model, testload, criterion, device)\n",
    "print('Loss: {:.6f} Acc: {:.6f}'.format(mean,acc))"
   ]
  },
  {
   "cell_type": "markdown",
   "metadata": {},
   "source": [
    "### Save and load your model"
   ]
  },
  {
   "cell_type": "code",
   "execution_count": 47,
   "metadata": {},
   "outputs": [],
   "source": [
    "# Save the tensors in the CPU format rather than in the GPU format to facilitate loading them later. It\n",
    "# does not save the architecture of the model, so the class of the model is required to load it later. \n",
    "torch.save(model.to('cpu').state_dict(), 'FMNistCNN.pth')\n",
    "#model.load_state_dict(torch.load('FMNistCNN.pth'))"
   ]
  },
  {
   "cell_type": "markdown",
   "metadata": {},
   "source": [
    "#### Exercise: The model is overfitted. Play with datasets' sizes, network architecture, and hiperparameters to improve results without overfitting and underfitting."
   ]
  }
 ],
 "metadata": {
  "accelerator": "GPU",
  "colab": {
   "collapsed_sections": [],
   "name": "presentation.ipynb",
   "provenance": []
  },
  "kernelspec": {
   "display_name": "Python 3 (ipykernel)",
   "language": "python",
   "name": "python3"
  },
  "language_info": {
   "codemirror_mode": {
    "name": "ipython",
    "version": 3
   },
   "file_extension": ".py",
   "mimetype": "text/x-python",
   "name": "python",
   "nbconvert_exporter": "python",
   "pygments_lexer": "ipython3",
   "version": "3.10.9"
  }
 },
 "nbformat": 4,
 "nbformat_minor": 1
}
