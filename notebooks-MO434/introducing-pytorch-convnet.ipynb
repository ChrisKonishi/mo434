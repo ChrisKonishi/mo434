{
 "cells": [
  {
   "cell_type": "markdown",
   "metadata": {
    "colab_type": "text",
    "id": "UACxZR8ciiUQ"
   },
   "source": [
    "# Using PyTorch to build, train, and test convolutional neural networks"
   ]
  },
  {
   "cell_type": "markdown",
   "metadata": {
    "colab_type": "text",
    "id": "wz1OQ5nuzcZs"
   },
   "source": [
    "## Agenda\n",
    "*   Basic operations\n",
    "  *    Convolution\n",
    "  *    Activation\n",
    "  *    Pooling\n",
    "  *    Batch normalization\n",
    "  *    Skip conection\n",
    "  *    Linear\n",
    "  *    Dropout\n",
    "*   Loading and splitting a dataset  \n",
    "*   Building a convolutional neural network\n",
    "*   Defining loss function and optimizer\n",
    "*   Training and testing\n",
    "*   Saving and loading the model\n",
    "\n",
    "\n",
    "\n"
   ]
  },
  {
   "cell_type": "markdown",
   "metadata": {
    "colab_type": "text",
    "id": "F07sd5Oa_lce"
   },
   "source": [
    "## Basic operations"
   ]
  },
  {
   "cell_type": "markdown",
   "metadata": {
    "colab_type": "text",
    "id": "gAnRUGQwlD7C"
   },
   "source": [
    "PyTorch has a module called `nn` that provides a lot of useful tools to build neural networks. This module defines most commonly used operations, such as convolution, pooling and activation. We will see how to use some of these operations using module `nn`: \n",
    "\n",
    "*   Convolution\n",
    "*   Activation\n",
    "*   Pooling\n",
    "*   Batch normalization\n",
    "*   Skip connection\n",
    "*   Linear transformation (dense layer) \n",
    "*   Dropout"
   ]
  },
  {
   "cell_type": "code",
   "execution_count": 1,
   "metadata": {
    "colab": {},
    "colab_type": "code",
    "id": "sCdMfoJL_ii9"
   },
   "outputs": [],
   "source": [
    "#import module nn\n",
    "import torch\n",
    "from torch import nn as nn"
   ]
  },
  {
   "cell_type": "markdown",
   "metadata": {
    "colab_type": "text",
    "id": "6p4eyRIkAYHq"
   },
   "source": [
    "### Convolution"
   ]
  },
  {
   "cell_type": "markdown",
   "metadata": {
    "colab_type": "text",
    "id": "ffbtsg3Fr8I8"
   },
   "source": [
    "You must provide the number of input channels, the number of output channels (i.e., number of kernels), and the kernel sizes. To preserve image dimensions, you must provide the padding size. \n",
    "\n",
    "CLASS torch.nn.Conv2d(in_channels, out_channels, kernel_size, stride=1, padding=0, dilation=1, groups=1, bias=True, padding_mode='zeros', device=None, dtype=None)"
   ]
  },
  {
   "cell_type": "code",
   "execution_count": 2,
   "metadata": {
    "colab": {},
    "colab_type": "code",
    "id": "GulcMRYF_yMg"
   },
   "outputs": [],
   "source": [
    "#it defines a convolution with 3 kernels of sizes 5 x 3\n",
    "conv = nn.Conv2d(in_channels=2, out_channels=3, kernel_size=(5, 3), padding=(2,1))"
   ]
  },
  {
   "cell_type": "markdown",
   "metadata": {
    "colab_type": "text",
    "id": "vIPiM70Bn-ib"
   },
   "source": [
    "The weights are stored in a tensor $K_{N, M, P, Q}$, such that\n",
    "$N$ is the number of kernels, $M$ is the number of input channels, $P$ and $Q$ are the input dimensions (height, width). \n",
    "\n"
   ]
  },
  {
   "cell_type": "code",
   "execution_count": 3,
   "metadata": {
    "colab": {
     "base_uri": "https://localhost:8080/",
     "height": 34
    },
    "colab_type": "code",
    "id": "nAWDHZM-UmOO",
    "outputId": "83229aad-6f46-4b41-ee64-baca763b5160"
   },
   "outputs": [
    {
     "name": "stdout",
     "output_type": "stream",
     "text": [
      "torch.Size([3, 2, 5, 3])\n"
     ]
    }
   ],
   "source": [
    "print(conv.weight.data.shape)"
   ]
  },
  {
   "cell_type": "markdown",
   "metadata": {
    "colab_type": "text",
    "id": "znFB_adxsduZ"
   },
   "source": [
    "The input is a tensor $I_{B, M, P, Q}$, such that $B$ is the batch size, $M$ is the number of channels, and $P$ and $Q$ are the input dimensions (height, width). "
   ]
  },
  {
   "cell_type": "code",
   "execution_count": 4,
   "metadata": {
    "colab": {
     "base_uri": "https://localhost:8080/",
     "height": 34
    },
    "colab_type": "code",
    "id": "jGgzqB0N_6Bn",
    "outputId": "deb325d2-3828-47ed-a930-131ae2e60d2a"
   },
   "outputs": [
    {
     "name": "stdout",
     "output_type": "stream",
     "text": [
      "x =  tensor([[[[0.2873, 0.6264, 0.9606, 0.7863, 0.1619, 0.8864, 0.2623, 0.0752],\n",
      "          [0.5505, 0.9434, 0.3255, 0.4251, 0.9453, 0.2061, 0.3589, 0.4058],\n",
      "          [0.1404, 0.4029, 0.4064, 0.6971, 0.6689, 0.0083, 0.7780, 0.3297],\n",
      "          [0.4231, 0.0188, 0.8100, 0.8777, 0.2771, 0.6402, 0.6303, 0.8358],\n",
      "          [0.6728, 0.6079, 0.5916, 0.6291, 0.4463, 0.2467, 0.7546, 0.6464],\n",
      "          [0.4361, 0.0277, 0.8899, 0.2652, 0.4191, 0.3083, 0.0597, 0.0979],\n",
      "          [0.3154, 0.7336, 0.2235, 0.6064, 0.7144, 0.5679, 0.3448, 0.6242],\n",
      "          [0.7811, 0.1593, 0.4011, 0.9878, 0.1792, 0.1356, 0.9625, 0.6571],\n",
      "          [0.9162, 0.1759, 0.2886, 0.3622, 0.5691, 0.7811, 0.7083, 0.2394],\n",
      "          [0.4725, 0.4141, 0.5975, 0.8437, 0.3075, 0.9751, 0.1403, 0.8307]],\n",
      "\n",
      "         [[0.3841, 0.0038, 0.6538, 0.3480, 0.7086, 0.3103, 0.9439, 0.1277],\n",
      "          [0.1715, 0.9798, 0.2936, 0.6771, 0.8899, 0.4648, 0.3401, 0.9144],\n",
      "          [0.9774, 0.9544, 0.8481, 0.5376, 0.4884, 0.9722, 0.5041, 0.6556],\n",
      "          [0.1918, 0.8443, 0.3228, 0.8392, 0.7431, 0.2916, 0.0464, 0.6459],\n",
      "          [0.8955, 0.1012, 0.0203, 0.7463, 0.8974, 0.0968, 0.7458, 0.6452],\n",
      "          [0.0845, 0.9773, 0.5179, 0.5288, 0.3866, 0.5114, 0.5967, 0.6367],\n",
      "          [0.5011, 0.4388, 0.2847, 0.0822, 0.2942, 0.3631, 0.9073, 0.9581],\n",
      "          [0.6588, 0.6792, 0.9176, 0.9510, 0.1802, 0.5082, 0.7147, 0.2857],\n",
      "          [0.5113, 0.5231, 0.0667, 0.9547, 0.3418, 0.2117, 0.5349, 0.1006],\n",
      "          [0.4601, 0.0472, 0.6522, 0.7144, 0.4049, 0.2352, 0.4960, 0.7290]]]])\n",
      "torch.Size([1, 2, 10, 8])\n"
     ]
    }
   ],
   "source": [
    "#creating a random input\n",
    "x = torch.rand(1, 2, 10, 8)\n",
    "print(\"x = \", x)\n",
    "print(x.size())"
   ]
  },
  {
   "cell_type": "code",
   "execution_count": 5,
   "metadata": {
    "colab": {},
    "colab_type": "code",
    "id": "PmW5oc9wAMtf"
   },
   "outputs": [
    {
     "name": "stdout",
     "output_type": "stream",
     "text": [
      "y_conv =  tensor([[[[-0.0990, -0.0927,  0.0404, -0.0252, -0.0665,  0.0738, -0.0603,\n",
      "            0.1448],\n",
      "          [-0.2316,  0.1630, -0.1111,  0.2530,  0.0919,  0.1797, -0.0443,\n",
      "            0.6540],\n",
      "          [ 0.0185,  0.3778, -0.0114,  0.0008,  0.3202,  0.0961, -0.0333,\n",
      "            0.5004],\n",
      "          [-0.0359,  0.1680, -0.1477,  0.2126,  0.2600, -0.2405, -0.0765,\n",
      "            0.4954],\n",
      "          [-0.1138,  0.0794, -0.1040,  0.4131,  0.1996, -0.2884,  0.2155,\n",
      "            0.3228],\n",
      "          [ 0.1104, -0.0108,  0.2771,  0.0300,  0.0520,  0.1183,  0.1875,\n",
      "            0.5369],\n",
      "          [ 0.1104,  0.1197, -0.1340,  0.1566,  0.0503,  0.0589,  0.2457,\n",
      "            0.3717],\n",
      "          [ 0.1296, -0.0119,  0.1075,  0.2800,  0.0016, -0.0035,  0.1084,\n",
      "            0.4384],\n",
      "          [ 0.2035,  0.0268, -0.1911,  0.4892,  0.1845, -0.3552,  0.1786,\n",
      "            0.3765],\n",
      "          [ 0.1258, -0.2415, -0.1084,  0.0984, -0.2504, -0.0250,  0.0775,\n",
      "            0.2663]],\n",
      "\n",
      "         [[ 0.0474, -0.3349, -0.1943,  0.0734, -0.2605, -0.2278,  0.0941,\n",
      "           -0.2106],\n",
      "          [ 0.0050,  0.0435,  0.0127, -0.3079, -0.1482,  0.0260, -0.1640,\n",
      "           -0.2476],\n",
      "          [ 0.2625, -0.1411, -0.1718, -0.3316, -0.3412, -0.0138, -0.1451,\n",
      "           -0.3289],\n",
      "          [-0.0702,  0.0535, -0.4290, -0.1195, -0.2519, -0.3252, -0.2431,\n",
      "           -0.2807],\n",
      "          [ 0.1044,  0.0233, -0.2308, -0.1850, -0.0016, -0.2978, -0.1286,\n",
      "           -0.2153],\n",
      "          [ 0.1898, -0.1736, -0.2897,  0.0837, -0.4039, -0.1121, -0.0809,\n",
      "           -0.3936],\n",
      "          [-0.1192, -0.3009, -0.2244, -0.3280, -0.2554, -0.0732, -0.0213,\n",
      "           -0.4285],\n",
      "          [ 0.1376, -0.0822,  0.0030, -0.2065,  0.0362, -0.1506, -0.2324,\n",
      "           -0.2527],\n",
      "          [-0.0751,  0.0521, -0.0759, -0.3794, -0.3378, -0.0925,  0.0042,\n",
      "           -0.2647],\n",
      "          [ 0.1122, -0.0215,  0.0327,  0.1311, -0.0269, -0.0684,  0.1645,\n",
      "           -0.1834]],\n",
      "\n",
      "         [[ 0.2331,  0.4076, -0.0103,  0.2845,  0.1618,  0.2496,  0.0836,\n",
      "            0.3457],\n",
      "          [ 0.1670, -0.2538,  0.0949,  0.0344,  0.0102,  0.1487,  0.2998,\n",
      "            0.2904],\n",
      "          [-0.2326,  0.1966,  0.0550,  0.0801,  0.3020,  0.0669,  0.3532,\n",
      "            0.3052],\n",
      "          [ 0.3826,  0.2603,  0.1779,  0.1461,  0.0505, -0.0488,  0.2219,\n",
      "            0.2699],\n",
      "          [ 0.0539,  0.2009, -0.1613, -0.0578,  0.1379,  0.2589, -0.3369,\n",
      "            0.1311],\n",
      "          [ 0.4431,  0.1585, -0.1099,  0.0570,  0.4494, -0.0440,  0.1229,\n",
      "            0.4694],\n",
      "          [ 0.0902, -0.1639,  0.2132,  0.2616, -0.0104,  0.0716,  0.2551,\n",
      "            0.3243],\n",
      "          [ 0.1498,  0.3576, -0.1950,  0.1787,  0.0189,  0.0776,  0.2430,\n",
      "            0.2658],\n",
      "          [ 0.1539, -0.1606,  0.1824,  0.1058,  0.0596, -0.1487,  0.1559,\n",
      "            0.1991],\n",
      "          [ 0.0337,  0.0786, -0.2865, -0.1057, -0.2005, -0.1854, -0.2361,\n",
      "            0.0098]]]], grad_fn=<ConvolutionBackward0>)\n",
      "torch.Size([1, 3, 10, 8])\n"
     ]
    }
   ],
   "source": [
    "#Convolving x with the three kernels that have already been randomly initialized\n",
    "y_conv = conv(x)\n",
    "print(\"y_conv = \", y_conv)\n",
    "print(y_conv.shape)"
   ]
  },
  {
   "cell_type": "markdown",
   "metadata": {
    "colab_type": "text",
    "id": "4kuaU58CtqfE"
   },
   "source": [
    "We can also set the kernel weights as we want."
   ]
  },
  {
   "cell_type": "code",
   "execution_count": 6,
   "metadata": {
    "colab": {},
    "colab_type": "code",
    "id": "XV21oH6IBZnS"
   },
   "outputs": [],
   "source": [
    "#initializing weights and biases\n",
    "conv.weight.data = torch.rand(3, 2, 5, 3, requires_grad=True) - 0.5\n",
    "conv.bias.data   = torch.rand(3, requires_grad=True) - 0.5"
   ]
  },
  {
   "cell_type": "code",
   "execution_count": 7,
   "metadata": {
    "colab": {},
    "colab_type": "code",
    "id": "FRb2j6YlFxRH"
   },
   "outputs": [
    {
     "name": "stdout",
     "output_type": "stream",
     "text": [
      "y_conv =  tensor([[[[ 0.6022,  0.1218,  0.2688,  0.4884,  1.0149, -0.1723,  0.6676,\n",
      "           -0.2826],\n",
      "          [ 0.8969,  0.3123,  0.7909,  0.8622,  0.1896, -0.1922,  1.4385,\n",
      "           -0.3310],\n",
      "          [-0.4389,  0.5359,  0.4403,  0.1831, -0.1642,  0.9472, -0.7168,\n",
      "           -0.0184],\n",
      "          [ 0.9812, -0.2617, -0.1731, -0.1686, -0.1591,  0.5371,  0.0688,\n",
      "           -0.3413],\n",
      "          [-0.3630,  0.0668, -0.3277,  0.2095,  0.5037, -0.5349, -0.0561,\n",
      "           -0.3009],\n",
      "          [ 0.8574,  0.0635, -0.8185,  0.1270,  0.0038, -0.5793,  0.6043,\n",
      "            0.1343],\n",
      "          [-0.3966,  0.3342,  0.8857,  0.2402, -0.6983,  0.8124,  0.6598,\n",
      "           -0.5752],\n",
      "          [ 0.4553, -0.3581,  0.3271, -0.4332,  0.2447,  0.6440, -0.1387,\n",
      "           -1.0370],\n",
      "          [-0.2835,  0.1165,  0.1089,  0.4313, -0.2077,  0.1251, -0.2427,\n",
      "           -0.5113],\n",
      "          [-0.6633, -0.1864, -0.8907, -0.7832, -0.6103, -1.1121, -0.4152,\n",
      "           -0.7237]],\n",
      "\n",
      "         [[-0.7130, -0.6928, -1.2486, -0.6021, -1.0101, -0.8201, -1.1352,\n",
      "           -0.2531],\n",
      "          [-1.3895, -2.0991, -1.8792, -2.4015, -2.1885, -1.2170, -1.6574,\n",
      "           -1.0646],\n",
      "          [-2.2198, -1.2080, -2.2050, -1.2305, -1.3737, -1.0410, -1.6418,\n",
      "           -0.5652],\n",
      "          [-0.3075, -1.1611, -1.8018, -1.2442, -1.3779, -1.5906, -0.8597,\n",
      "           -1.4790],\n",
      "          [-1.3470, -0.4204, -1.4694, -1.4462, -1.1682, -1.2402, -1.6536,\n",
      "           -1.4716],\n",
      "          [-0.7138, -1.6943, -1.2172, -1.2981, -0.8411, -1.2285, -1.0560,\n",
      "           -1.4589],\n",
      "          [-1.6331, -1.1681, -0.8259, -1.1638, -1.3544, -0.3031, -1.1447,\n",
      "           -1.0572],\n",
      "          [-1.1498, -0.9831, -1.9239, -1.2421, -0.7745, -1.7559, -1.0371,\n",
      "           -1.3841],\n",
      "          [-1.2899, -1.4645, -1.3611, -1.8924, -1.5887, -1.3869, -0.9814,\n",
      "           -1.1559],\n",
      "          [-1.1683, -0.7927, -1.2676, -1.4344, -1.1600, -1.6688, -1.4398,\n",
      "           -1.1980]],\n",
      "\n",
      "         [[ 0.0684, -0.1003, -0.0669, -0.8759, -0.0602,  0.1483, -0.8350,\n",
      "           -0.3264],\n",
      "          [-0.7693, -0.5563, -0.2672,  0.5455, -0.5692, -0.5124,  0.3023,\n",
      "            0.0285],\n",
      "          [-0.7328, -0.8419, -0.2398, -1.0409,  0.1515, -0.0465, -0.6590,\n",
      "           -0.3068],\n",
      "          [-0.3376,  0.6308, -0.9120, -0.6406, -0.6253, -0.4448, -0.2354,\n",
      "            0.0458],\n",
      "          [-0.9977, -1.6666, -0.2173, -0.2269, -0.9542, -0.2425, -0.9876,\n",
      "           -0.9522],\n",
      "          [-0.5678,  0.6483, -0.5722, -0.9090,  0.0467, -0.1145, -0.8679,\n",
      "           -0.2073],\n",
      "          [-0.7849, -0.8777, -0.2252,  0.1544, -0.4010, -0.7036, -0.4356,\n",
      "           -0.4715],\n",
      "          [-0.9904,  0.2725, -0.8894, -1.6107,  0.0280, -0.1707, -0.3024,\n",
      "           -0.1044],\n",
      "          [-0.2516, -0.1596, -0.2132,  0.6198,  0.3685, -0.5682, -0.3905,\n",
      "            0.0860],\n",
      "          [-0.5173, -0.2630, -0.6264, -1.3218, -0.4932, -0.2757, -0.0666,\n",
      "           -0.7392]]]], grad_fn=<ConvolutionBackward0>)\n",
      "torch.Size([1, 3, 10, 8])\n"
     ]
    }
   ],
   "source": [
    "#Convolving x with our new kernel bank of three kernels\n",
    "y_conv = conv(x)\n",
    "print(\"y_conv = \", y_conv)\n",
    "print(y_conv.shape)"
   ]
  },
  {
   "cell_type": "markdown",
   "metadata": {
    "colab_type": "text",
    "id": "QNk_uCdTGv1B"
   },
   "source": [
    "\n",
    "### Activation"
   ]
  },
  {
   "cell_type": "markdown",
   "metadata": {
    "colab_type": "text",
    "id": "2kN1eYB9zZqN"
   },
   "source": [
    "Now we define a ReLU activation function.\n",
    "\n",
    "CLASS torch.nn.ReLU(inplace=False)"
   ]
  },
  {
   "cell_type": "code",
   "execution_count": 8,
   "metadata": {
    "colab": {},
    "colab_type": "code",
    "id": "jJqb6tldGow7"
   },
   "outputs": [],
   "source": [
    "#defining relu function\n",
    "\n",
    "relu = nn.ReLU()"
   ]
  },
  {
   "cell_type": "code",
   "execution_count": 9,
   "metadata": {
    "colab": {},
    "colab_type": "code",
    "id": "euCH4HNfGp38"
   },
   "outputs": [
    {
     "name": "stdout",
     "output_type": "stream",
     "text": [
      "y_relu =  tensor([[[[0.6022, 0.1218, 0.2688, 0.4884, 1.0149, 0.0000, 0.6676, 0.0000],\n",
      "          [0.8969, 0.3123, 0.7909, 0.8622, 0.1896, 0.0000, 1.4385, 0.0000],\n",
      "          [0.0000, 0.5359, 0.4403, 0.1831, 0.0000, 0.9472, 0.0000, 0.0000],\n",
      "          [0.9812, 0.0000, 0.0000, 0.0000, 0.0000, 0.5371, 0.0688, 0.0000],\n",
      "          [0.0000, 0.0668, 0.0000, 0.2095, 0.5037, 0.0000, 0.0000, 0.0000],\n",
      "          [0.8574, 0.0635, 0.0000, 0.1270, 0.0038, 0.0000, 0.6043, 0.1343],\n",
      "          [0.0000, 0.3342, 0.8857, 0.2402, 0.0000, 0.8124, 0.6598, 0.0000],\n",
      "          [0.4553, 0.0000, 0.3271, 0.0000, 0.2447, 0.6440, 0.0000, 0.0000],\n",
      "          [0.0000, 0.1165, 0.1089, 0.4313, 0.0000, 0.1251, 0.0000, 0.0000],\n",
      "          [0.0000, 0.0000, 0.0000, 0.0000, 0.0000, 0.0000, 0.0000, 0.0000]],\n",
      "\n",
      "         [[0.0000, 0.0000, 0.0000, 0.0000, 0.0000, 0.0000, 0.0000, 0.0000],\n",
      "          [0.0000, 0.0000, 0.0000, 0.0000, 0.0000, 0.0000, 0.0000, 0.0000],\n",
      "          [0.0000, 0.0000, 0.0000, 0.0000, 0.0000, 0.0000, 0.0000, 0.0000],\n",
      "          [0.0000, 0.0000, 0.0000, 0.0000, 0.0000, 0.0000, 0.0000, 0.0000],\n",
      "          [0.0000, 0.0000, 0.0000, 0.0000, 0.0000, 0.0000, 0.0000, 0.0000],\n",
      "          [0.0000, 0.0000, 0.0000, 0.0000, 0.0000, 0.0000, 0.0000, 0.0000],\n",
      "          [0.0000, 0.0000, 0.0000, 0.0000, 0.0000, 0.0000, 0.0000, 0.0000],\n",
      "          [0.0000, 0.0000, 0.0000, 0.0000, 0.0000, 0.0000, 0.0000, 0.0000],\n",
      "          [0.0000, 0.0000, 0.0000, 0.0000, 0.0000, 0.0000, 0.0000, 0.0000],\n",
      "          [0.0000, 0.0000, 0.0000, 0.0000, 0.0000, 0.0000, 0.0000, 0.0000]],\n",
      "\n",
      "         [[0.0684, 0.0000, 0.0000, 0.0000, 0.0000, 0.1483, 0.0000, 0.0000],\n",
      "          [0.0000, 0.0000, 0.0000, 0.5455, 0.0000, 0.0000, 0.3023, 0.0285],\n",
      "          [0.0000, 0.0000, 0.0000, 0.0000, 0.1515, 0.0000, 0.0000, 0.0000],\n",
      "          [0.0000, 0.6308, 0.0000, 0.0000, 0.0000, 0.0000, 0.0000, 0.0458],\n",
      "          [0.0000, 0.0000, 0.0000, 0.0000, 0.0000, 0.0000, 0.0000, 0.0000],\n",
      "          [0.0000, 0.6483, 0.0000, 0.0000, 0.0467, 0.0000, 0.0000, 0.0000],\n",
      "          [0.0000, 0.0000, 0.0000, 0.1544, 0.0000, 0.0000, 0.0000, 0.0000],\n",
      "          [0.0000, 0.2725, 0.0000, 0.0000, 0.0280, 0.0000, 0.0000, 0.0000],\n",
      "          [0.0000, 0.0000, 0.0000, 0.6198, 0.3685, 0.0000, 0.0000, 0.0860],\n",
      "          [0.0000, 0.0000, 0.0000, 0.0000, 0.0000, 0.0000, 0.0000, 0.0000]]]],\n",
      "       grad_fn=<ReluBackward0>)\n"
     ]
    }
   ],
   "source": [
    "#applying the relu function to output of a convolution\n",
    "y_relu = relu(y_conv)\n",
    "print(\"y_relu = \",y_relu)"
   ]
  },
  {
   "cell_type": "markdown",
   "metadata": {
    "colab_type": "text",
    "id": "-C32PFOzHoJI"
   },
   "source": [
    "### Pooling"
   ]
  },
  {
   "cell_type": "markdown",
   "metadata": {
    "colab_type": "text",
    "id": "QTAQUZ2Q0sN4"
   },
   "source": [
    "We may define now max poolin. Note that strides greater than 1 will reduce the input size. \n",
    "\n",
    "CLASS torch.nn.MaxPool2d(kernel_size, stride=None, padding=0, dilation=1, return_indices=False, ceil_mode=False)"
   ]
  },
  {
   "cell_type": "code",
   "execution_count": 10,
   "metadata": {
    "colab": {},
    "colab_type": "code",
    "id": "VWeA5kA8HeK4"
   },
   "outputs": [],
   "source": [
    "pool = nn.MaxPool2d(kernel_size=3, stride=1, padding=1)"
   ]
  },
  {
   "cell_type": "code",
   "execution_count": 11,
   "metadata": {
    "colab": {},
    "colab_type": "code",
    "id": "RJZUQLWdH2-7"
   },
   "outputs": [
    {
     "name": "stdout",
     "output_type": "stream",
     "text": [
      "y_pool =  tensor([[[[0.8969, 0.8969, 0.8622, 1.0149, 1.0149, 1.4385, 1.4385, 1.4385],\n",
      "          [0.8969, 0.8969, 0.8622, 1.0149, 1.0149, 1.4385, 1.4385, 1.4385],\n",
      "          [0.9812, 0.9812, 0.8622, 0.8622, 0.9472, 1.4385, 1.4385, 1.4385],\n",
      "          [0.9812, 0.9812, 0.5359, 0.5037, 0.9472, 0.9472, 0.9472, 0.0688],\n",
      "          [0.9812, 0.9812, 0.2095, 0.5037, 0.5371, 0.6043, 0.6043, 0.6043],\n",
      "          [0.8574, 0.8857, 0.8857, 0.8857, 0.8124, 0.8124, 0.8124, 0.6598],\n",
      "          [0.8574, 0.8857, 0.8857, 0.8857, 0.8124, 0.8124, 0.8124, 0.6598],\n",
      "          [0.4553, 0.8857, 0.8857, 0.8857, 0.8124, 0.8124, 0.8124, 0.6598],\n",
      "          [0.4553, 0.4553, 0.4313, 0.4313, 0.6440, 0.6440, 0.6440, 0.0000],\n",
      "          [0.1165, 0.1165, 0.4313, 0.4313, 0.4313, 0.1251, 0.1251, 0.0000]],\n",
      "\n",
      "         [[0.0000, 0.0000, 0.0000, 0.0000, 0.0000, 0.0000, 0.0000, 0.0000],\n",
      "          [0.0000, 0.0000, 0.0000, 0.0000, 0.0000, 0.0000, 0.0000, 0.0000],\n",
      "          [0.0000, 0.0000, 0.0000, 0.0000, 0.0000, 0.0000, 0.0000, 0.0000],\n",
      "          [0.0000, 0.0000, 0.0000, 0.0000, 0.0000, 0.0000, 0.0000, 0.0000],\n",
      "          [0.0000, 0.0000, 0.0000, 0.0000, 0.0000, 0.0000, 0.0000, 0.0000],\n",
      "          [0.0000, 0.0000, 0.0000, 0.0000, 0.0000, 0.0000, 0.0000, 0.0000],\n",
      "          [0.0000, 0.0000, 0.0000, 0.0000, 0.0000, 0.0000, 0.0000, 0.0000],\n",
      "          [0.0000, 0.0000, 0.0000, 0.0000, 0.0000, 0.0000, 0.0000, 0.0000],\n",
      "          [0.0000, 0.0000, 0.0000, 0.0000, 0.0000, 0.0000, 0.0000, 0.0000],\n",
      "          [0.0000, 0.0000, 0.0000, 0.0000, 0.0000, 0.0000, 0.0000, 0.0000]],\n",
      "\n",
      "         [[0.0684, 0.0684, 0.5455, 0.5455, 0.5455, 0.3023, 0.3023, 0.3023],\n",
      "          [0.0684, 0.0684, 0.5455, 0.5455, 0.5455, 0.3023, 0.3023, 0.3023],\n",
      "          [0.6308, 0.6308, 0.6308, 0.5455, 0.5455, 0.3023, 0.3023, 0.3023],\n",
      "          [0.6308, 0.6308, 0.6308, 0.1515, 0.1515, 0.1515, 0.0458, 0.0458],\n",
      "          [0.6483, 0.6483, 0.6483, 0.0467, 0.0467, 0.0467, 0.0458, 0.0458],\n",
      "          [0.6483, 0.6483, 0.6483, 0.1544, 0.1544, 0.0467, 0.0000, 0.0000],\n",
      "          [0.6483, 0.6483, 0.6483, 0.1544, 0.1544, 0.0467, 0.0000, 0.0000],\n",
      "          [0.2725, 0.2725, 0.6198, 0.6198, 0.6198, 0.3685, 0.0860, 0.0860],\n",
      "          [0.2725, 0.2725, 0.6198, 0.6198, 0.6198, 0.3685, 0.0860, 0.0860],\n",
      "          [0.0000, 0.0000, 0.6198, 0.6198, 0.6198, 0.3685, 0.0860, 0.0860]]]],\n",
      "       grad_fn=<MaxPool2DWithIndicesBackward0>)\n",
      "torch.Size([1, 3, 10, 8])\n"
     ]
    }
   ],
   "source": [
    "#applying max pooling to output of ReLu\n",
    "y_pool = pool(y_relu)\n",
    "print(\"y_pool = \", y_pool)\n",
    "print(y_pool.shape)"
   ]
  },
  {
   "cell_type": "markdown",
   "metadata": {
    "colab_type": "text",
    "id": "oXdqFTYZXkz1"
   },
   "source": [
    "### Batch normalization"
   ]
  },
  {
   "cell_type": "markdown",
   "metadata": {
    "colab_type": "text",
    "id": "bMzMfrvq16l-"
   },
   "source": [
    "Now we may define batch normalization to normalize batches in the following way $$y = \\frac{x - \\mathbb{E}[x]}{\\sqrt{\\mathrm{Var}[x]}}\\gamma + \\beta.$$ You must indicate the number of input channels.\n",
    "\n",
    "\n",
    "CLASS torch.nn.BatchNorm1d(num_features, eps=1e-05, momentum=0.1, affine=True, track_running_stats=True, device=None, dtype=None)"
   ]
  },
  {
   "cell_type": "code",
   "execution_count": 12,
   "metadata": {
    "colab": {},
    "colab_type": "code",
    "id": "kwbKQ3LK5VfZ"
   },
   "outputs": [],
   "source": [
    "#defining batch normalization layer: affine=False indicates without learnable parameters. \n",
    "norm = nn.BatchNorm2d(num_features=3, affine=False)"
   ]
  },
  {
   "cell_type": "code",
   "execution_count": 13,
   "metadata": {
    "colab": {},
    "colab_type": "code",
    "id": "946BtTY85shc"
   },
   "outputs": [
    {
     "name": "stdout",
     "output_type": "stream",
     "text": [
      "y_norm =  tensor([[[[ 0.3186,  0.3186,  0.2199,  0.6549,  0.6549,  1.8618,  1.8618,\n",
      "            1.8618],\n",
      "          [ 0.3186,  0.3186,  0.2199,  0.6549,  0.6549,  1.8618,  1.8618,\n",
      "            1.8618],\n",
      "          [ 0.5589,  0.5589,  0.2199,  0.2199,  0.4620,  1.8618,  1.8618,\n",
      "            1.8618],\n",
      "          [ 0.5589,  0.5589, -0.7101, -0.8015,  0.4620,  0.4620,  0.4620,\n",
      "           -2.0408],\n",
      "          [ 0.5589,  0.5589, -1.6401, -0.8015, -0.7065, -0.5151, -0.5151,\n",
      "           -0.5151],\n",
      "          [ 0.2062,  0.2868,  0.2868,  0.2868,  0.0779,  0.0779,  0.0779,\n",
      "           -0.3569],\n",
      "          [ 0.2062,  0.2868,  0.2868,  0.2868,  0.0779,  0.0779,  0.0779,\n",
      "           -0.3569],\n",
      "          [-0.9395,  0.2868,  0.2868,  0.2868,  0.0779,  0.0779,  0.0779,\n",
      "           -0.3569],\n",
      "          [-0.9395, -0.9395, -1.0081, -1.0081, -0.4019, -0.4019, -0.4019,\n",
      "           -2.2369],\n",
      "          [-1.9050, -1.9050, -1.0081, -1.0081, -1.0081, -1.8805, -1.8805,\n",
      "           -2.2369]],\n",
      "\n",
      "         [[ 0.0000,  0.0000,  0.0000,  0.0000,  0.0000,  0.0000,  0.0000,\n",
      "            0.0000],\n",
      "          [ 0.0000,  0.0000,  0.0000,  0.0000,  0.0000,  0.0000,  0.0000,\n",
      "            0.0000],\n",
      "          [ 0.0000,  0.0000,  0.0000,  0.0000,  0.0000,  0.0000,  0.0000,\n",
      "            0.0000],\n",
      "          [ 0.0000,  0.0000,  0.0000,  0.0000,  0.0000,  0.0000,  0.0000,\n",
      "            0.0000],\n",
      "          [ 0.0000,  0.0000,  0.0000,  0.0000,  0.0000,  0.0000,  0.0000,\n",
      "            0.0000],\n",
      "          [ 0.0000,  0.0000,  0.0000,  0.0000,  0.0000,  0.0000,  0.0000,\n",
      "            0.0000],\n",
      "          [ 0.0000,  0.0000,  0.0000,  0.0000,  0.0000,  0.0000,  0.0000,\n",
      "            0.0000],\n",
      "          [ 0.0000,  0.0000,  0.0000,  0.0000,  0.0000,  0.0000,  0.0000,\n",
      "            0.0000],\n",
      "          [ 0.0000,  0.0000,  0.0000,  0.0000,  0.0000,  0.0000,  0.0000,\n",
      "            0.0000],\n",
      "          [ 0.0000,  0.0000,  0.0000,  0.0000,  0.0000,  0.0000,  0.0000,\n",
      "            0.0000]],\n",
      "\n",
      "         [[-1.0824, -1.0824,  0.8588,  0.8588,  0.8588, -0.1307, -0.1307,\n",
      "           -0.1307],\n",
      "          [-1.0824, -1.0824,  0.8588,  0.8588,  0.8588, -0.1307, -0.1307,\n",
      "           -0.1307],\n",
      "          [ 1.2055,  1.2055,  1.2055,  0.8588,  0.8588, -0.1307, -0.1307,\n",
      "           -0.1307],\n",
      "          [ 1.2055,  1.2055,  1.2055, -0.7441, -0.7441, -0.7441, -1.1745,\n",
      "           -1.1745],\n",
      "          [ 1.2767,  1.2767,  1.2767, -1.1707, -1.1707, -1.1707, -1.1745,\n",
      "           -1.1745],\n",
      "          [ 1.2767,  1.2767,  1.2767, -0.7326, -0.7326, -1.1707, -1.3607,\n",
      "           -1.3607],\n",
      "          [ 1.2767,  1.2767,  1.2767, -0.7326, -0.7326, -1.1707, -1.3607,\n",
      "           -1.3607],\n",
      "          [-0.2519, -0.2519,  1.1609,  1.1609,  1.1609,  0.1384, -1.0108,\n",
      "           -1.0108],\n",
      "          [-0.2519, -0.2519,  1.1609,  1.1609,  1.1609,  0.1384, -1.0108,\n",
      "           -1.0108],\n",
      "          [-1.3607, -1.3607,  1.1609,  1.1609,  1.1609,  0.1384, -1.0108,\n",
      "           -1.0108]]]], grad_fn=<NativeBatchNormBackward0>)\n"
     ]
    }
   ],
   "source": [
    "#applying batch normalization\n",
    "y_norm = norm(y_pool)\n",
    "print(\"y_norm = \", y_norm)"
   ]
  },
  {
   "cell_type": "markdown",
   "metadata": {
    "colab_type": "text",
    "id": "dxsxUHlk6in6"
   },
   "source": [
    "### Skip connection"
   ]
  },
  {
   "cell_type": "markdown",
   "metadata": {
    "colab_type": "text",
    "id": "pktxly2T7Wau"
   },
   "source": [
    "To skip layers without passing through previus layers, we may concatenate the output of two layers along a given axis. For instance, we may concatenate the input and output of relu as follows.\n",
    "\n",
    "torch.cat(tensors, dim=0, *, out=None) → Tensor"
   ]
  },
  {
   "cell_type": "code",
   "execution_count": 14,
   "metadata": {
    "colab": {},
    "colab_type": "code",
    "id": "mkbib1Lk8fPv"
   },
   "outputs": [
    {
     "name": "stdout",
     "output_type": "stream",
     "text": [
      "concat =  tensor([[[[0.2873, 0.6264, 0.9606, 0.7863, 0.1619, 0.8864, 0.2623, 0.0752],\n",
      "          [0.5505, 0.9434, 0.3255, 0.4251, 0.9453, 0.2061, 0.3589, 0.4058],\n",
      "          [0.1404, 0.4029, 0.4064, 0.6971, 0.6689, 0.0083, 0.7780, 0.3297],\n",
      "          [0.4231, 0.0188, 0.8100, 0.8777, 0.2771, 0.6402, 0.6303, 0.8358],\n",
      "          [0.6728, 0.6079, 0.5916, 0.6291, 0.4463, 0.2467, 0.7546, 0.6464],\n",
      "          [0.4361, 0.0277, 0.8899, 0.2652, 0.4191, 0.3083, 0.0597, 0.0979],\n",
      "          [0.3154, 0.7336, 0.2235, 0.6064, 0.7144, 0.5679, 0.3448, 0.6242],\n",
      "          [0.7811, 0.1593, 0.4011, 0.9878, 0.1792, 0.1356, 0.9625, 0.6571],\n",
      "          [0.9162, 0.1759, 0.2886, 0.3622, 0.5691, 0.7811, 0.7083, 0.2394],\n",
      "          [0.4725, 0.4141, 0.5975, 0.8437, 0.3075, 0.9751, 0.1403, 0.8307]],\n",
      "\n",
      "         [[0.3841, 0.0038, 0.6538, 0.3480, 0.7086, 0.3103, 0.9439, 0.1277],\n",
      "          [0.1715, 0.9798, 0.2936, 0.6771, 0.8899, 0.4648, 0.3401, 0.9144],\n",
      "          [0.9774, 0.9544, 0.8481, 0.5376, 0.4884, 0.9722, 0.5041, 0.6556],\n",
      "          [0.1918, 0.8443, 0.3228, 0.8392, 0.7431, 0.2916, 0.0464, 0.6459],\n",
      "          [0.8955, 0.1012, 0.0203, 0.7463, 0.8974, 0.0968, 0.7458, 0.6452],\n",
      "          [0.0845, 0.9773, 0.5179, 0.5288, 0.3866, 0.5114, 0.5967, 0.6367],\n",
      "          [0.5011, 0.4388, 0.2847, 0.0822, 0.2942, 0.3631, 0.9073, 0.9581],\n",
      "          [0.6588, 0.6792, 0.9176, 0.9510, 0.1802, 0.5082, 0.7147, 0.2857],\n",
      "          [0.5113, 0.5231, 0.0667, 0.9547, 0.3418, 0.2117, 0.5349, 0.1006],\n",
      "          [0.4601, 0.0472, 0.6522, 0.7144, 0.4049, 0.2352, 0.4960, 0.7290]],\n",
      "\n",
      "         [[0.6022, 0.1218, 0.2688, 0.4884, 1.0149, 0.0000, 0.6676, 0.0000],\n",
      "          [0.8969, 0.3123, 0.7909, 0.8622, 0.1896, 0.0000, 1.4385, 0.0000],\n",
      "          [0.0000, 0.5359, 0.4403, 0.1831, 0.0000, 0.9472, 0.0000, 0.0000],\n",
      "          [0.9812, 0.0000, 0.0000, 0.0000, 0.0000, 0.5371, 0.0688, 0.0000],\n",
      "          [0.0000, 0.0668, 0.0000, 0.2095, 0.5037, 0.0000, 0.0000, 0.0000],\n",
      "          [0.8574, 0.0635, 0.0000, 0.1270, 0.0038, 0.0000, 0.6043, 0.1343],\n",
      "          [0.0000, 0.3342, 0.8857, 0.2402, 0.0000, 0.8124, 0.6598, 0.0000],\n",
      "          [0.4553, 0.0000, 0.3271, 0.0000, 0.2447, 0.6440, 0.0000, 0.0000],\n",
      "          [0.0000, 0.1165, 0.1089, 0.4313, 0.0000, 0.1251, 0.0000, 0.0000],\n",
      "          [0.0000, 0.0000, 0.0000, 0.0000, 0.0000, 0.0000, 0.0000, 0.0000]],\n",
      "\n",
      "         [[0.0000, 0.0000, 0.0000, 0.0000, 0.0000, 0.0000, 0.0000, 0.0000],\n",
      "          [0.0000, 0.0000, 0.0000, 0.0000, 0.0000, 0.0000, 0.0000, 0.0000],\n",
      "          [0.0000, 0.0000, 0.0000, 0.0000, 0.0000, 0.0000, 0.0000, 0.0000],\n",
      "          [0.0000, 0.0000, 0.0000, 0.0000, 0.0000, 0.0000, 0.0000, 0.0000],\n",
      "          [0.0000, 0.0000, 0.0000, 0.0000, 0.0000, 0.0000, 0.0000, 0.0000],\n",
      "          [0.0000, 0.0000, 0.0000, 0.0000, 0.0000, 0.0000, 0.0000, 0.0000],\n",
      "          [0.0000, 0.0000, 0.0000, 0.0000, 0.0000, 0.0000, 0.0000, 0.0000],\n",
      "          [0.0000, 0.0000, 0.0000, 0.0000, 0.0000, 0.0000, 0.0000, 0.0000],\n",
      "          [0.0000, 0.0000, 0.0000, 0.0000, 0.0000, 0.0000, 0.0000, 0.0000],\n",
      "          [0.0000, 0.0000, 0.0000, 0.0000, 0.0000, 0.0000, 0.0000, 0.0000]],\n",
      "\n",
      "         [[0.0684, 0.0000, 0.0000, 0.0000, 0.0000, 0.1483, 0.0000, 0.0000],\n",
      "          [0.0000, 0.0000, 0.0000, 0.5455, 0.0000, 0.0000, 0.3023, 0.0285],\n",
      "          [0.0000, 0.0000, 0.0000, 0.0000, 0.1515, 0.0000, 0.0000, 0.0000],\n",
      "          [0.0000, 0.6308, 0.0000, 0.0000, 0.0000, 0.0000, 0.0000, 0.0458],\n",
      "          [0.0000, 0.0000, 0.0000, 0.0000, 0.0000, 0.0000, 0.0000, 0.0000],\n",
      "          [0.0000, 0.6483, 0.0000, 0.0000, 0.0467, 0.0000, 0.0000, 0.0000],\n",
      "          [0.0000, 0.0000, 0.0000, 0.1544, 0.0000, 0.0000, 0.0000, 0.0000],\n",
      "          [0.0000, 0.2725, 0.0000, 0.0000, 0.0280, 0.0000, 0.0000, 0.0000],\n",
      "          [0.0000, 0.0000, 0.0000, 0.6198, 0.3685, 0.0000, 0.0000, 0.0860],\n",
      "          [0.0000, 0.0000, 0.0000, 0.0000, 0.0000, 0.0000, 0.0000, 0.0000]]]],\n",
      "       grad_fn=<CatBackward0>)\n",
      "torch.Size([1, 5, 10, 8])\n"
     ]
    }
   ],
   "source": [
    "#concatenating tensors\n",
    "concat = torch.cat((x, y_relu), dim=1)\n",
    "print(\"concat = \", concat)\n",
    "print(concat.shape)"
   ]
  },
  {
   "cell_type": "markdown",
   "metadata": {
    "colab_type": "text",
    "id": "L04BvhVaMF8g"
   },
   "source": [
    "### Linear"
   ]
  },
  {
   "cell_type": "markdown",
   "metadata": {
    "colab_type": "text",
    "id": "Ba9bi_dX9-RR"
   },
   "source": [
    "Dense layers can be implemented by flattening output activations followed by a linear transformation. We must indicate the input and output sizes.\n",
    "\n",
    "torch.flatten(input, start_dim=0, end_dim=-1) → Tensor\n",
    "\n",
    "CLASS torch.nn.Linear(in_features, out_features, bias=True, device=None, dtype=None)"
   ]
  },
  {
   "cell_type": "code",
   "execution_count": 15,
   "metadata": {
    "colab": {},
    "colab_type": "code",
    "id": "BffJeqoYKQgz"
   },
   "outputs": [
    {
     "name": "stdout",
     "output_type": "stream",
     "text": [
      "torch.Size([1, 240])\n"
     ]
    }
   ],
   "source": [
    "#transforming it into a 2D tensor\n",
    "y_flatten = y_pool.flatten(start_dim=1)\n",
    "print(y_flatten.shape)"
   ]
  },
  {
   "cell_type": "code",
   "execution_count": 16,
   "metadata": {
    "colab": {},
    "colab_type": "code",
    "id": "DCzjDwz0MPda"
   },
   "outputs": [],
   "source": [
    "#defining the linear layer\n",
    "linear = nn.Linear(in_features=240, out_features=2, bias=True)"
   ]
  },
  {
   "cell_type": "code",
   "execution_count": 17,
   "metadata": {
    "colab": {},
    "colab_type": "code",
    "id": "AP5e4LInMgm-"
   },
   "outputs": [
    {
     "name": "stdout",
     "output_type": "stream",
     "text": [
      "tensor([[-0.1194, -0.3514]], grad_fn=<AddmmBackward0>)\n",
      "torch.Size([1, 2])\n"
     ]
    }
   ],
   "source": [
    "#applying linear the transformation\n",
    "y_linear = linear(y_flatten)\n",
    "print(y_linear)\n",
    "print(y_linear.shape)"
   ]
  },
  {
   "cell_type": "markdown",
   "metadata": {},
   "source": [
    "### Dropout"
   ]
  },
  {
   "cell_type": "markdown",
   "metadata": {},
   "source": [
    "For regularization, we may also add a dropout layer to randomly disconsider elements of the input tensor (it sets zeroes) with probability p by following a Bernoulli distribution. The outputs are scaled by a factor $\\frac{1}{1-p}$ during training. \n",
    "\n",
    "CLASStorch.nn.Dropout(p=0.5, inplace=False)"
   ]
  },
  {
   "cell_type": "code",
   "execution_count": 18,
   "metadata": {},
   "outputs": [],
   "source": [
    "drop = nn.Dropout(0.5)"
   ]
  },
  {
   "cell_type": "code",
   "execution_count": 19,
   "metadata": {},
   "outputs": [],
   "source": [
    "x = torch.randn((5,5))"
   ]
  },
  {
   "cell_type": "code",
   "execution_count": 20,
   "metadata": {},
   "outputs": [],
   "source": [
    "y = drop(x)"
   ]
  },
  {
   "cell_type": "code",
   "execution_count": 21,
   "metadata": {},
   "outputs": [
    {
     "name": "stdout",
     "output_type": "stream",
     "text": [
      "Before dropout:  tensor([[ 0.4749,  0.0133, -1.4291, -0.2135, -1.1637],\n",
      "        [ 1.7074, -1.0895,  1.4160,  0.0466, -1.7087],\n",
      "        [-0.4183, -0.0320,  0.7739,  0.6994,  0.3761],\n",
      "        [-0.3999,  0.8533,  0.9621,  1.1734, -0.1362],\n",
      "        [ 1.3397,  1.2561, -1.6323,  0.9517, -0.1129]])\n"
     ]
    }
   ],
   "source": [
    "print(\"Before dropout: \", x)"
   ]
  },
  {
   "cell_type": "code",
   "execution_count": 22,
   "metadata": {},
   "outputs": [
    {
     "name": "stdout",
     "output_type": "stream",
     "text": [
      "After dropout tensor([[ 0.9499,  0.0266, -0.0000, -0.0000, -0.0000],\n",
      "        [ 0.0000, -0.0000,  0.0000,  0.0932, -3.4174],\n",
      "        [-0.0000, -0.0640,  1.5478,  1.3987,  0.7523],\n",
      "        [-0.0000,  1.7066,  1.9242,  0.0000, -0.2724],\n",
      "        [ 2.6793,  0.0000, -3.2646,  1.9033, -0.2259]])\n"
     ]
    }
   ],
   "source": [
    "print(\"After dropout\", y)"
   ]
  },
  {
   "cell_type": "markdown",
   "metadata": {
    "colab_type": "text",
    "id": "ngs43NaBIQlu"
   },
   "source": [
    "# Building a CNN for fashion mnist"
   ]
  },
  {
   "cell_type": "code",
   "execution_count": 23,
   "metadata": {},
   "outputs": [
    {
     "data": {
      "image/png": "[encoded data removed]",
      "text/plain": [
       "<Figure size 640x480 with 1 Axes>"
      ]
     },
     "metadata": {},
     "output_type": "display_data"
    }
   ],
   "source": [
    "import matplotlib.pyplot as plt\n",
    "\n",
    "fig = plt.imread('./figs/fmnist.png')\n",
    "plt.imshow(fig)\n",
    "plt.axis(\"off\")\n",
    "plt.show()"
   ]
  },
  {
   "cell_type": "markdown",
   "metadata": {},
   "source": [
    "### Loading the Dataset"
   ]
  },
  {
   "cell_type": "code",
   "execution_count": 24,
   "metadata": {},
   "outputs": [],
   "source": [
    "#import modules to manipulate data\n",
    "from torch.utils.data import DataLoader, random_split\n",
    "from torchvision import datasets\n",
    "from torchvision import transforms\n",
    "# important to report the training results\n",
    "from torch_snippets import Report"
   ]
  },
  {
   "cell_type": "code",
   "execution_count": 25,
   "metadata": {},
   "outputs": [],
   "source": [
    "#define transformations between brackets to apply on the dataset images. For instance, convert them into tensors.\n",
    "transformations_train = transforms.Compose([\n",
    "    transforms.RandomHorizontalFlip(),\n",
    "    transforms.GaussianBlur(3),\n",
    "    transforms.ToTensor()\n",
    "]) \n",
    "\n",
    "transformations_val = transforms.Compose([\n",
    "    transforms.ToTensor()\n",
    "]) "
   ]
  },
  {
   "cell_type": "markdown",
   "metadata": {},
   "source": [
    "#### You may load training and test images separately or"
   ]
  },
  {
   "cell_type": "code",
   "execution_count": 26,
   "metadata": {},
   "outputs": [],
   "source": [
    "# trainset = datasets.FashionMNIST(\n",
    "#    root=\"./images\",\n",
    "#    train=True,\n",
    "#    download=True,\n",
    "#    transform=transformations\n",
    "# )\n",
    "# # print(len(trainset))\n",
    "# # trainset, validset = random_split(trainset, [30000, 15000])\n",
    "\n",
    "# testset = datasets.FashionMNIST(\n",
    "#    root=\"./images\",\n",
    "#    train=False,\n",
    "#    download=True,\n",
    "#    transform=transformations\n",
    "# )\n",
    "\n",
    "# len(testset)"
   ]
  },
  {
   "cell_type": "markdown",
   "metadata": {},
   "source": [
    "#### you may download the training set and split it as you wish."
   ]
  },
  {
   "cell_type": "code",
   "execution_count": 27,
   "metadata": {},
   "outputs": [],
   "source": [
    "data_set = datasets.FashionMNIST(\n",
    "    root=\"./images\",\n",
    "    train=True,\n",
    "    download=True\n",
    ")\n",
    "\n",
    "class AlteredDataset():\n",
    "    def __init__(self, dataset, transforms) -> None:\n",
    "        self.dataset = dataset\n",
    "        self.transforms = transforms\n",
    "\n",
    "    def __len__(self):\n",
    "        return len(self.dataset)\n",
    "    \n",
    "    def __getitem__(self, idx):\n",
    "        sample = self.dataset[idx]\n",
    "        return self.transforms(sample[0]), sample[1]\n",
    "\n",
    "\n",
    "trainset, validset, testset = random_split(data_set, [30000, 15000, 15000])\n",
    "\n",
    "trainset = AlteredDataset(trainset, transformations_train)\n",
    "validset = AlteredDataset(validset, transformations_val)\n",
    "testset = AlteredDataset(testset, transformations_val)\n",
    "\n",
    "\n"
   ]
  },
  {
   "cell_type": "code",
   "execution_count": 28,
   "metadata": {},
   "outputs": [],
   "source": [
    "# #divide the dataset randomly into train, valid, and test sets. \n",
    "# trainset, validset, testset = random_split(data_set, [30000, 15000, 15000])"
   ]
  },
  {
   "cell_type": "markdown",
   "metadata": {},
   "source": [
    "### Visualizing training images"
   ]
  },
  {
   "cell_type": "code",
   "execution_count": 29,
   "metadata": {},
   "outputs": [
    {
     "data": {
      "image/png": "[encoded data removed]",
      "text/plain": [
       "<Figure size 800x800 with 9 Axes>"
      ]
     },
     "metadata": {},
     "output_type": "display_data"
    }
   ],
   "source": [
    "labels_map = {\n",
    "    0: \"T-Shirt\",\n",
    "    1: \"Trouser\",\n",
    "    2: \"Pullover\",\n",
    "    3: \"Dress\",\n",
    "    4: \"Coat\",\n",
    "    5: \"Sandal\",\n",
    "    6: \"Shirt\",\n",
    "    7: \"Sneaker\",\n",
    "    8: \"Bag\",\n",
    "    9: \"Ankle Boot\",\n",
    "}\n",
    "figure = plt.figure(figsize=(8, 8))\n",
    "cols, rows = 3, 3\n",
    "for i in range(1, cols * rows + 1):\n",
    "    sample_idx = torch.randint(len(trainset), size=(1,)).item()\n",
    "    img, label = trainset[sample_idx]\n",
    "    figure.add_subplot(rows, cols, i)\n",
    "    plt.title(labels_map[label])\n",
    "    plt.axis(\"off\")\n",
    "    plt.imshow(img.squeeze(), cmap=\"gray\")\n",
    "plt.show()"
   ]
  },
  {
   "cell_type": "markdown",
   "metadata": {},
   "source": [
    "### Defining Dataloaders"
   ]
  },
  {
   "cell_type": "markdown",
   "metadata": {},
   "source": [
    "A dataloader divides a dataset into batches for iteration. Each iteration returns the next batch of train_features and train_labels (containing batch_size=64 features and labels, for instance). By specifying shuffle=True, after we iterate over all batches the dataset is shuffled (this is important to avoid overfitting when training a NN).\n",
    "\n",
    "DataLoader(dataset, batch_size=1, shuffle=False, sampler=None,\n",
    "           batch_sampler=None, num_workers=0, collate_fn=None,\n",
    "           pin_memory=False, drop_last=False, timeout=0,\n",
    "           worker_init_fn=None, *, prefetch_factor=2,\n",
    "           persistent_workers=False)"
   ]
  },
  {
   "cell_type": "code",
   "execution_count": 30,
   "metadata": {},
   "outputs": [],
   "source": [
    "#defining dataloader that will generate batches with 64 images at random \n",
    "trainload = DataLoader(trainset, batch_size=64, shuffle=True)\n",
    "testload  = DataLoader(testset, batch_size=64, shuffle=True)\n",
    "validload = DataLoader(validset, batch_size=64, shuffle=True)"
   ]
  },
  {
   "cell_type": "code",
   "execution_count": 31,
   "metadata": {},
   "outputs": [
    {
     "name": "stdout",
     "output_type": "stream",
     "text": [
      "Feature batch shape: torch.Size([64, 1, 28, 28])\n",
      "Label batch shape: torch.Size([64])\n"
     ]
    },
    {
     "data": {
      "image/png": "[encoded data removed]",
      "text/plain": [
       "<Figure size 640x480 with 1 Axes>"
      ]
     },
     "metadata": {},
     "output_type": "display_data"
    },
    {
     "name": "stdout",
     "output_type": "stream",
     "text": [
      "Label: 7 Object: Sneaker\n"
     ]
    }
   ],
   "source": [
    "# For instance, you can access a batch and display image and label of its first sample.\n",
    "\n",
    "train_features, train_labels = next(iter(trainload)) # returns a batch\n",
    "print(\"Feature batch shape: {}\".format(train_features.shape)) # prints the shape of the features\n",
    "print(\"Label batch shape: {}\".format(train_labels.shape)) # prints the shape of the labels\n",
    "img   = train_features[16].squeeze() # returns the first image\n",
    "label = train_labels[16] # returns its label\n",
    "plt.imshow(img, cmap=\"gray\") # shows image and label\n",
    "plt.show()\n",
    "print(\"Label: {} Object: {}\".format(label.item(), labels_map[label.item()]))"
   ]
  },
  {
   "cell_type": "markdown",
   "metadata": {},
   "source": [
    "### Defining our CNN model"
   ]
  },
  {
   "cell_type": "code",
   "execution_count": 32,
   "metadata": {
    "colab": {},
    "colab_type": "code",
    "id": "P3harIz2LtcR"
   },
   "outputs": [],
   "source": [
    "import math"
   ]
  },
  {
   "cell_type": "code",
   "execution_count": 33,
   "metadata": {
    "colab": {},
    "colab_type": "code",
    "id": "PnEm1AsiITWZ"
   },
   "outputs": [],
   "source": [
    "# a convolutional block\n",
    "def conv_block(nchannels_in, nchannels_out, stride_val):\n",
    "    return nn.Sequential(\n",
    "        #defining convolutional layer \n",
    "        nn.Conv2d(in_channels=nchannels_in, out_channels=nchannels_out, kernel_size=(3, 3),\n",
    "                  stride=1, padding=1, bias=False),\n",
    "        #defining a batch normalization layer\n",
    "        nn.BatchNorm2d(num_features=nchannels_out),\n",
    "        #defining activation layer\n",
    "        nn.ReLU(),\n",
    "        #defining a pooling layer\n",
    "        nn.MaxPool2d(kernel_size=(3, 3), stride=stride_val, padding=1)\n",
    "    )\n",
    "  \n",
    "# Note that some operations, such as skip connection and downsampling, can be done in the forward method\n",
    "class FMNISTNet(nn.Module):\n",
    "\n",
    "    def __init__(self, num_classes):\n",
    "        super(FMNISTNet, self).__init__()\n",
    "        \n",
    "        #define the first conv_block\n",
    "        self.conv1 = conv_block(1,16,1)\n",
    "        \n",
    "        #defining the second conv_block\n",
    "        self.conv2 = conv_block(16,64,2)                      \n",
    "        \n",
    "        #defining classifier\n",
    "        self.classifier = nn.Sequential(\n",
    "            #defining linear layer\n",
    "            nn.Linear(in_features=int((28*28*(16+64))/(2*2)), out_features=512, bias=True),\n",
    "            #defining activation layer\n",
    "            nn.ReLU(),\n",
    "            # defining a dropout layer\n",
    "            nn.Dropout(0.5),\n",
    "            #defining linear layer as decision layer\n",
    "            nn.Linear(512, num_classes) #Note that you do not need nn.Softmax in torch\n",
    "        )\n",
    "\n",
    "        #initialize weights\n",
    "        self._initialize_weights()\n",
    "\n",
    "    def forward(self, x):\n",
    "        #extracts features\n",
    "        x1      = self.conv1(x)\n",
    "        x2      = self.conv2(x1)\n",
    "        #resizes x1 to have the same size of x2. See other operations in functional.\n",
    "        x1      = torch.nn.functional.interpolate(x1, scale_factor=(0.5, 0.5), mode='nearest',\n",
    "                                                  recompute_scale_factor=True)\n",
    "        #performs skip connection \n",
    "        x       = torch.cat((x1, x2), dim=1)\n",
    "    \n",
    "        #transforms outputs into a 2D tensor\n",
    "        x = torch.flatten(x, start_dim=1)\n",
    "\n",
    "        #classifies features\n",
    "        y = self.classifier(x)\n",
    "  \n",
    "        return y\n",
    "  \n",
    "    # Same as Xavier\n",
    "    def _initialize_weights(self):\n",
    "        #for each submodule of our network\n",
    "        for m in self.modules():\n",
    "            if isinstance(m, nn.Conv2d):\n",
    "                #get the number of elements in the layer weights\n",
    "                n = m.kernel_size[0] * m.kernel_size[1] * m.in_channels\n",
    "\n",
    "                #initialize layer weights with random values generated from a normal\n",
    "                #distribution with mean = 0 and std = sqrt(2. / n))\n",
    "                m.weight.data.normal_(mean=0, std=math.sqrt(2. / n))\n",
    "\n",
    "                if m.bias is not None:\n",
    "                    #initialize bias with 0 \n",
    "                    m.bias.data.zero_()\n",
    "            elif isinstance(m, nn.Linear):\n",
    "                #initialize layer weights with random values generated from a normal\n",
    "                #distribution with mean = 0 and std = 1/100\n",
    "                m.weight.data.normal_(mean=0, std=0.01)\n",
    "                if m.bias is not None:\n",
    "                #initialize bias with 0 \n",
    "                    m.bias.data.zero_()"
   ]
  },
  {
   "cell_type": "markdown",
   "metadata": {
    "colab_type": "text",
    "id": "PuN-_jLnKX_p"
   },
   "source": [
    "### Defining a device and creating the model"
   ]
  },
  {
   "cell_type": "code",
   "execution_count": 34,
   "metadata": {
    "colab": {},
    "colab_type": "code",
    "id": "kZ3A0UlWUBAx"
   },
   "outputs": [],
   "source": [
    "#is GPU available?\n",
    "gpu = torch.cuda.is_available()\n",
    "\n",
    "#defining device where to to the computation\n",
    "device = torch.device(0) if gpu else torch.device('cpu')"
   ]
  },
  {
   "cell_type": "code",
   "execution_count": 35,
   "metadata": {
    "colab": {},
    "colab_type": "code",
    "id": "SXOFYjUDLfHI"
   },
   "outputs": [],
   "source": [
    "#creating the model to a dataset with 10 classes and moving it to the correct device\n",
    "model = FMNISTNet(num_classes=10).to(device)"
   ]
  },
  {
   "cell_type": "markdown",
   "metadata": {},
   "source": [
    "### Show the summary of the model"
   ]
  },
  {
   "cell_type": "code",
   "execution_count": 36,
   "metadata": {},
   "outputs": [
    {
     "name": "stdout",
     "output_type": "stream",
     "text": [
      "==========================================================================================\n",
      "Layer (type:depth-idx)                   Output Shape              Param #\n",
      "==========================================================================================\n",
      "├─Sequential: 1-1                        [-1, 16, 28, 28]          --\n",
      "|    └─Conv2d: 2-1                       [-1, 16, 28, 28]          144\n",
      "|    └─BatchNorm2d: 2-2                  [-1, 16, 28, 28]          32\n",
      "|    └─ReLU: 2-3                         [-1, 16, 28, 28]          --\n",
      "|    └─MaxPool2d: 2-4                    [-1, 16, 28, 28]          --\n",
      "├─Sequential: 1-2                        [-1, 64, 14, 14]          --\n",
      "|    └─Conv2d: 2-5                       [-1, 64, 28, 28]          9,216\n",
      "|    └─BatchNorm2d: 2-6                  [-1, 64, 28, 28]          128\n",
      "|    └─ReLU: 2-7                         [-1, 64, 28, 28]          --\n",
      "|    └─MaxPool2d: 2-8                    [-1, 64, 14, 14]          --\n",
      "├─Sequential: 1-3                        [-1, 10]                  --\n",
      "|    └─Linear: 2-9                       [-1, 512]                 8,028,672\n",
      "|    └─ReLU: 2-10                        [-1, 512]                 --\n",
      "|    └─Dropout: 2-11                     [-1, 512]                 --\n",
      "|    └─Linear: 2-12                      [-1, 10]                  5,130\n",
      "==========================================================================================\n",
      "Total params: 8,043,322\n",
      "Trainable params: 8,043,322\n",
      "Non-trainable params: 0\n",
      "Total mult-adds (M): 23.41\n",
      "==========================================================================================\n",
      "Input size (MB): 0.00\n",
      "Forward/backward pass size (MB): 0.96\n",
      "Params size (MB): 30.68\n",
      "Estimated Total Size (MB): 31.65\n",
      "==========================================================================================\n"
     ]
    },
    {
     "data": {
      "text/plain": [
       "==========================================================================================\n",
       "Layer (type:depth-idx)                   Output Shape              Param #\n",
       "==========================================================================================\n",
       "├─Sequential: 1-1                        [-1, 16, 28, 28]          --\n",
       "|    └─Conv2d: 2-1                       [-1, 16, 28, 28]          144\n",
       "|    └─BatchNorm2d: 2-2                  [-1, 16, 28, 28]          32\n",
       "|    └─ReLU: 2-3                         [-1, 16, 28, 28]          --\n",
       "|    └─MaxPool2d: 2-4                    [-1, 16, 28, 28]          --\n",
       "├─Sequential: 1-2                        [-1, 64, 14, 14]          --\n",
       "|    └─Conv2d: 2-5                       [-1, 64, 28, 28]          9,216\n",
       "|    └─BatchNorm2d: 2-6                  [-1, 64, 28, 28]          128\n",
       "|    └─ReLU: 2-7                         [-1, 64, 28, 28]          --\n",
       "|    └─MaxPool2d: 2-8                    [-1, 64, 14, 14]          --\n",
       "├─Sequential: 1-3                        [-1, 10]                  --\n",
       "|    └─Linear: 2-9                       [-1, 512]                 8,028,672\n",
       "|    └─ReLU: 2-10                        [-1, 512]                 --\n",
       "|    └─Dropout: 2-11                     [-1, 512]                 --\n",
       "|    └─Linear: 2-12                      [-1, 10]                  5,130\n",
       "==========================================================================================\n",
       "Total params: 8,043,322\n",
       "Trainable params: 8,043,322\n",
       "Non-trainable params: 0\n",
       "Total mult-adds (M): 23.41\n",
       "==========================================================================================\n",
       "Input size (MB): 0.00\n",
       "Forward/backward pass size (MB): 0.96\n",
       "Params size (MB): 30.68\n",
       "Estimated Total Size (MB): 31.65\n",
       "=========================================================================================="
      ]
     },
     "execution_count": 36,
     "metadata": {},
     "output_type": "execute_result"
    }
   ],
   "source": [
    "from torchsummary import summary\n",
    "\n",
    "summary(model,(1,28,28)) # FMNIST contains 28x28 images with 1 channel"
   ]
  },
  {
   "cell_type": "markdown",
   "metadata": {},
   "source": [
    "### Show the trainable parameters: weights and bias"
   ]
  },
  {
   "cell_type": "code",
   "execution_count": 37,
   "metadata": {},
   "outputs": [
    {
     "name": "stdout",
     "output_type": "stream",
     "text": [
      "10\n",
      "tensor[1, 3, 3] n=9 x∈[-0.995, 0.334] μ=-0.243 σ=0.490 grad SelectBackward0 cuda:0 [[[-0.021, 0.308, -0.838], [-0.497, 0.215, -0.440], [-0.256, 0.334, -0.995]]]\n",
      "tensor grad SelectBackward0 cuda:0 1.000\n"
     ]
    }
   ],
   "source": [
    "params = list(model.parameters())\n",
    "print(len(params))\n",
    "print(params[0][0]) # random weights of the first filter of the convolutional layer\n",
    "print(params[1][0]) # the bias of that filter"
   ]
  },
  {
   "cell_type": "markdown",
   "metadata": {
    "colab_type": "text",
    "id": "ns-aYW2hLG53"
   },
   "source": [
    "### Loss function"
   ]
  },
  {
   "cell_type": "markdown",
   "metadata": {
    "colab_type": "text",
    "id": "tyibIOQ7IKMs"
   },
   "source": [
    "We use the cross entropy as loss function, which combines softmax and cross entropy.\n",
    "\n",
    "CLASS torch.nn.CrossEntropyLoss(weight=None, size_average=None, ignore_index=-100, reduce=None, reduction='mean')"
   ]
  },
  {
   "cell_type": "code",
   "execution_count": 38,
   "metadata": {
    "colab": {},
    "colab_type": "code",
    "id": "ywWsP2vTLIeL"
   },
   "outputs": [],
   "source": [
    "def Criterion(preds, targets):\n",
    "    ce            = nn.CrossEntropyLoss().to(device)\n",
    "    loss          = ce(preds, targets.long()) \n",
    "    pred_labels   = torch.max(preds, 1)[1] # same as argmax\n",
    "    acc           = torch.sum(pred_labels == targets.data)\n",
    "    n             = pred_labels.size(0)\n",
    "    acc           = acc/n\n",
    "    return loss, acc\n",
    "\n",
    "\n",
    "criterion = Criterion"
   ]
  },
  {
   "cell_type": "markdown",
   "metadata": {
    "colab_type": "text",
    "id": "2MvRRGK1LQDY"
   },
   "source": [
    "### Optimizer"
   ]
  },
  {
   "cell_type": "markdown",
   "metadata": {
    "colab_type": "text",
    "id": "JB-a-LvFeT11"
   },
   "source": [
    "PyTorch has many optimization algorithms. Here we are going to use the Stochastic Gradient Descent."
   ]
  },
  {
   "cell_type": "code",
   "execution_count": 39,
   "metadata": {
    "colab": {},
    "colab_type": "code",
    "id": "WlgVPXhJMCo2"
   },
   "outputs": [],
   "source": [
    "#import module that defines the optimizer\n",
    "import torch.optim as optim"
   ]
  },
  {
   "cell_type": "markdown",
   "metadata": {
    "colab_type": "text",
    "id": "Ap-bAHoUeoUI"
   },
   "source": [
    "To create a optimizer, we need to set a learning rate, a momentum, a weight_decay (L2 regularization).\n",
    "\n",
    "CLASS torch.optim.SGD(params, lr=<required parameter>, momentum=0, dampening=0, weight_decay=0, nesterov=False)"
   ]
  },
  {
   "cell_type": "code",
   "execution_count": 40,
   "metadata": {
    "colab": {},
    "colab_type": "code",
    "id": "yq5b97faLO-l"
   },
   "outputs": [],
   "source": [
    "#defining optimizer\n",
    "optimizer = optim.SGD(model.parameters(), lr=0.01, momentum=0.85, weight_decay=0.0001)"
   ]
  },
  {
   "attachments": {},
   "cell_type": "markdown",
   "metadata": {
    "colab_type": "text",
    "id": "tFXAiYRZe5u-"
   },
   "source": [
    "We can use a learning rate scheduler that can update the learning rate during training. Here we will use a scheduler that multiply the learning rate by a factor $\\gamma$ at every $25$ epochs: e.g., lr=0.5, 0.05, 0.005...\n",
    "\n",
    "CLASS torch.optim.lr_scheduler.StepLR(optimizer, step_size, gamma=0.1, last_epoch=-1, verbose=False)\n"
   ]
  },
  {
   "cell_type": "code",
   "execution_count": 41,
   "metadata": {
    "colab": {},
    "colab_type": "code",
    "id": "g9bEjCBPLZZ0"
   },
   "outputs": [],
   "source": [
    "#defining learning rate scheduler\n",
    "lr_scheduler = optim.lr_scheduler.StepLR(optimizer, step_size=20, gamma=0.1)"
   ]
  },
  {
   "cell_type": "markdown",
   "metadata": {
    "colab_type": "text",
    "id": "EG0RRG5uUJYF"
   },
   "source": [
    "### Defining training and validation/test functions"
   ]
  },
  {
   "cell_type": "code",
   "execution_count": 42,
   "metadata": {
    "colab": {},
    "colab_type": "code",
    "id": "2uWGZ_y7T2b0"
   },
   "outputs": [],
   "source": [
    "def train_batch(model, data, optimizer, criterion, device):\n",
    "    model.train()\n",
    "    ims, targets = data\n",
    "    ims     = ims.to(device=device)\n",
    "    targets = targets.to(device=device)\n",
    "    preds   = model(ims)\n",
    "    loss, acc = criterion(preds, targets)\n",
    "    loss.backward()\n",
    "    optimizer.step()\n",
    "    optimizer.zero_grad()\n",
    "\n",
    "    return loss.item(), acc.item()\n",
    "\n",
    "@torch.no_grad()\n",
    "def validate_batch(model, data, criterion, device):\n",
    "    model.eval()\n",
    "    ims, targets = data\n",
    "    ims     = ims.to(device=device)\n",
    "    targets = targets.to(device=device)\n",
    "    preds   = model(ims)\n",
    "    loss, acc = criterion(preds, targets)\n",
    "    return loss.item(), acc.item()\n",
    "            "
   ]
  },
  {
   "cell_type": "markdown",
   "metadata": {},
   "source": [
    "### Training your model"
   ]
  },
  {
   "cell_type": "code",
   "execution_count": 43,
   "metadata": {
    "colab": {
     "base_uri": "https://localhost:8080/",
     "height": 1000
    },
    "colab_type": "code",
    "id": "pRht_kqVUa4H",
    "outputId": "e52bded8-59e0-4a90-aeb4-b75e46b58561"
   },
   "outputs": [
    {
     "name": "stdout",
     "output_type": "stream",
     "text": [
      "EPOCH: 10.000  trn_acc: 0.887  val_acc: 0.885  val_loss: 0.312  trn_loss: 0.310  (112.36s - 449.43s remaining)\n",
      "EPOCH: 20.000  trn_acc: 0.911  val_acc: 0.915  val_loss: 0.238  trn_loss: 0.236  (226.20s - 339.31s remaining)\n",
      "EPOCH: 30.000  trn_acc: 0.933  val_acc: 0.919  val_loss: 0.228  trn_loss: 0.179  (340.05s - 226.70s remaining)\n",
      "EPOCH: 40.000  trn_acc: 0.937  val_acc: 0.920  val_loss: 0.228  trn_loss: 0.171  (450.89s - 112.72s remaining)\n",
      "EPOCH: 50.000  trn_acc: 0.940  val_acc: 0.921  val_loss: 0.223  trn_loss: 0.168  (562.19s - 0.00s remaining)\n"
     ]
    }
   ],
   "source": [
    "# initializing variables\n",
    "n_epochs = 50\n",
    "log      = Report(n_epochs)\n",
    "\n",
    "# starting training and validation\n",
    "for ex in range(n_epochs):\n",
    "    N = len(trainload)\n",
    "    for bx, data in enumerate(trainload):\n",
    "        loss, acc = train_batch(model, data, optimizer, criterion, device)\n",
    "        #report results for the batch\n",
    "        log.record((ex+(bx+1)/N), trn_loss=loss, trn_acc=acc, end='\\r')\n",
    "\n",
    "    N = len(validload)\n",
    "    for bx, data in enumerate(validload):\n",
    "        loss, acc = validate_batch(model, data, criterion, device)\n",
    "        log.record((ex+(bx+1)/N), val_loss=loss, val_acc=acc, end='\\r')\n",
    "\n",
    "    if (ex+1) % 10 == 0: log.report_avgs(ex+1)\n",
    "    #count epochs for auto-adjusting the learning rate\n",
    "    lr_scheduler.step()"
   ]
  },
  {
   "cell_type": "markdown",
   "metadata": {},
   "source": [
    "### Plot the results"
   ]
  },
  {
   "cell_type": "code",
   "execution_count": 44,
   "metadata": {},
   "outputs": [
    {
     "name": "stderr",
     "output_type": "stream",
     "text": [
      "100%|██████████| 151/151 [00:00<00:00, 271.86it/s]\n"
     ]
    },
    {
     "data": {
      "image/png": "[encoded data removed]",
      "text/plain": [
       "<Figure size 800x600 with 1 Axes>"
      ]
     },
     "metadata": {},
     "output_type": "display_data"
    },
    {
     "name": "stderr",
     "output_type": "stream",
     "text": [
      "100%|██████████| 151/151 [00:00<00:00, 300.21it/s]\n"
     ]
    },
    {
     "data": {
      "image/png": "[encoded data removed]",
      "text/plain": [
       "<Figure size 800x600 with 1 Axes>"
      ]
     },
     "metadata": {},
     "output_type": "display_data"
    }
   ],
   "source": [
    "log.plot_epochs(['trn_loss','val_loss'])\n",
    "log.plot_epochs(['trn_acc','val_acc'])"
   ]
  },
  {
   "cell_type": "markdown",
   "metadata": {},
   "source": [
    "### Test your model"
   ]
  },
  {
   "cell_type": "code",
   "execution_count": 45,
   "metadata": {
    "colab": {
     "base_uri": "https://localhost:8080/",
     "height": 68
    },
    "colab_type": "code",
    "id": "cltw3oIuirqD",
    "outputId": "f554d3dd-d308-457c-c7aa-9966c624cdf8"
   },
   "outputs": [],
   "source": [
    "def Test(model, testload, criterion, device):\n",
    "    N = len(testload)\n",
    "    mean_loss = 0\n",
    "    mean_acc  = 0\n",
    "    for bx, data in enumerate(testload):\n",
    "        loss, acc  = validate_batch(model, data, criterion, device)\n",
    "        mean_loss += loss\n",
    "        mean_acc  += acc\n",
    "    \n",
    "    mean_loss = mean_loss / N\n",
    "    mean_acc  = mean_acc / N\n",
    "    return(mean_loss, mean_acc)\n",
    "\n",
    "\n"
   ]
  },
  {
   "cell_type": "code",
   "execution_count": 46,
   "metadata": {},
   "outputs": [
    {
     "name": "stdout",
     "output_type": "stream",
     "text": [
      "Loss: 0.208152 Acc: 0.928059\n"
     ]
    }
   ],
   "source": [
    "(mean, acc) = Test(model, testload, criterion, device)\n",
    "print('Loss: {:.6f} Acc: {:.6f}'.format(mean,acc))"
   ]
  },
  {
   "cell_type": "markdown",
   "metadata": {},
   "source": [
    "### Save and load your model"
   ]
  },
  {
   "cell_type": "code",
   "execution_count": 47,
   "metadata": {},
   "outputs": [],
   "source": [
    "# Save the tensors in the CPU format rather than in the GPU format to facilitate loading them later. It\n",
    "# does not save the architecture of the model, so the class of the model is required to load it later. \n",
    "torch.save(model.to('cpu').state_dict(), 'FMNistCNN.pth')\n",
    "#model.load_state_dict(torch.load('FMNistCNN.pth'))"
   ]
  },
  {
   "cell_type": "markdown",
   "metadata": {},
   "source": [
    "#### Exercise: The model is overfitted. Play with datasets' sizes, network architecture, and hiperparameters to improve results without overfitting and underfitting."
   ]
  }
 ],
 "metadata": {
  "accelerator": "GPU",
  "colab": {
   "collapsed_sections": [],
   "name": "presentation.ipynb",
   "provenance": []
  },
  "kernelspec": {
   "display_name": "Python 3 (ipykernel)",
   "language": "python",
   "name": "python3"
  },
  "language_info": {
   "codemirror_mode": {
    "name": "ipython",
    "version": 3
   },
   "file_extension": ".py",
   "mimetype": "text/x-python",
   "name": "python",
   "nbconvert_exporter": "python",
   "pygments_lexer": "ipython3",
   "version": "3.10.9"
  }
 },
 "nbformat": 4,
 "nbformat_minor": 1
}
