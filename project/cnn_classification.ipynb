{
  "cells": [
    {
      "cell_type": "code",
      "execution_count": 1,
      "id": "P1btC6VqMlgj",
      "metadata": {
        "id": "P1btC6VqMlgj"
      },
      "outputs": [],
      "source": [
        "#!pip install torch-snippets"
      ]
    },
    {
      "cell_type": "code",
      "execution_count": 2,
      "id": "cb310563",
      "metadata": {
        "id": "cb310563"
      },
      "outputs": [],
      "source": [
        "import torch\n",
        "from torch import nn as nn\n",
        "import math\n",
        "from glob import glob\n",
        "from torchsummary import summary\n",
        "from torch_snippets import *\n",
        "from torch.utils.data import TensorDataset, DataLoader\n",
        "from torchvision import transforms\n",
        "import torch.optim as optim\n",
        "import matplotlib.pyplot as plt\n",
        "import numpy as np\n",
        "from PIL import Image\n",
        "import sys\n",
        "import os, os.path as osp\n"
      ]
    },
    {
      "cell_type": "code",
      "execution_count": 3,
      "id": "VFYafH66MfhQ",
      "metadata": {
        "colab": {
          "base_uri": "https://localhost:8080/"
        },
        "id": "VFYafH66MfhQ",
        "outputId": "ffb655d4-77ce-4486-dcb6-e4103dcf7a4a"
      },
      "outputs": [
        {
          "output_type": "stream",
          "name": "stdout",
          "text": [
            "Drive already mounted at /content/drive; to attempt to forcibly remount, call drive.mount(\"/content/drive\", force_remount=True).\n"
          ]
        }
      ],
      "source": [
        "from google.colab import drive\n",
        "drive.mount('/content/drive')"
      ]
    },
    {
      "cell_type": "code",
      "execution_count": 4,
      "id": "76HCGCRONwDI",
      "metadata": {
        "id": "76HCGCRONwDI"
      },
      "outputs": [],
      "source": [
        "#!cp /content/drive/Shareddrives/MO434/dataset/project_dataset_corel.zip .\n",
        "#!unzip -q project_dataset_corel.zip"
      ]
    },
    {
      "cell_type": "markdown",
      "id": "cbd249cf",
      "metadata": {
        "id": "cbd249cf"
      },
      "source": [
        "### Hyperparameters"
      ]
    },
    {
      "cell_type": "code",
      "execution_count": 5,
      "id": "f405693f",
      "metadata": {
        "id": "f405693f"
      },
      "outputs": [],
      "source": [
        "batchsize = 32\n",
        "n_class = 6\n",
        "input_shape = (3,224,224)\n",
        "device = torch.device('cuda')\n",
        "\n",
        "lr = 2e-5\n",
        "weight_decay=1e-4\n",
        "n_epochs = 100\n",
        "\n",
        "scheduler_step=20\n",
        "scheduler_gamma = 0.5\n",
        "\n",
        "dataset_dir = \"/content/project_dataset_corel\"\n",
        "\n",
        "log_dir='/content/drive/Shareddrives/MO434/executions/cmk_net_classification_3_2'\n",
        "best_model_path = osp.join(log_dir, 'best_model.pth')\n",
        "\n",
        "try:\n",
        "    os.makedirs(log_dir)\n",
        "except FileExistsError:\n",
        "    pass\n"
      ]
    },
    {
      "cell_type": "markdown",
      "id": "ee032879",
      "metadata": {
        "id": "ee032879"
      },
      "source": [
        "### Define dataset\n",
        "\n",
        "Training, validation"
      ]
    },
    {
      "cell_type": "code",
      "execution_count": 6,
      "id": "8936c227",
      "metadata": {
        "id": "8936c227"
      },
      "outputs": [],
      "source": [
        "import cv2\n",
        "from PIL import Image\n",
        "import os, os.path as osp\n",
        "\n",
        "def list_join_dir(dir):\n",
        "    return sorted([osp.join(dir, f) for f in os.listdir(dir)])\n",
        "\n",
        "class DataSet():\n",
        "    def __init__(self, set_dir, class_red_circle=None, transforms=None) -> None:\n",
        "        self.set_dir = set_dir\n",
        "        self.transforms = transforms\n",
        "        self.class_red_circle = class_red_circle\n",
        "\n",
        "        self.img_dir = set_dir\n",
        "\n",
        "        red_circle_dir = osp.join(osp.dirname(osp.abspath(self.set_dir)), 'red_circle')\n",
        "        if self.class_red_circle is not None:\n",
        "            red_circle_img = cv2.imread(osp.join(red_circle_dir, 'red_circle.png'), cv2.IMREAD_COLOR)\n",
        "            mask = cv2.imread(osp.join(red_circle_dir, 'circle_mask.png'), cv2.IMREAD_GRAYSCALE)\n",
        "\n",
        "        self.images, self.gts = [], []\n",
        "        for img_path in list_join_dir(self.img_dir):\n",
        "            img = cv2.imread(img_path, cv2.IMREAD_COLOR)\n",
        "            img_basename = osp.basename(img_path)\n",
        "            class_id = int(img_basename.split('.')[0].split('_')[0])\n",
        "\n",
        "            if self.class_red_circle is not None and self.class_red_circle == class_id:\n",
        "                img = cv2.bitwise_and(img, img, mask=mask)\n",
        "                img += red_circle_img\n",
        "\n",
        "            self.images.append(Image.fromarray(cv2.cvtColor(img, cv2.COLOR_BGR2RGB)))\n",
        "            self.gts.append(class_id)\n",
        "            cv2.imwrite\n",
        "\n",
        "    def __getitem__(self, idx):\n",
        "        if self.transforms:\n",
        "            return self.transforms(self.images[idx]), self.gts[idx]\n",
        "        return self.images[idx], self.gts[idx]\n",
        "\n",
        "    def __len__(self):\n",
        "        return len(self.images)\n",
        ""
      ]
    },
    {
      "cell_type": "markdown",
      "id": "57242a28",
      "metadata": {
        "id": "57242a28"
      },
      "source": [
        "### Define transforms"
      ]
    },
    {
      "cell_type": "code",
      "execution_count": 7,
      "id": "977fdc0f",
      "metadata": {
        "id": "977fdc0f"
      },
      "outputs": [],
      "source": [
        "from torchvision import transforms\n",
        "\n",
        "class AddGaussianNoise(object):\n",
        "    def __init__(self, mean=0., std=1.):\n",
        "        self.std = std\n",
        "        self.mean = mean\n",
        "\n",
        "    def __call__(self, tensor):\n",
        "        return tensor + torch.randn(tensor.size()) * self.std + self.mean\n",
        "\n",
        "    def __repr__(self):\n",
        "        return self.__class__.__name__ + '(mean={0}, std={1})'.format(self.mean, self.std)\n",
        "\n",
        "train_transforms = transforms.Compose([\n",
        "    transforms.RandomHorizontalFlip(),\n",
        "    transforms.RandomAffine(degrees=10, translate=(0.05,0.10), scale=(0.9,1.1), shear=(-2,2),\n",
        "                            interpolation=transforms.InterpolationMode.BILINEAR,\n",
        "                            fill=0),\n",
        "    transforms.Resize((224,224), interpolation=transforms.InterpolationMode.BILINEAR,\n",
        "                      max_size=None, antialias=True),\n",
        "    transforms.ToTensor(),\n",
        "    transforms.Normalize((0.485, 0.456, 0.406), (0.229, 0.224, 0.225)),\n",
        "    #AddGaussianNoise(0, 0.1)\n",
        "])\n",
        "\n",
        "val_transforms = transforms.Compose([\n",
        "    transforms.Resize((224,224), interpolation=transforms.InterpolationMode.BILINEAR,\n",
        "                      max_size=None, antialias=True),\n",
        "    transforms.ToTensor(),\n",
        "    transforms.Normalize((0.485, 0.456, 0.406), (0.229, 0.224, 0.225))\n",
        "])"
      ]
    },
    {
      "cell_type": "markdown",
      "id": "3926653f",
      "metadata": {
        "id": "3926653f"
      },
      "source": [
        "### Define dataloaders"
      ]
    },
    {
      "cell_type": "code",
      "execution_count": 8,
      "id": "c19ed814",
      "metadata": {
        "id": "c19ed814"
      },
      "outputs": [],
      "source": [
        "from torch.utils.data import DataLoader\n",
        "\n",
        "train_set = DataSet(osp.join(dataset_dir, 'train'), transforms=train_transforms)\n",
        "val_set = DataSet(osp.join(dataset_dir, 'val'), transforms=val_transforms)\n",
        "\n",
        "train_loader = DataLoader(train_set, batch_size=batchsize, shuffle=True)\n",
        "val_loader = DataLoader(val_set, batch_size=1, shuffle=False)"
      ]
    },
    {
      "cell_type": "markdown",
      "id": "597c9c8d",
      "metadata": {
        "id": "597c9c8d"
      },
      "source": [
        "### Define CNN architecture"
      ]
    },
    {
      "cell_type": "code",
      "execution_count": 9,
      "id": "44ce246c",
      "metadata": {
        "id": "44ce246c"
      },
      "outputs": [],
      "source": [
        "import torch\n",
        "from torch import nn as nn\n",
        "import math\n",
        "\n",
        "class CMKNet(nn.Module):\n",
        "    def __init__(self, dropout=0.5) -> None:\n",
        "        super().__init__()\n",
        "\n",
        "        self.dropout = dropout\n",
        "\n",
        "        # input: 3, 224, 224\n",
        "        self.col1 = nn.Sequential(\n",
        "            self._conv_seq(3, 32, 3), # 32, 112, 112\n",
        "            self._conv_seq(32, 64, 3), # 64, 56, 56\n",
        "            self._conv_seq(64, 128, 3), # 128, 28, 28\n",
        "        )\n",
        "\n",
        "        #self.col2 = nn.Sequential(\n",
        "        #    self._conv_seq(3, 24, 5), # 32, 112, 112\n",
        "        #    self._conv_seq(24, 48, 5), # 64, 56, 56\n",
        "        #    self._conv_seq(48, 96, 5), # 128, 28, 28\n",
        "        #)\n",
        "\n",
        "        #self.fuse = self._conv_seq(128+96, 32, 1) # 32, 14, 14\n",
        "        #self.fuse = self._conv_seq(128, 32, 1) # 32, 14, 14\n",
        "\n",
        "        self.classifier = nn.Sequential(\n",
        "            self._linear_seq(128*28*28, 1024, dropout),\n",
        "            self._linear_seq(1024, 256, dropout),\n",
        "            nn.Linear(256, n_class)\n",
        "        )\n",
        "\n",
        "        self._initialize_weights()\n",
        "\n",
        "    def forward(self, x):\n",
        "        x = self.col1(x)\n",
        "        #x = self.fuse(torch.cat((x1, x2), 1))\n",
        "        x = torch.flatten(x, 1)\n",
        "        x = self.classifier(x)\n",
        "        return x\n",
        "\n",
        "    def _fuse(self, in_channels, out_channels, kernel_size):\n",
        "        return nn.Sequential(\n",
        "            nn.Conv2d(in_channels, out_channels, kernel_size, padding=kernel_size//2, bias=False),\n",
        "            nn.BatchNorm2d(out_channels),\n",
        "            nn.ReLU()\n",
        "        )\n",
        "\n",
        "    def _linear_seq(self, in_features, out_features, dropout):\n",
        "        return nn.Sequential(\n",
        "            nn.Linear(in_features, out_features),\n",
        "            nn.ReLU(),\n",
        "            nn.Dropout(dropout)\n",
        "        )\n",
        "\n",
        "    def _conv_seq(self, in_channels, out_channels, kernel_size):\n",
        "        \"conv2d, batchnorm, relu, max pool\"\n",
        "        return nn.Sequential(\n",
        "            nn.Conv2d(in_channels, out_channels, kernel_size, padding=kernel_size//2, bias=False),\n",
        "            nn.BatchNorm2d(out_channels),\n",
        "            nn.ReLU(),\n",
        "            nn.MaxPool2d(kernel_size=2, stride=2)\n",
        "        )\n",
        "\n",
        "    def _initialize_weights(self):\n",
        "        #for each submodule of our network\n",
        "        for m in self.modules():\n",
        "            if isinstance(m, nn.Conv2d):\n",
        "                #get the number of elements in the layer weights\n",
        "                n = m.kernel_size[0] * m.kernel_size[1] * m.in_channels\n",
        "                #initialize layer weights with random values generated from a normal\n",
        "                #distribution with mean = 0 and std = sqrt(2. / n))\n",
        "                m.weight.data.normal_(mean=0, std=math.sqrt(2. / n))\n",
        "\n",
        "                if m.bias is not None:\n",
        "                    #initialize bias with 0\n",
        "                    m.bias.data.zero_()\n",
        "            elif isinstance(m, nn.Linear):\n",
        "                #initialize layer weights with random values generated from a normal\n",
        "                #distribution with mean = 0 and std = 1/100\n",
        "                m.weight.data.normal_(mean=0, std=0.01)\n",
        "                if m.bias is not None:\n",
        "                #initialize bias with 0\n",
        "                    m.bias.data.zero_()\n"
      ]
    },
    {
      "cell_type": "markdown",
      "id": "43755bd1",
      "metadata": {
        "id": "43755bd1"
      },
      "source": [
        "### Create the model"
      ]
    },
    {
      "cell_type": "code",
      "execution_count": 10,
      "id": "b71f7ef0",
      "metadata": {
        "colab": {
          "base_uri": "https://localhost:8080/"
        },
        "id": "b71f7ef0",
        "outputId": "523bad32-a02d-4f20-88a9-c43b6472d14c"
      },
      "outputs": [
        {
          "output_type": "stream",
          "name": "stderr",
          "text": [
            "Exception in thread Thread-5 (attachment_entry):\n",
            "Traceback (most recent call last):\n",
            "  File \"/usr/local/lib/python3.10/dist-packages/debugpy/server/api.py\", line 237, in listen\n",
            "    sock, _ = endpoints_listener.accept()\n",
            "  File \"/usr/lib/python3.10/socket.py\", line 293, in accept\n",
            "    fd, addr = self._accept()\n",
            "TimeoutError: timed out\n",
            "\n",
            "During handling of the above exception, another exception occurred:\n",
            "\n",
            "Traceback (most recent call last):\n",
            "  File \"/usr/lib/python3.10/threading.py\", line 1016, in _bootstrap_inner\n",
            "    self.run()\n",
            "  File \"/usr/lib/python3.10/threading.py\", line 953, in run\n",
            "    self._target(*self._args, **self._kwargs)\n",
            "  File \"/usr/local/lib/python3.10/dist-packages/google/colab/_debugpy.py\", line 52, in attachment_entry\n",
            "    debugpy.listen(_dap_port)\n",
            "  File \"/usr/local/lib/python3.10/dist-packages/debugpy/public_api.py\", line 31, in wrapper\n",
            "    return wrapped(*args, **kwargs)\n",
            "  File \"/usr/local/lib/python3.10/dist-packages/debugpy/server/api.py\", line 143, in debug\n",
            "    log.reraise_exception(\"{0}() failed:\", func.__name__, level=\"info\")\n",
            "  File \"/usr/local/lib/python3.10/dist-packages/debugpy/server/api.py\", line 141, in debug\n",
            "    return func(address, settrace_kwargs, **kwargs)\n",
            "  File \"/usr/local/lib/python3.10/dist-packages/debugpy/server/api.py\", line 251, in listen\n",
            "    raise RuntimeError(\"timed out waiting for adapter to connect\")\n",
            "RuntimeError: timed out waiting for adapter to connect\n"
          ]
        },
        {
          "output_type": "stream",
          "name": "stdout",
          "text": [
            "----------------------------------------------------------------\n",
            "        Layer (type)               Output Shape         Param #\n",
            "================================================================\n",
            "            Conv2d-1         [-1, 32, 224, 224]             864\n",
            "       BatchNorm2d-2         [-1, 32, 224, 224]              64\n",
            "              ReLU-3         [-1, 32, 224, 224]               0\n",
            "         MaxPool2d-4         [-1, 32, 112, 112]               0\n",
            "            Conv2d-5         [-1, 64, 112, 112]          18,432\n",
            "       BatchNorm2d-6         [-1, 64, 112, 112]             128\n",
            "              ReLU-7         [-1, 64, 112, 112]               0\n",
            "         MaxPool2d-8           [-1, 64, 56, 56]               0\n",
            "            Conv2d-9          [-1, 128, 56, 56]          73,728\n",
            "      BatchNorm2d-10          [-1, 128, 56, 56]             256\n",
            "             ReLU-11          [-1, 128, 56, 56]               0\n",
            "        MaxPool2d-12          [-1, 128, 28, 28]               0\n",
            "           Linear-13                 [-1, 1024]     102,761,472\n",
            "             ReLU-14                 [-1, 1024]               0\n",
            "          Dropout-15                 [-1, 1024]               0\n",
            "           Linear-16                  [-1, 256]         262,400\n",
            "             ReLU-17                  [-1, 256]               0\n",
            "          Dropout-18                  [-1, 256]               0\n",
            "           Linear-19                    [-1, 6]           1,542\n",
            "================================================================\n",
            "Total params: 103,118,886\n",
            "Trainable params: 103,118,886\n",
            "Non-trainable params: 0\n",
            "----------------------------------------------------------------\n",
            "Input size (MB): 0.57\n",
            "Forward/backward pass size (MB): 69.70\n",
            "Params size (MB): 393.37\n",
            "Estimated Total Size (MB): 463.64\n",
            "----------------------------------------------------------------\n"
          ]
        }
      ],
      "source": [
        "from torchsummary import summary\n",
        "\n",
        "model = CMKNet().to(device)\n",
        "summary(model,input_shape)"
      ]
    },
    {
      "cell_type": "markdown",
      "id": "769ca436",
      "metadata": {
        "id": "769ca436"
      },
      "source": [
        "### Define the loss function, optimizer with L2 regularization and scheduler"
      ]
    },
    {
      "cell_type": "code",
      "execution_count": 11,
      "id": "24079f8f",
      "metadata": {
        "id": "24079f8f"
      },
      "outputs": [],
      "source": [
        "criterion = nn.CrossEntropyLoss()\n",
        "optimizer = optim.Adam(model.parameters(), lr=lr)\n",
        "lr_scheduler = optim.lr_scheduler.StepLR(optimizer, step_size=scheduler_step, gamma=scheduler_gamma)"
      ]
    },
    {
      "cell_type": "markdown",
      "id": "e86ec4b6",
      "metadata": {
        "id": "e86ec4b6"
      },
      "source": [
        "### Define training and validation functions"
      ]
    },
    {
      "cell_type": "code",
      "execution_count": 12,
      "id": "b5712f99",
      "metadata": {
        "id": "b5712f99"
      },
      "outputs": [],
      "source": [
        "def train_batch(model, data, optimizer, criterion, device):\n",
        "    optimizer.zero_grad()\n",
        "    ims, targets = data\n",
        "    ims     = ims.to(device=device)\n",
        "    targets = targets.to(device=device)\n",
        "    preds   = model(ims)\n",
        "    loss = criterion(preds, targets)\n",
        "    loss.backward()\n",
        "    optimizer.step()\n",
        "\n",
        "    return loss.item()\n",
        "\n",
        "@torch.no_grad()\n",
        "def validate(model, loader, criterion, device):\n",
        "    #loader batchsize should be 1 for validation\n",
        "    model.eval()\n",
        "    rights = 0\n",
        "    errors = 0\n",
        "    cnt = len(loader)\n",
        "    loss = 0\n",
        "    for _, data in enumerate(loader):\n",
        "        img, label = data\n",
        "        img = img.to(device)\n",
        "        label = label.to(device)\n",
        "        pred = model(img)\n",
        "        if torch.argmax(pred).item() == label.item():\n",
        "            rights += 1\n",
        "        else:\n",
        "            errors += 1\n",
        "        loss += criterion(pred, label)\n",
        "    return loss/cnt, rights/cnt # average loss and accuracy\n"
      ]
    },
    {
      "cell_type": "markdown",
      "id": "fa56b713",
      "metadata": {
        "id": "fa56b713"
      },
      "source": [
        "### Train the model and report the results"
      ]
    },
    {
      "cell_type": "code",
      "execution_count": 13,
      "id": "4df708b8",
      "metadata": {
        "colab": {
          "base_uri": "https://localhost:8080/"
        },
        "id": "4df708b8",
        "outputId": "91539b8a-e6c4-4c7b-c3da-1cefd57ead71"
      },
      "outputs": [
        {
          "output_type": "stream",
          "name": "stdout",
          "text": [
            "EPOCH: 100.000  train_loss: 0.051  val_loss: 0.394  val_acc: 0.879  best_model: 74.000  best_loss: 0.383  (180.76s - 0.00s remaining)"
          ]
        }
      ],
      "source": [
        "# initializing variables\n",
        "log      = Report(n_epochs)\n",
        "model.train()\n",
        "\n",
        "best_model = None\n",
        "best_model_loss = sys.maxsize\n",
        "\n",
        "for epoch in range(n_epochs):\n",
        "    N = len(train_loader)\n",
        "    epoch_train_loss = 0\n",
        "    for bx, data in enumerate(train_loader):\n",
        "        loss = train_batch(model, data, optimizer, criterion, device)\n",
        "        epoch_train_loss += loss\n",
        "\n",
        "    loss, acc = validate(model, val_loader, criterion, device)\n",
        "    if loss < best_model_loss:\n",
        "        torch.save(model.state_dict(), best_model_path)\n",
        "        best_model_loss = loss\n",
        "        best_model = epoch\n",
        "\n",
        "    log.record(epoch+1, train_loss=epoch_train_loss/N, val_loss=loss, val_acc=acc,\n",
        "               best_model=best_model+1, best_loss=best_model_loss, end='\\r')\n",
        "\n",
        "    lr_scheduler.step()\n"
      ]
    },
    {
      "cell_type": "markdown",
      "id": "2bf81760",
      "metadata": {
        "id": "2bf81760"
      },
      "source": [
        "### Plot the results"
      ]
    },
    {
      "cell_type": "code",
      "execution_count": 14,
      "id": "a6c4d70c",
      "metadata": {
        "id": "a6c4d70c",
        "colab": {
          "base_uri": "https://localhost:8080/",
          "height": 1000
        },
        "outputId": "fc10b7a3-fca0-494e-ce3f-eceae6fd9a96"
      },
      "outputs": [
        {
          "output_type": "stream",
          "name": "stderr",
          "text": [
            "100%|██████████| 201/201 [00:00<00:00, 10981.86it/s]\n"
          ]
        },
        {
          "output_type": "display_data",
          "data": {
            "text/plain": [
              "<Figure size 800x600 with 1 Axes>"
            ],
            "image/png": "[encoded data removed]"
          },
          "metadata": {}
        },
        {
          "output_type": "stream",
          "name": "stderr",
          "text": [
            "100%|██████████| 201/201 [00:00<00:00, 25394.76it/s]\n"
          ]
        },
        {
          "output_type": "display_data",
          "data": {
            "text/plain": [
              "<Figure size 800x600 with 1 Axes>"
            ],
            "image/png": "[encoded data removed]"
          },
          "metadata": {}
        }
      ],
      "source": [
        "log.plot_epochs(['train_loss','val_loss'])\n",
        "log.plot_epochs(['val_acc'])"
      ]
    },
    {
      "cell_type": "markdown",
      "id": "515c7457",
      "metadata": {
        "id": "515c7457"
      },
      "source": [
        "### Evaluate the model"
      ]
    },
    {
      "cell_type": "code",
      "execution_count": 15,
      "id": "f7c0b170",
      "metadata": {
        "id": "f7c0b170",
        "colab": {
          "base_uri": "https://localhost:8080/",
          "height": 33
        },
        "outputId": "08cdd6a6-0fcc-4aef-f90b-f7618a811a65"
      },
      "outputs": [
        {
          "output_type": "display_data",
          "data": {
            "text/plain": [
              "Loss: \u001b[1;36m0.205856\u001b[0m Acc: \u001b[1;36m0.933962\u001b[0m\n"
            ],
            "text/html": [
              "<pre style=\"white-space:pre;overflow-x:auto;line-height:normal;font-family:Menlo,'DejaVu Sans Mono',consolas,'Courier New',monospace\">Loss: <span style=\"color: #008080; text-decoration-color: #008080; font-weight: bold\">0.205856</span> Acc: <span style=\"color: #008080; text-decoration-color: #008080; font-weight: bold\">0.933962</span>\n",
              "</pre>\n"
            ]
          },
          "metadata": {}
        }
      ],
      "source": [
        "# load best model\n",
        "#del train_loader\n",
        "#del train_set\n",
        "#del val_loader\n",
        "#del val_set\n",
        "\n",
        "test_set = DataSet(osp.join(dataset_dir, 'test'), transforms=val_transforms)\n",
        "test_loader  = DataLoader(test_set, batch_size=1, shuffle=False)\n",
        "\n",
        "model = CMKNet()\n",
        "model.load_state_dict(torch.load(best_model_path, map_location=device))\n",
        "model.to(device)\n",
        "\n",
        "loss, acc = validate(model, test_loader, criterion, device)\n",
        "print('Loss: {:.6f} Acc: {:.6f}'.format(loss,acc))"
      ]
    }
  ],
  "metadata": {
    "accelerator": "GPU",
    "colab": {
      "gpuType": "V100",
      "provenance": []
    },
    "kernelspec": {
      "display_name": "Python 3",
      "name": "python3"
    },
    "language_info": {
      "codemirror_mode": {
        "name": "ipython",
        "version": 3
      },
      "file_extension": ".py",
      "mimetype": "text/x-python",
      "name": "python",
      "nbconvert_exporter": "python",
      "pygments_lexer": "ipython3",
      "version": "3.10.9"
    }
  },
  "nbformat": 4,
  "nbformat_minor": 5
}