{
 "cells": [
  {
   "cell_type": "code",
   "execution_count": 1,
   "id": "cb310563",
   "metadata": {},
   "outputs": [],
   "source": [
    "import torch\n",
    "from torch import nn as nn\n",
    "import math\n",
    "from glob import glob\n",
    "from torchsummary import summary\n",
    "from torch_snippets import *\n",
    "from torch.utils.data import TensorDataset, DataLoader\n",
    "from torchvision import transforms\n",
    "import torch.optim as optim\n",
    "import matplotlib.pyplot as plt\n",
    "import numpy as np\n",
    "from PIL import Image \n",
    "\n",
    "#is GPU available?\n",
    "gpu = torch.cuda.is_available()\n",
    "\n",
    "#defining device where to to the computation\n",
    "device = torch.device(0) if gpu else torch.device('cpu')"
   ]
  },
  {
   "attachments": {},
   "cell_type": "markdown",
   "id": "cbd249cf",
   "metadata": {},
   "source": [
    "### Hyperparameters"
   ]
  },
  {
   "cell_type": "code",
   "execution_count": 8,
   "id": "f405693f",
   "metadata": {},
   "outputs": [],
   "source": [
    "batchsize = 32\n",
    "n_class = 9\n",
    "input_shape = (3,224,224)\n",
    "device = 'cuda'"
   ]
  },
  {
   "attachments": {},
   "cell_type": "markdown",
   "id": "ee032879",
   "metadata": {},
   "source": [
    "### Define and load dataset\n",
    "\n",
    "Training, validation and test sets"
   ]
  },
  {
   "cell_type": "code",
   "execution_count": 2,
   "id": "8936c227",
   "metadata": {},
   "outputs": [],
   "source": [
    "import cv2\n",
    "from PIL import Image\n",
    "import os, os.path as osp\n",
    "\n",
    "def list_join_dir(dir):\n",
    "    return sorted([osp.join(dir, f) for f in os.listdir(dir)])\n",
    "\n",
    "class FishDataloader():\n",
    "    def __init__(self, set_dir, apply_mask=False) -> None:\n",
    "        self.set_dir = set_dir\n",
    "        self.apply_mask = apply_mask\n",
    "\n",
    "        self.img_dir = osp.join(set_dir, 'images')\n",
    "        self.mask_dir = osp.join(set_dir, 'masks')\n",
    "\n",
    "        self.images, self.gts = [], []\n",
    "        for img_path in list_join_dir(self.img_dir):\n",
    "            img = cv2.imread(img_path, cv2.IMREAD_COLOR)\n",
    "            img_basename = osp.basename(img_path)\n",
    "            \n",
    "            if self.apply_mask:\n",
    "                mask_path = osp.join(self.mask_dir, img_basename)\n",
    "                mask = cv2.imread(mask_path, cv2.IMREAD_GRAYSCALE)\n",
    "                img = cv2.bitwise_and(img, img, mask=mask)\n",
    "\n",
    "            self.images.append(Image.fromarray(cv2.cvtColor(img, cv2.COLOR_BGR2RGB)))\n",
    "            self.gts.append(int(img_basename.split('.')[0].split('_')[0]))\n",
    "\n",
    "    def __getitem__(self, idx):\n",
    "        return self.images[idx], self.gts[idx]\n",
    "    \n",
    "    def __len__(self):\n",
    "        return len(self.images)\n",
    "\n",
    "\n",
    "train_set = FishDataloader('./dataset/project_dataset/train')\n",
    "val_set = FishDataloader('./dataset/project_dataset/val')\n",
    "test_set = FishDataloader('./dataset/project_dataset/test')"
   ]
  },
  {
   "attachments": {},
   "cell_type": "markdown",
   "id": "57242a28",
   "metadata": {},
   "source": [
    "### Define transforms"
   ]
  },
  {
   "cell_type": "code",
   "execution_count": 3,
   "id": "977fdc0f",
   "metadata": {},
   "outputs": [],
   "source": [
    "from torchvision import transforms\n",
    "\n",
    "val_transforms = transforms.Compose([\n",
    "    transforms.Resize((224,224), interpolation=transforms.InterpolationMode.BILINEAR, \n",
    "                      max_size=None, antialias=True),\n",
    "    transforms.ToTensor(),\n",
    "    transforms.Normalize((0.485, 0.456, 0.406), (0.229, 0.224, 0.225))   \n",
    "])\n",
    "\n",
    "train_transforms = transforms.Compose([\n",
    "    transforms.Resize((224,224), interpolation=transforms.InterpolationMode.BILINEAR, \n",
    "                      max_size=None, antialias=True),\n",
    "    transforms.ToTensor(),\n",
    "    transforms.Normalize((0.485, 0.456, 0.406), (0.229, 0.224, 0.225))   \n",
    "])"
   ]
  },
  {
   "attachments": {},
   "cell_type": "markdown",
   "id": "3926653f",
   "metadata": {},
   "source": [
    "### Define dataloaders"
   ]
  },
  {
   "cell_type": "code",
   "execution_count": 4,
   "id": "c19ed814",
   "metadata": {},
   "outputs": [],
   "source": [
    "from torch.utils.data import DataLoader\n",
    "\n",
    "train_loader = DataLoader(train_set, batch_size=batchsize, shuffle=True)\n",
    "test_loader  = DataLoader(test_set, batch_size=1, shuffle=True)\n",
    "val_loader = DataLoader(val_set, batch_size=1, shuffle=True)"
   ]
  },
  {
   "attachments": {},
   "cell_type": "markdown",
   "id": "597c9c8d",
   "metadata": {},
   "source": [
    "### Define CNN architecture"
   ]
  },
  {
   "cell_type": "code",
   "execution_count": 10,
   "id": "44ce246c",
   "metadata": {},
   "outputs": [],
   "source": [
    "import torch\n",
    "from torch import nn as nn\n",
    "import math\n",
    "\n",
    "class CMKNet(nn.Module):\n",
    "    def __init__(self, dropout=0.5) -> None:\n",
    "        super().__init__()\n",
    "    \n",
    "        self.dropout = dropout\n",
    "\n",
    "        # input: 3, 224, 224\n",
    "        self.col1 = nn.Sequential(\n",
    "            self._conv_seq(3, 32, 3), # 32, 112, 112\n",
    "            self._conv_seq(32, 64, 3), # 64, 56, 56\n",
    "            self._conv_seq(64, 128, 3), # 128, 28, 28\n",
    "        )\n",
    "\n",
    "        self.col2 = nn.Sequential(\n",
    "            self._conv_seq(3, 24, 5), # 32, 112, 112\n",
    "            self._conv_seq(24, 48, 5), # 64, 56, 56\n",
    "            self._conv_seq(48, 96, 5), # 128, 28, 28\n",
    "        )\n",
    "\n",
    "        self.fuse = self._conv_seq(128+96, 32, 1) # 32, 14, 14\n",
    "\n",
    "        self.classifier = nn.Sequential(\n",
    "            self._linear_seq(32*14*14, 1024, dropout),\n",
    "            self._linear_seq(1024, 256, dropout),\n",
    "            nn.Linear(256, n_class)\n",
    "        )\n",
    "\n",
    "    def forward(self, x):\n",
    "        x1 = self.col1(x)\n",
    "        x2 = self.col2(x)\n",
    "        x = self.fuse(torch.cat((x1, x2), 1))\n",
    "        x = torch.flatten(x, 1)\n",
    "        x = self.classifier(x)\n",
    "        return x\n",
    "\n",
    "    def _fuse(self, in_channels, out_channels, kernel_size):\n",
    "        return nn.Sequential(\n",
    "            nn.Conv2d(in_channels, out_channels, kernel_size, padding=kernel_size//2, bias=False),\n",
    "            nn.BatchNorm2d(out_channels),\n",
    "            nn.ReLU()\n",
    "        )\n",
    "    \n",
    "    def _linear_seq(self, in_features, out_features, dropout):\n",
    "        return nn.Sequential(\n",
    "            nn.Linear(in_features, out_features),\n",
    "            nn.ReLU(),\n",
    "            nn.Dropout(dropout)\n",
    "        )\n",
    "        \n",
    "    def _conv_seq(self, in_channels, out_channels, kernel_size):\n",
    "        \"conv2d, batchnorm, relu, max pool\"\n",
    "        return nn.Sequential(\n",
    "            nn.Conv2d(in_channels, out_channels, kernel_size, padding=kernel_size//2, bias=False),\n",
    "            nn.BatchNorm2d(out_channels),\n",
    "            nn.ReLU(),\n",
    "            nn.MaxPool2d(kernel_size=2, stride=2)\n",
    "        )\n",
    "    \n",
    "    def _initialize_weights(self):\n",
    "        #for each submodule of our network\n",
    "        for m in self.modules():\n",
    "            if isinstance(m, nn.Conv2d):\n",
    "                #get the number of elements in the layer weights\n",
    "                n = m.kernel_size[0] * m.kernel_size[1] * m.in_channels    \n",
    "                #initialize layer weights with random values generated from a normal\n",
    "                #distribution with mean = 0 and std = sqrt(2. / n))\n",
    "                m.weight.data.normal_(mean=0, std=math.sqrt(2. / n))\n",
    "\n",
    "                if m.bias is not None:\n",
    "                    #initialize bias with 0 \n",
    "                    m.bias.data.zero_()\n",
    "            elif isinstance(m, nn.Linear):\n",
    "                #initialize layer weights with random values generated from a normal\n",
    "                #distribution with mean = 0 and std = 1/100\n",
    "                m.weight.data.normal_(mean=0, std=0.01)\n",
    "                if m.bias is not None:\n",
    "                #initialize bias with 0 \n",
    "                    m.bias.data.zero_()\n"
   ]
  },
  {
   "attachments": {},
   "cell_type": "markdown",
   "id": "43755bd1",
   "metadata": {},
   "source": [
    "### Create the model"
   ]
  },
  {
   "cell_type": "code",
   "execution_count": 11,
   "id": "b71f7ef0",
   "metadata": {},
   "outputs": [
    {
     "name": "stdout",
     "output_type": "stream",
     "text": [
      "==========================================================================================\n",
      "Layer (type:depth-idx)                   Output Shape              Param #\n",
      "==========================================================================================\n",
      "├─Sequential: 1-1                        [-1, 128, 28, 28]         --\n",
      "|    └─Sequential: 2-1                   [-1, 32, 112, 112]        --\n",
      "|    |    └─Conv2d: 3-1                  [-1, 32, 224, 224]        864\n",
      "|    |    └─BatchNorm2d: 3-2             [-1, 32, 224, 224]        64\n",
      "|    |    └─ReLU: 3-3                    [-1, 32, 224, 224]        --\n",
      "|    |    └─MaxPool2d: 3-4               [-1, 32, 112, 112]        --\n",
      "|    └─Sequential: 2-2                   [-1, 64, 56, 56]          --\n",
      "|    |    └─Conv2d: 3-5                  [-1, 64, 112, 112]        18,432\n",
      "|    |    └─BatchNorm2d: 3-6             [-1, 64, 112, 112]        128\n",
      "|    |    └─ReLU: 3-7                    [-1, 64, 112, 112]        --\n",
      "|    |    └─MaxPool2d: 3-8               [-1, 64, 56, 56]          --\n",
      "|    └─Sequential: 2-3                   [-1, 128, 28, 28]         --\n",
      "|    |    └─Conv2d: 3-9                  [-1, 128, 56, 56]         73,728\n",
      "|    |    └─BatchNorm2d: 3-10            [-1, 128, 56, 56]         256\n",
      "|    |    └─ReLU: 3-11                   [-1, 128, 56, 56]         --\n",
      "|    |    └─MaxPool2d: 3-12              [-1, 128, 28, 28]         --\n",
      "├─Sequential: 1-2                        [-1, 96, 28, 28]          --\n",
      "|    └─Sequential: 2-4                   [-1, 24, 112, 112]        --\n",
      "|    |    └─Conv2d: 3-13                 [-1, 24, 224, 224]        1,800\n",
      "|    |    └─BatchNorm2d: 3-14            [-1, 24, 224, 224]        48\n",
      "|    |    └─ReLU: 3-15                   [-1, 24, 224, 224]        --\n",
      "|    |    └─MaxPool2d: 3-16              [-1, 24, 112, 112]        --\n",
      "|    └─Sequential: 2-5                   [-1, 48, 56, 56]          --\n",
      "|    |    └─Conv2d: 3-17                 [-1, 48, 112, 112]        28,800\n",
      "|    |    └─BatchNorm2d: 3-18            [-1, 48, 112, 112]        96\n",
      "|    |    └─ReLU: 3-19                   [-1, 48, 112, 112]        --\n",
      "|    |    └─MaxPool2d: 3-20              [-1, 48, 56, 56]          --\n",
      "|    └─Sequential: 2-6                   [-1, 96, 28, 28]          --\n",
      "|    |    └─Conv2d: 3-21                 [-1, 96, 56, 56]          115,200\n",
      "|    |    └─BatchNorm2d: 3-22            [-1, 96, 56, 56]          192\n",
      "|    |    └─ReLU: 3-23                   [-1, 96, 56, 56]          --\n",
      "|    |    └─MaxPool2d: 3-24              [-1, 96, 28, 28]          --\n",
      "├─Sequential: 1-3                        [-1, 32, 14, 14]          --\n",
      "|    └─Conv2d: 2-7                       [-1, 32, 28, 28]          7,168\n",
      "|    └─BatchNorm2d: 2-8                  [-1, 32, 28, 28]          64\n",
      "|    └─ReLU: 2-9                         [-1, 32, 28, 28]          --\n",
      "|    └─MaxPool2d: 2-10                   [-1, 32, 14, 14]          --\n",
      "├─Sequential: 1-4                        [-1, 9]                   --\n",
      "|    └─Sequential: 2-11                  [-1, 1024]                --\n",
      "|    |    └─Linear: 3-25                 [-1, 1024]                6,423,552\n",
      "|    |    └─ReLU: 3-26                   [-1, 1024]                --\n",
      "|    |    └─Dropout: 3-27                [-1, 1024]                --\n",
      "|    └─Sequential: 2-12                  [-1, 256]                 --\n",
      "|    |    └─Linear: 3-28                 [-1, 256]                 262,400\n",
      "|    |    └─ReLU: 3-29                   [-1, 256]                 --\n",
      "|    |    └─Dropout: 3-30                [-1, 256]                 --\n",
      "|    └─Linear: 2-13                      [-1, 9]                   2,313\n",
      "==========================================================================================\n",
      "Total params: 6,935,105\n",
      "Trainable params: 6,935,105\n",
      "Non-trainable params: 0\n",
      "Total mult-adds (G): 1.34\n",
      "==========================================================================================\n",
      "Input size (MB): 0.57\n",
      "Forward/backward pass size (MB): 75.42\n",
      "Params size (MB): 26.46\n",
      "Estimated Total Size (MB): 102.45\n",
      "==========================================================================================\n"
     ]
    },
    {
     "data": {
      "text/plain": [
       "==========================================================================================\n",
       "Layer (type:depth-idx)                   Output Shape              Param #\n",
       "==========================================================================================\n",
       "├─Sequential: 1-1                        [-1, 128, 28, 28]         --\n",
       "|    └─Sequential: 2-1                   [-1, 32, 112, 112]        --\n",
       "|    |    └─Conv2d: 3-1                  [-1, 32, 224, 224]        864\n",
       "|    |    └─BatchNorm2d: 3-2             [-1, 32, 224, 224]        64\n",
       "|    |    └─ReLU: 3-3                    [-1, 32, 224, 224]        --\n",
       "|    |    └─MaxPool2d: 3-4               [-1, 32, 112, 112]        --\n",
       "|    └─Sequential: 2-2                   [-1, 64, 56, 56]          --\n",
       "|    |    └─Conv2d: 3-5                  [-1, 64, 112, 112]        18,432\n",
       "|    |    └─BatchNorm2d: 3-6             [-1, 64, 112, 112]        128\n",
       "|    |    └─ReLU: 3-7                    [-1, 64, 112, 112]        --\n",
       "|    |    └─MaxPool2d: 3-8               [-1, 64, 56, 56]          --\n",
       "|    └─Sequential: 2-3                   [-1, 128, 28, 28]         --\n",
       "|    |    └─Conv2d: 3-9                  [-1, 128, 56, 56]         73,728\n",
       "|    |    └─BatchNorm2d: 3-10            [-1, 128, 56, 56]         256\n",
       "|    |    └─ReLU: 3-11                   [-1, 128, 56, 56]         --\n",
       "|    |    └─MaxPool2d: 3-12              [-1, 128, 28, 28]         --\n",
       "├─Sequential: 1-2                        [-1, 96, 28, 28]          --\n",
       "|    └─Sequential: 2-4                   [-1, 24, 112, 112]        --\n",
       "|    |    └─Conv2d: 3-13                 [-1, 24, 224, 224]        1,800\n",
       "|    |    └─BatchNorm2d: 3-14            [-1, 24, 224, 224]        48\n",
       "|    |    └─ReLU: 3-15                   [-1, 24, 224, 224]        --\n",
       "|    |    └─MaxPool2d: 3-16              [-1, 24, 112, 112]        --\n",
       "|    └─Sequential: 2-5                   [-1, 48, 56, 56]          --\n",
       "|    |    └─Conv2d: 3-17                 [-1, 48, 112, 112]        28,800\n",
       "|    |    └─BatchNorm2d: 3-18            [-1, 48, 112, 112]        96\n",
       "|    |    └─ReLU: 3-19                   [-1, 48, 112, 112]        --\n",
       "|    |    └─MaxPool2d: 3-20              [-1, 48, 56, 56]          --\n",
       "|    └─Sequential: 2-6                   [-1, 96, 28, 28]          --\n",
       "|    |    └─Conv2d: 3-21                 [-1, 96, 56, 56]          115,200\n",
       "|    |    └─BatchNorm2d: 3-22            [-1, 96, 56, 56]          192\n",
       "|    |    └─ReLU: 3-23                   [-1, 96, 56, 56]          --\n",
       "|    |    └─MaxPool2d: 3-24              [-1, 96, 28, 28]          --\n",
       "├─Sequential: 1-3                        [-1, 32, 14, 14]          --\n",
       "|    └─Conv2d: 2-7                       [-1, 32, 28, 28]          7,168\n",
       "|    └─BatchNorm2d: 2-8                  [-1, 32, 28, 28]          64\n",
       "|    └─ReLU: 2-9                         [-1, 32, 28, 28]          --\n",
       "|    └─MaxPool2d: 2-10                   [-1, 32, 14, 14]          --\n",
       "├─Sequential: 1-4                        [-1, 9]                   --\n",
       "|    └─Sequential: 2-11                  [-1, 1024]                --\n",
       "|    |    └─Linear: 3-25                 [-1, 1024]                6,423,552\n",
       "|    |    └─ReLU: 3-26                   [-1, 1024]                --\n",
       "|    |    └─Dropout: 3-27                [-1, 1024]                --\n",
       "|    └─Sequential: 2-12                  [-1, 256]                 --\n",
       "|    |    └─Linear: 3-28                 [-1, 256]                 262,400\n",
       "|    |    └─ReLU: 3-29                   [-1, 256]                 --\n",
       "|    |    └─Dropout: 3-30                [-1, 256]                 --\n",
       "|    └─Linear: 2-13                      [-1, 9]                   2,313\n",
       "==========================================================================================\n",
       "Total params: 6,935,105\n",
       "Trainable params: 6,935,105\n",
       "Non-trainable params: 0\n",
       "Total mult-adds (G): 1.34\n",
       "==========================================================================================\n",
       "Input size (MB): 0.57\n",
       "Forward/backward pass size (MB): 75.42\n",
       "Params size (MB): 26.46\n",
       "Estimated Total Size (MB): 102.45\n",
       "=========================================================================================="
      ]
     },
     "execution_count": 11,
     "metadata": {},
     "output_type": "execute_result"
    }
   ],
   "source": [
    "from torchsummary import summary\n",
    "\n",
    "model = CMKNet().to(device)\n",
    "summary(model,input_shape)"
   ]
  },
  {
   "attachments": {},
   "cell_type": "markdown",
   "id": "769ca436",
   "metadata": {},
   "source": [
    "### Define the loss function with L2 regularization"
   ]
  },
  {
   "cell_type": "code",
   "execution_count": 9,
   "id": "03fdf2f7",
   "metadata": {},
   "outputs": [],
   "source": [
    "def Criterion(model, preds, targets):\n",
    "    ce            = nn.CrossEntropyLoss().to(device)\n",
    "    loss          = ce(preds, targets.long()) \n",
    "    # add l2_regularization            \n",
    "    l2_regularization = 0\n",
    "    for param in model.parameters():\n",
    "        l2_regularization += torch.norm(param,2)\n",
    "    loss += 0.0001*l2_regularization # 0.0001 is the weight_decay\n",
    "    # compute mean accuracy in the batch\n",
    "    pred_labels   = torch.max(preds, 1)[1] # same as argmax\n",
    "    acc           = torch.sum(pred_labels == targets.data)\n",
    "    n             = pred_labels.size(0)\n",
    "    acc           = acc/n\n",
    "    return loss, acc\n",
    "\n",
    "\n",
    "criterion = Criterion"
   ]
  },
  {
   "attachments": {},
   "cell_type": "markdown",
   "id": "d966a000",
   "metadata": {},
   "source": [
    "### Define optimizer and learning scheduler"
   ]
  },
  {
   "cell_type": "code",
   "execution_count": 10,
   "id": "b3ce18a3",
   "metadata": {},
   "outputs": [],
   "source": [
    "optimizer    = optim.Adam(model.parameters(), lr=1e-5)\n",
    "# gamma=0.1 is a multiplicative factor for lr decay at every epoch\n",
    "# lr_scheduler = optim.lr_scheduler.ExponentialLR(optimizer, 0.1)\n",
    "# gamma=0.1 is a multiplicative factor for lr decay at every step_size=number of epochs\n",
    "lr_scheduler = optim.lr_scheduler.StepLR(optimizer, step_size=25, gamma=0.1)"
   ]
  },
  {
   "attachments": {},
   "cell_type": "markdown",
   "id": "ec32581c",
   "metadata": {},
   "source": [
    "### Clean up memory if needed"
   ]
  },
  {
   "cell_type": "code",
   "execution_count": 11,
   "id": "8c313055",
   "metadata": {},
   "outputs": [],
   "source": [
    "import gc\n",
    "#del trainset, validset, testset\n",
    "gc.collect()\n",
    "torch.cuda.empty_cache()"
   ]
  },
  {
   "attachments": {},
   "cell_type": "markdown",
   "id": "e86ec4b6",
   "metadata": {},
   "source": [
    "### Define training and validation functions"
   ]
  },
  {
   "cell_type": "code",
   "execution_count": 12,
   "id": "b5712f99",
   "metadata": {},
   "outputs": [],
   "source": [
    "def train_batch(model, data, optimizer, criterion, device):\n",
    "    model.train()\n",
    "    ims, targets = data\n",
    "    ims     = ims.to(device=device)\n",
    "    targets = targets.to(device=device)\n",
    "    preds   = model(ims)\n",
    "    loss, acc = criterion(model, preds, targets)\n",
    "    loss.backward()\n",
    "    optimizer.step()\n",
    "    optimizer.zero_grad()\n",
    "\n",
    "    return loss.item(), acc.item()\n",
    "\n",
    "@torch.no_grad()\n",
    "def validate_batch(model, data, criterion, device):\n",
    "    model.eval()\n",
    "    ims, targets = data\n",
    "    ims     = ims.to(device=device)\n",
    "    targets = targets.to(device=device)\n",
    "    preds   = model(ims)\n",
    "    loss, acc = criterion(model, preds, targets)\n",
    "    return loss.item(), acc.item()"
   ]
  },
  {
   "attachments": {},
   "cell_type": "markdown",
   "id": "fa56b713",
   "metadata": {},
   "source": [
    "### Train the model and report the results"
   ]
  },
  {
   "cell_type": "code",
   "execution_count": 13,
   "id": "4df708b8",
   "metadata": {},
   "outputs": [
    {
     "name": "stdout",
     "output_type": "stream",
     "text": [
      "EPOCH: 10.000\ttrn_loss: 0.392\ttrn_acc: 0.887\tval_loss: 0.493\tval_acc: 0.827\t(21.42s - 192.79s remaining)\n",
      "EPOCH: 20.000\ttrn_loss: 0.249\ttrn_acc: 0.929\tval_loss: 0.379\tval_acc: 0.850\t(42.73s - 170.92s remaining)\n",
      "EPOCH: 30.000\ttrn_loss: 0.244\ttrn_acc: 0.954\tval_loss: 0.287\tval_acc: 0.891\t(64.04s - 149.42s remaining)\n",
      "EPOCH: 40.000\ttrn_loss: 0.213\ttrn_acc: 0.942\tval_loss: 0.295\tval_acc: 0.866\t(85.44s - 128.16s remaining)\n",
      "EPOCH: 50.000\ttrn_loss: 0.188\ttrn_acc: 0.961\tval_loss: 0.308\tval_acc: 0.891\t(106.72s - 106.72s remaining)\n",
      "EPOCH: 60.000\ttrn_loss: 0.163\ttrn_acc: 0.988\tval_loss: 0.322\tval_acc: 0.858\t(128.03s - 85.35s remaining)\n",
      "EPOCH: 70.000\ttrn_loss: 0.203\ttrn_acc: 0.944\tval_loss: 0.299\tval_acc: 0.858\t(149.77s - 64.19s remaining)\n",
      "EPOCH: 80.000\ttrn_loss: 0.213\ttrn_acc: 0.944\tval_loss: 0.308\tval_acc: 0.866\t(170.83s - 42.71s remaining)\n",
      "EPOCH: 90.000\ttrn_loss: 0.204\ttrn_acc: 0.954\tval_loss: 0.312\tval_acc: 0.873\t(192.06s - 21.34s remaining)\n",
      "EPOCH: 100.000\ttrn_loss: 0.164\ttrn_acc: 0.950\tval_loss: 0.300\tval_acc: 0.850\t(213.24s - 0.00s remaining)\n"
     ]
    }
   ],
   "source": [
    "# initializing variables\n",
    "n_epochs = 100\n",
    "log      = Report(n_epochs)\n",
    "\n",
    "# starting training and validation\n",
    "for ex in range(n_epochs):\n",
    "    N = len(trainload)\n",
    "    for bx, data in enumerate(trainload):\n",
    "        loss, acc = train_batch(model, data, optimizer, criterion, device)\n",
    "        #report results for the batch\n",
    "        log.record((ex+(bx+1)/N), trn_loss=loss, trn_acc=acc, end='\\r')\n",
    "\n",
    "    N = len(validload)\n",
    "    for bx, data in enumerate(validload):\n",
    "        loss, acc = validate_batch(model, data, criterion, device)\n",
    "        log.record((ex+(bx+1)/N), val_loss=loss, val_acc=acc, end='\\r')\n",
    "\n",
    "    if (ex+1)%10==0: log.report_avgs(ex+1)\n",
    "    #count epochs for auto-adjusting the learning rate\n",
    "    lr_scheduler.step()"
   ]
  },
  {
   "attachments": {},
   "cell_type": "markdown",
   "id": "2bf81760",
   "metadata": {},
   "source": [
    "### Plot the results"
   ]
  },
  {
   "cell_type": "code",
   "execution_count": 14,
   "id": "a6c4d70c",
   "metadata": {},
   "outputs": [
    {
     "name": "stderr",
     "output_type": "stream",
     "text": [
      "100%|██████████████████████████████████████| 201/201 [00:00<00:00, 11097.21it/s]\n"
     ]
    },
    {
     "data": {
      "image/png": "[encoded data removed]",
      "text/plain": [
       "<Figure size 576x432 with 1 Axes>"
      ]
     },
     "metadata": {
      "needs_background": "light"
     },
     "output_type": "display_data"
    },
    {
     "name": "stderr",
     "output_type": "stream",
     "text": [
      "100%|██████████████████████████████████████| 201/201 [00:00<00:00, 10461.69it/s]\n"
     ]
    },
    {
     "data": {
      "image/png": "[encoded data removed]",
      "text/plain": [
       "<Figure size 576x432 with 1 Axes>"
      ]
     },
     "metadata": {
      "needs_background": "light"
     },
     "output_type": "display_data"
    }
   ],
   "source": [
    "log.plot_epochs(['trn_loss','val_loss'])\n",
    "log.plot_epochs(['trn_acc','val_acc'])"
   ]
  },
  {
   "attachments": {},
   "cell_type": "markdown",
   "id": "515c7457",
   "metadata": {},
   "source": [
    "### Evaluate the model"
   ]
  },
  {
   "cell_type": "code",
   "execution_count": 15,
   "id": "f7c0b170",
   "metadata": {},
   "outputs": [
    {
     "name": "stdout",
     "output_type": "stream",
     "text": [
      "Loss: 0.287021 Acc: 0.907670\n"
     ]
    }
   ],
   "source": [
    "def Test(model, testload, criterion, device):\n",
    "    N = len(testload)\n",
    "    mean_loss = 0\n",
    "    mean_acc  = 0\n",
    "    for bx, data in enumerate(testload):\n",
    "        loss, acc  = validate_batch(model, data, criterion, device)\n",
    "        mean_loss += loss\n",
    "        mean_acc  += acc\n",
    "    \n",
    "    mean_loss = mean_loss / N\n",
    "    mean_acc  = mean_acc / N\n",
    "    return(mean_loss, mean_acc)\n",
    "\n",
    "(loss, acc) = Test(model, testload, criterion, device)\n",
    "print('Loss: {:.6f} Acc: {:.6f}'.format(loss,acc))"
   ]
  },
  {
   "attachments": {},
   "cell_type": "markdown",
   "id": "c4508984",
   "metadata": {},
   "source": [
    "### Save the model"
   ]
  },
  {
   "cell_type": "code",
   "execution_count": 16,
   "id": "ccfb539f",
   "metadata": {},
   "outputs": [],
   "source": [
    "torch.save(model.to('cpu').state_dict(), model_name)"
   ]
  },
  {
   "attachments": {},
   "cell_type": "markdown",
   "id": "2a343d68",
   "metadata": {},
   "source": [
    "#### Exercise: Play with optimizers, network architecture and hyperparameters to improve results without underfitting and overfitting. Note that you are using data augmentation, which might requires more epochs and lower learning rates for convergence. Verify preprocessing with no data augmentation and less training samples with data augmentation. "
   ]
  }
 ],
 "metadata": {
  "kernelspec": {
   "display_name": "Python 3 (ipykernel)",
   "language": "python",
   "name": "python3"
  },
  "language_info": {
   "codemirror_mode": {
    "name": "ipython",
    "version": 3
   },
   "file_extension": ".py",
   "mimetype": "text/x-python",
   "name": "python",
   "nbconvert_exporter": "python",
   "pygments_lexer": "ipython3",
   "version": "3.10.9"
  }
 },
 "nbformat": 4,
 "nbformat_minor": 5
}
