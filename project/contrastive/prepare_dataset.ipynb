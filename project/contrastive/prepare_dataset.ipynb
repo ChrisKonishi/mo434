{
 "cells": [
  {
   "cell_type": "code",
   "execution_count": 2,
   "metadata": {},
   "outputs": [],
   "source": [
    "training_frac = 0.4 # use only 40% of files\n",
    "dataset_dir = '../dataset/project_dataset_corel'\n",
    "n_folds = 3\n",
    "\n",
    "seed = 1234"
   ]
  },
  {
   "cell_type": "code",
   "execution_count": 2,
   "metadata": {},
   "outputs": [],
   "source": [
    "import os, os.path as osp\n",
    "from sklearn.model_selection import train_test_split\n",
    "from collections import defaultdict\n",
    "import itertools\n",
    "import random\n",
    "import pandas as pd\n",
    "\n",
    "\n",
    "def list_join_dir(dir):\n",
    "    return sorted([osp.join(dir, f) for f in os.listdir(dir)])\n",
    "\n",
    "def list_images_gts(img_dir, reduce_factor=None):\n",
    "    images, gts = [], []\n",
    "    for img_path in os.listdir(img_dir):\n",
    "        img_basename = osp.basename(img_path)\n",
    "        class_id = int(img_basename.split('.')[0].split('_')[0])\n",
    "        images.append(img_path)\n",
    "        gts.append(class_id)\n",
    "    \n",
    "    if reduce_factor:\n",
    "        images, _, gts, _ = train_test_split(images, gts, test_size=reduce_factor, stratify=gts, random_state=1234)\n",
    "\n",
    "    return images, gts\n",
    "\n",
    "def create_img_pairs(imgs, gts):\n",
    "    generator = random.Random(seed)\n",
    "    img_per_class = defaultdict(list)\n",
    "    for idx, (img, gt) in enumerate(zip(imgs, gts)):\n",
    "        img_per_class[gt].append(img)\n",
    "    \n",
    "    pair_files = []\n",
    "    pair_labels = [] # 0 for same label, 1 otherwise\n",
    "    # same label\n",
    "    for label, value in img_per_class.items():\n",
    "        pair_files += list(itertools.combinations(value, 2))\n",
    "    same_len = len(pair_files)\n",
    "    pair_labels = [0 for i in range(same_len)]\n",
    "\n",
    "    weight_per_first_img_gt = defaultdict(list)\n",
    "    for label, value in img_per_class.items():\n",
    "        for img, gt in zip(imgs, gts):\n",
    "            w = 0 if gt==label else len(img_per_class[gt])\n",
    "            weight_per_first_img_gt[label].append(w)\n",
    "    # different label\n",
    "    first_imgs = generator.choices(list(zip(imgs, gts)), k=same_len)\n",
    "    for (f_img, f_gt) in first_imgs:\n",
    "        s_img = generator.choices(imgs, weights=weight_per_first_img_gt[f_gt])[0]\n",
    "        pair_files.append((f_img, s_img))\n",
    "    pair_labels += [1 for i in range(same_len)]\n",
    "\n",
    "    return pair_files, pair_labels\n",
    "\n",
    "def prepare_fold(fold_dir):\n",
    "    def prepare_dir(dir, reduce_factor):\n",
    "        imgs, gts = list_images_gts(dir, reduce_factor=reduce_factor)\n",
    "        pair_files, pair_labels = create_img_pairs(imgs, gts)\n",
    "\n",
    "        df = pd.DataFrame(pair_files, columns=['img_1', 'img_2'])\n",
    "        df['label'] = pair_labels\n",
    "        return df\n",
    "    def to_csv(df, name):\n",
    "        df.to_csv(osp.join(fold_dir, name), header=None, index=False)\n",
    "\n",
    "    df_train = prepare_dir(osp.join(fold_dir, 'train'), 1-training_frac)\n",
    "    df_val = prepare_dir(osp.join(fold_dir, 'val'), None)\n",
    "    df_test = prepare_dir(osp.join(fold_dir, 'test'), None)\n",
    "\n",
    "    to_csv(df_train, 'ct_train.csv')\n",
    "    to_csv(df_val, 'ct_val.csv')\n",
    "    to_csv(df_test, 'ct_test.csv')\n"
   ]
  },
  {
   "cell_type": "code",
   "execution_count": 3,
   "metadata": {},
   "outputs": [],
   "source": [
    "for fold in range(n_folds):\n",
    "    prepare_fold(osp.join(dataset_dir, f'fold{fold}'))"
   ]
  },
  {
   "cell_type": "code",
   "execution_count": 7,
   "metadata": {},
   "outputs": [],
   "source": [
    "import pandas as pd\n",
    "import typing\n",
    "import os.path as osp\n",
    "from PIL import Image\n",
    "\n",
    "class CtDataset():\n",
    "    def __init__(self, fold_dir, mode: typing.Literal['test', 'val', 'train'], transforms=None) -> None:\n",
    "        self.fold_dir = fold_dir\n",
    "        self.mode = mode\n",
    "        self.transforms = transforms\n",
    "\n",
    "        self.img_dir = osp.join(fold_dir, mode)\n",
    "        self.pair_df = pd.read_csv(osp.join(fold_dir, f'ct_{self.mode}.csv'), header=None)\n",
    "\n",
    "        self.img_dict = {}\n",
    "        img_list = pd.concat((self.pair_df[0], self.pair_df[1]), ignore_index=True).drop_duplicates().reset_index(drop=True)\n",
    "\n",
    "        for idx, item in img_list.items():\n",
    "            img_path = osp.join(self.img_dir, item)\n",
    "            img = Image.open(img_path)\n",
    "            self.img_dict[item] = img\n",
    "        \n",
    "    def __len__(self):\n",
    "        return len(self.pair_df)\n",
    "    \n",
    "    def __getitem__(self, idx):\n",
    "        pair = self.pair_df.loc[idx, :]\n",
    "        img1 = self.img_dict[pair[0]]\n",
    "        img2 = self.img_dict[pair[1]]\n",
    "        if self.transforms:\n",
    "            img1 = self.transforms(img1)\n",
    "            img2 = self.transforms(img2)\n",
    "        return img1, img2, pair[2]\n"
   ]
  },
  {
   "cell_type": "code",
   "execution_count": 17,
   "metadata": {},
   "outputs": [
    {
     "name": "stdout",
     "output_type": "stream",
     "text": [
      "(<PIL.PngImagePlugin.PngImageFile image mode=RGB size=224x224 at 0x7F5652FCC6A0>, <PIL.PngImagePlugin.PngImageFile image mode=RGB size=224x224 at 0x7F5652FCC430>, 0)\n",
      "(<PIL.PngImagePlugin.PngImageFile image mode=RGB size=224x224 at 0x7F5652FCCA60>, <PIL.PngImagePlugin.PngImageFile image mode=RGB size=224x224 at 0x7F5652FCD840>, 1)\n"
     ]
    }
   ],
   "source": [
    "d = CtDataset(osp.join(dataset_dir, 'fold0'), 'train')\n",
    "print(d[0])\n",
    "print(d[500])"
   ]
  },
  {
   "cell_type": "code",
   "execution_count": 16,
   "metadata": {},
   "outputs": [
    {
     "data": {
      "text/plain": [
       "(<PIL.PngImagePlugin.PngImageFile image mode=RGB size=224x224>,\n",
       " <PIL.PngImagePlugin.PngImageFile image mode=RGB size=224x224>,\n",
       " 0)"
      ]
     },
     "execution_count": 16,
     "metadata": {},
     "output_type": "execute_result"
    }
   ],
   "source": []
  }
 ],
 "metadata": {
  "kernelspec": {
   "display_name": "mo434",
   "language": "python",
   "name": "python3"
  },
  "language_info": {
   "codemirror_mode": {
    "name": "ipython",
    "version": 3
   },
   "file_extension": ".py",
   "mimetype": "text/x-python",
   "name": "python",
   "nbconvert_exporter": "python",
   "pygments_lexer": "ipython3",
   "version": "3.10.9"
  },
  "orig_nbformat": 4
 },
 "nbformat": 4,
 "nbformat_minor": 2
}
